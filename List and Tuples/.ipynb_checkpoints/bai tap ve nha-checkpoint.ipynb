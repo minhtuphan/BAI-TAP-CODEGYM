{
 "cells": [
  {
   "cell_type": "code",
   "execution_count": null,
   "id": "f0005a53",
   "metadata": {},
   "outputs": [],
   "source": [
    "# bài 1: tìm số nhỏ nhất và lớn nhất của list\n",
    "while True:\n",
    "    num = int(input(\"Nhập số phần tử của list : \"))\n",
    "    if num > 2:\n",
    "        break\n",
    "mylist = []\n",
    "for i in range(num):\n",
    "    val = int(input(\"Nhập giá trị: \"))\n",
    "    mylist.append(val)\n",
    "a = max(mylist)    \n",
    "b = min(mylist)  \n",
    "print(f\"số lớn nhất là {a} và số nhỏ nhẩt là {b}\")\n"
   ]
  },
  {
   "cell_type": "code",
   "execution_count": null,
   "id": "22bf1023",
   "metadata": {},
   "outputs": [],
   "source": [
    "# bài 2: tính tổng các số armstrong"
   ]
  },
  {
   "cell_type": "code",
   "execution_count": null,
   "id": "51d1048c",
   "metadata": {},
   "outputs": [],
   "source": [
    "# bài 3: tìm list chuỗi có ký tự đầu bằng ký tự cuối\n",
    "mylist = ['abc', 'xyz', 'g', 'aba', '1221']"
   ]
  }
 ],
 "metadata": {
  "kernelspec": {
   "display_name": "Python 3 (ipykernel)",
   "language": "python",
   "name": "python3"
  },
  "language_info": {
   "codemirror_mode": {
    "name": "ipython",
    "version": 3
   },
   "file_extension": ".py",
   "mimetype": "text/x-python",
   "name": "python",
   "nbconvert_exporter": "python",
   "pygments_lexer": "ipython3",
   "version": "3.9.12"
  }
 },
 "nbformat": 4,
 "nbformat_minor": 5
}
