{
 "cells": [
  {
   "cell_type": "code",
   "execution_count": 1,
   "id": "eea8b213",
   "metadata": {},
   "outputs": [
    {
     "name": "stdout",
     "output_type": "stream",
     "text": [
      "Nhập số phần tử của list : 6\n",
      "Nhập giá trị: 36\n",
      "Nhập giá trị: 482\n",
      "Nhập giá trị: 48621\n",
      "Nhập giá trị: 548\n",
      "Nhập giá trị: 543923\n",
      "Nhập giá trị: 5716\n",
      "[36, 482, 48621, 548, 543923, 5716]\n",
      "[36, 482, 548, 5716, 48621, 543923]\n",
      "hai số lớn nhất của list là: 543923 và 48621\n"
     ]
    }
   ],
   "source": [
    "while True:\n",
    "    num = int(input(\"Nhập số phần tử của list : \"))\n",
    "    if num > 2:\n",
    "        break\n",
    "mylist = []\n",
    "for i in range(num):\n",
    "    val = int(input(\"Nhập giá trị: \"))\n",
    "    mylist.append(val)\n",
    "print(mylist)\n",
    "mylist.sort()\n",
    "print(mylist)\n",
    "a = mylist[-1]\n",
    "b = mylist[-2]\n",
    "print(f\"hai số lớn nhất của list là: {a} và {b}\")"
   ]
  },
  {
   "cell_type": "code",
   "execution_count": null,
   "id": "37908beb",
   "metadata": {},
   "outputs": [],
   "source": []
  },
  {
   "cell_type": "code",
   "execution_count": null,
   "id": "dae5b72a",
   "metadata": {},
   "outputs": [],
   "source": []
  }
 ],
 "metadata": {
  "kernelspec": {
   "display_name": "Python 3 (ipykernel)",
   "language": "python",
   "name": "python3"
  },
  "language_info": {
   "codemirror_mode": {
    "name": "ipython",
    "version": 3
   },
   "file_extension": ".py",
   "mimetype": "text/x-python",
   "name": "python",
   "nbconvert_exporter": "python",
   "pygments_lexer": "ipython3",
   "version": "3.9.12"
  }
 },
 "nbformat": 4,
 "nbformat_minor": 5
}
