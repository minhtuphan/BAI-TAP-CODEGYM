{
 "cells": [
  {
   "cell_type": "code",
   "execution_count": null,
   "id": "79bbcce4",
   "metadata": {},
   "outputs": [],
   "source": [
    "import turtle\n",
    "t=turtle.Turtle()\n",
    "# ve hinh vuong so 1\n",
    "t.forward(90)\n",
    "t.right(90)\n",
    "t.forward(90)\n",
    "t.right(90)\n",
    "t.forward(90)\n",
    "t.right(90)\n",
    "t.forward(90)\n",
    "# ve hinh vuong so 2\n",
    "t.right(90)\n",
    "t.forward(30)\n",
    "t.left(45)\n",
    "t.forward(30)\n",
    "t.right(90)\n",
    "t.forward(90)\n",
    "t.right(90)\n",
    "t.forward(90)\n",
    "t.right(90)\n",
    "t.forward(90)\n",
    "t.right(90)\n",
    "t.forward(60)\n",
    "turtle.done()"
   ]
  }
 ],
 "metadata": {
  "kernelspec": {
   "display_name": "Python 3 (ipykernel)",
   "language": "python",
   "name": "python3"
  },
  "language_info": {
   "codemirror_mode": {
    "name": "ipython",
    "version": 3
   },
   "file_extension": ".py",
   "mimetype": "text/x-python",
   "name": "python",
   "nbconvert_exporter": "python",
   "pygments_lexer": "ipython3",
   "version": "3.9.12"
  }
 },
 "nbformat": 4,
 "nbformat_minor": 5
}
