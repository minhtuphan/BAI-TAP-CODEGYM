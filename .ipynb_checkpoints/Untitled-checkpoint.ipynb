{
 "cells": [
  {
   "cell_type": "code",
   "execution_count": 1,
   "id": "f2a8ea2e",
   "metadata": {},
   "outputs": [
    {
     "name": "stdout",
     "output_type": "stream",
     "text": [
      "1\n",
      "2\n",
      "4\n"
     ]
    }
   ],
   "source": [
    "if 'bar' in {'foo': 1, 'bar': 2, 'baz': 3}:\n",
    "\n",
    "    print(1)\n",
    "\n",
    "    print(2)\n",
    "\n",
    "    if 'a' in 'qux':\n",
    "\n",
    "        print(3)\n",
    "\n",
    "print(4)"
   ]
  },
  {
   "cell_type": "code",
   "execution_count": 2,
   "id": "eb86542c",
   "metadata": {},
   "outputs": [
    {
     "name": "stdout",
     "output_type": "stream",
     "text": [
      "Tam giác thường\n"
     ]
    }
   ],
   "source": [
    "x = 5\n",
    "\n",
    "y = 7\n",
    "\n",
    "z = 10\n",
    "\n",
    "result = \"Tam giác đều\" if x == y == z else \"Tam giác cân\" if x==y or y==z or z==x else \"Tam giác thường\"\n",
    "\n",
    "print(result)"
   ]
  },
  {
   "cell_type": "code",
   "execution_count": 3,
   "id": "22d1ab45",
   "metadata": {},
   "outputs": [
    {
     "name": "stdout",
     "output_type": "stream",
     "text": [
      "12 18\n"
     ]
    }
   ],
   "source": [
    "a = 12\n",
    "\n",
    "b = 15\n",
    "\n",
    "c = 18\n",
    "\n",
    "if a%2==0:\n",
    "\n",
    "    if b%c == 1:\n",
    "\n",
    "        c-=5\n",
    "\n",
    "        b+=12\n",
    "\n",
    "    if c%a == 6:\n",
    "\n",
    "        b-=13\n",
    "\n",
    "    else:\n",
    "\n",
    "        a=b=c=0\n",
    "\n",
    "print(a,c)"
   ]
  },
  {
   "cell_type": "code",
   "execution_count": 4,
   "id": "3d8bbf04",
   "metadata": {},
   "outputs": [
    {
     "name": "stdout",
     "output_type": "stream",
     "text": [
      "914a\n"
     ]
    }
   ],
   "source": [
    "i = 0\n",
    "\n",
    "j = 20\n",
    "\n",
    "while True:\n",
    "\n",
    "    j -= 2\n",
    "\n",
    "    i += 3\n",
    "\n",
    "    if i >= j:\n",
    "\n",
    "        break\n",
    "\n",
    "    if j > 15:\n",
    "\n",
    "        continue\n",
    "\n",
    "    print(i, j, sep=\"\", end=\"\")\n",
    "\n",
    "else:\n",
    "\n",
    "    print(j, end=\"\")\n",
    "\n",
    "print('a')"
   ]
  },
  {
   "cell_type": "code",
   "execution_count": 6,
   "id": "69f5ad32",
   "metadata": {},
   "outputs": [
    {
     "name": "stdout",
     "output_type": "stream",
     "text": [
      "10 3\n",
      "11 2\n",
      "12 11\n",
      "13 2\n"
     ]
    }
   ],
   "source": [
    "for num in range(10, 14):\n",
    "\n",
    "    for i in range(2, num):\n",
    "\n",
    "        if num%i == 1:\n",
    "            print(num, i)\n",
    "            break"
   ]
  },
  {
   "cell_type": "code",
   "execution_count": 7,
   "id": "21e1e9a1",
   "metadata": {},
   "outputs": [
    {
     "name": "stdout",
     "output_type": "stream",
     "text": [
      "Here\n"
     ]
    }
   ],
   "source": [
    "for x in range(4):\n",
    "\n",
    "    x+=1\n",
    "\n",
    "    if x % 2 == 0:\n",
    "        continue\n",
    "        print(x)\n",
    "        print(\"x\")\n",
    "\n",
    "else:\n",
    "\n",
    "    print(\"Here\")"
   ]
  },
  {
   "cell_type": "code",
   "execution_count": 9,
   "id": "2223e259",
   "metadata": {},
   "outputs": [
    {
     "name": "stdout",
     "output_type": "stream",
     "text": [
      "9 18 3\n"
     ]
    }
   ],
   "source": [
    "def cal(a, b=3):\n",
    "\n",
    "    sum = a + b\n",
    "\n",
    "    sub = a - b\n",
    "\n",
    "    mul = a * b\n",
    "\n",
    "    return sum, sub, mul\n",
    "\n",
    "s, sub, mul = cal(6)\n",
    "\n",
    "print(s, mul, sub)"
   ]
  },
  {
   "cell_type": "code",
   "execution_count": 14,
   "id": "77896533",
   "metadata": {},
   "outputs": [
    {
     "name": "stdout",
     "output_type": "stream",
     "text": [
      "15\n"
     ]
    }
   ],
   "source": [
    "def outerFun(a, b):\n",
    "\n",
    "    def innerFun(c, d):\n",
    "\n",
    "        return c + d\n",
    "\n",
    "    return innerFun(a, b)\n",
    "\n",
    "    return a\n",
    "\n",
    " \n",
    "\n",
    "result = outerFun(5, 10)\n",
    "\n",
    "print(result)"
   ]
  },
  {
   "cell_type": "code",
   "execution_count": 16,
   "id": "1c34b6d9",
   "metadata": {},
   "outputs": [
    {
     "name": "stdout",
     "output_type": "stream",
     "text": [
      "10=50\n"
     ]
    }
   ],
   "source": [
    "tuples = (10, 20, 30, 0)\n",
    "\n",
    "(a, *b, c) = tuples\n",
    "\n",
    "a = a + c\n",
    "\n",
    "c = b[0] + b[1]\n",
    "\n",
    "print(a, c, sep=\"=\")"
   ]
  },
  {
   "cell_type": "code",
   "execution_count": 24,
   "id": "88d074f0",
   "metadata": {},
   "outputs": [
    {
     "name": "stdout",
     "output_type": "stream",
     "text": [
      "75\n"
     ]
    }
   ],
   "source": [
    "student = {\n",
    "\n",
    "  \"name\": \"Emma\",\n",
    "\n",
    "  \"class\": 9,\n",
    "\n",
    "  \"marks\": 75\n",
    "\n",
    "}\n",
    "m = student['marks']\n",
    "print(m)"
   ]
  },
  {
   "cell_type": "code",
   "execution_count": 25,
   "id": "d45ae290",
   "metadata": {},
   "outputs": [
    {
     "name": "stdout",
     "output_type": "stream",
     "text": [
      "{'Numbers': {1: 56, 3: 7}, 'Letters': {4: 'B'}}\n"
     ]
    }
   ],
   "source": [
    "numbers = {}\n",
    "\n",
    "letters = {}\n",
    "\n",
    "comb = {}\n",
    "\n",
    "numbers[1] = 56\n",
    "\n",
    "numbers[3] = 7\n",
    "\n",
    "letters[4] = 'B'\n",
    "\n",
    "comb['Numbers'] = numbers\n",
    "\n",
    "comb['Letters'] = letters\n",
    "\n",
    "print(comb)"
   ]
  },
  {
   "cell_type": "code",
   "execution_count": 27,
   "id": "5df69e7e",
   "metadata": {},
   "outputs": [
    {
     "ename": "TypeError",
     "evalue": "__init__() missing 1 required positional argument: 'num'",
     "output_type": "error",
     "traceback": [
      "\u001b[1;31m---------------------------------------------------------------------------\u001b[0m",
      "\u001b[1;31mTypeError\u001b[0m                                 Traceback (most recent call last)",
      "Input \u001b[1;32mIn [27]\u001b[0m, in \u001b[0;36m<cell line: 11>\u001b[1;34m()\u001b[0m\n\u001b[0;32m      7\u001b[0m         \u001b[38;5;28mself\u001b[39m\u001b[38;5;241m.\u001b[39mnum \u001b[38;5;241m=\u001b[39m num\u001b[38;5;241m+\u001b[39m\u001b[38;5;241m10\u001b[39m\n\u001b[0;32m      9\u001b[0m         \u001b[38;5;28mprint\u001b[39m(num)\n\u001b[1;32m---> 11\u001b[0m n \u001b[38;5;241m=\u001b[39m \u001b[43mNumber\u001b[49m\u001b[43m(\u001b[49m\u001b[43m)\u001b[49m\n",
      "\u001b[1;31mTypeError\u001b[0m: __init__() missing 1 required positional argument: 'num'"
     ]
    }
   ],
   "source": [
    "class Number:\n",
    "\n",
    "    num = 10\n",
    "\n",
    "    def __init__(self, num):\n",
    "\n",
    "        self.num = num+10\n",
    "\n",
    "        print(num)\n",
    "\n",
    "n=Number()"
   ]
  },
  {
   "cell_type": "code",
   "execution_count": 31,
   "id": "6c7b9e6b",
   "metadata": {},
   "outputs": [
    {
     "name": "stdout",
     "output_type": "stream",
     "text": [
      "2021\n"
     ]
    }
   ],
   "source": [
    "class Number:\n",
    "\n",
    "    num = 10\n",
    "\n",
    "    def __init__(self, num):\n",
    "\n",
    "        self.num = num\n",
    "\n",
    "        print(self.num, end=\"\")\n",
    "\n",
    "    def __del__(self):\n",
    "\n",
    "        print(self.num+1)\n",
    "\n",
    "n = Number(20)"
   ]
  },
  {
   "cell_type": "code",
   "execution_count": 34,
   "id": "048ba4f4",
   "metadata": {},
   "outputs": [
    {
     "ename": "IndentationError",
     "evalue": "expected an indented block (1176874203.py, line 2)",
     "output_type": "error",
     "traceback": [
      "\u001b[1;36m  Input \u001b[1;32mIn [34]\u001b[1;36m\u001b[0m\n\u001b[1;33m    print('foo')\u001b[0m\n\u001b[1;37m    ^\u001b[0m\n\u001b[1;31mIndentationError\u001b[0m\u001b[1;31m:\u001b[0m expected an indented block\n"
     ]
    }
   ],
   "source": [
    "if (1, 2):\n",
    "print('foo')\n",
    "        "
   ]
  },
  {
   "cell_type": "code",
   "execution_count": 35,
   "id": "e58bd49c",
   "metadata": {},
   "outputs": [
    {
     "name": "stdout",
     "output_type": "stream",
     "text": [
      "5\n"
     ]
    }
   ],
   "source": [
    "i = 0\n",
    "\n",
    "j = 10\n",
    "c=0\n",
    "\n",
    "while i + j < 20:\n",
    "\n",
    "    i += 3\n",
    "\n",
    "    j -= 1\n",
    "    c = c+1\n",
    "print(c)"
   ]
  },
  {
   "cell_type": "code",
   "execution_count": 37,
   "id": "e0d1bd49",
   "metadata": {},
   "outputs": [
    {
     "name": "stdout",
     "output_type": "stream",
     "text": [
      "J,h,o,n,"
     ]
    }
   ],
   "source": [
    "for l in 'Jhon':\n",
    "\n",
    "    if l == 'o':\n",
    "\n",
    "        pass\n",
    "\n",
    "    print(l, end=\",\" )"
   ]
  },
  {
   "cell_type": "code",
   "execution_count": null,
   "id": "cf37901d",
   "metadata": {},
   "outputs": [],
   "source": []
  }
 ],
 "metadata": {
  "kernelspec": {
   "display_name": "Python 3 (ipykernel)",
   "language": "python",
   "name": "python3"
  },
  "language_info": {
   "codemirror_mode": {
    "name": "ipython",
    "version": 3
   },
   "file_extension": ".py",
   "mimetype": "text/x-python",
   "name": "python",
   "nbconvert_exporter": "python",
   "pygments_lexer": "ipython3",
   "version": "3.9.12"
  }
 },
 "nbformat": 4,
 "nbformat_minor": 5
}
