{
 "cells": [
  {
   "cell_type": "code",
   "execution_count": 2,
   "id": "277b228f",
   "metadata": {},
   "outputs": [
    {
     "name": "stdout",
     "output_type": "stream",
     "text": [
      "nhập số thứ 1: 1\n",
      "nhập số thứ 2: 100\n",
      "nhập số thứ 3: 99\n",
      "thứ tự ban đầu:  1 100 99\n",
      "sau khi sắp xếp:  1 99 100\n"
     ]
    }
   ],
   "source": [
    "def sap_xep(so1,so2,so3):\n",
    "    bien = 0\n",
    "    if so2 < so1 and so2 < so3:\n",
    "        bien = so1\n",
    "        so1 = so2\n",
    "        so2 = bien\n",
    "    elif so3 < so1 and so3 < so2:\n",
    "        bien = so1\n",
    "        so1 = so3\n",
    "        so3 = bien\n",
    "    if so3 < so2:\n",
    "        bien = so2\n",
    "        so2 = so3\n",
    "        so3 = bien\n",
    "    return (so1, so2, so3)\n",
    "x = int(input(\"nhập số thứ 1: \"))\n",
    "y = int(input(\"nhập số thứ 2: \"))\n",
    "z = int(input(\"nhập số thứ 3: \"))\n",
    "a, b, c = sap_xep(x, y, z)\n",
    "print(\"thứ tự ban đầu: \", x, y, z)\n",
    "print(\"sau khi sắp xếp: \", a, b, c)"
   ]
  },
  {
   "cell_type": "code",
   "execution_count": null,
   "id": "15de57cb",
   "metadata": {},
   "outputs": [],
   "source": []
  }
 ],
 "metadata": {
  "kernelspec": {
   "display_name": "Python 3 (ipykernel)",
   "language": "python",
   "name": "python3"
  },
  "language_info": {
   "codemirror_mode": {
    "name": "ipython",
    "version": 3
   },
   "file_extension": ".py",
   "mimetype": "text/x-python",
   "name": "python",
   "nbconvert_exporter": "python",
   "pygments_lexer": "ipython3",
   "version": "3.9.12"
  }
 },
 "nbformat": 4,
 "nbformat_minor": 5
}
