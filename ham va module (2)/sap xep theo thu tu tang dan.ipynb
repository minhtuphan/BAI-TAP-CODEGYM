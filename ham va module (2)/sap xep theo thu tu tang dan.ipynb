{
 "cells": [
  {
   "cell_type": "code",
   "execution_count": 1,
   "id": "592bd955",
   "metadata": {},
   "outputs": [
    {
     "name": "stdout",
     "output_type": "stream",
     "text": [
      "nhập số nguyên thứ 1: 9\n",
      "nhập số nguyên thứ 2: 10\n",
      "nhập số nguyên thứ 3: 3\n",
      "dãy đã sắp xếp: 3 9 10 \n"
     ]
    }
   ],
   "source": [
    "# CÁCH 1\n",
    "a = int(input(\"nhập số nguyên thứ 1: \"))\n",
    "b = int(input(\"nhập số nguyên thứ 2: \"))\n",
    "c = int(input(\"nhập số nguyên thứ 3: \"))\n",
    "def so_sanh_3_so(a,b,c):\n",
    "    if a <= b <= c:\n",
    "        print(f\"dãy đã sắp xếp: {a} {b} {c} \")\n",
    "    elif a <= c <= b:\n",
    "        print(f\"dãy đã sắp xếp: {a} {c} {b} \")\n",
    "    elif b <= a <= c:\n",
    "        print(f\"dãy đã sắp xếp: {b} {a} {c} \")\n",
    "    elif b <= c <= a:\n",
    "        print(f\"dãy đã sắp xếp: {b} {c} {a} \")\n",
    "    elif c <= a <= b:\n",
    "        print(f\"dãy đã sắp xếp: {c} {a} {b} \")\n",
    "    else:  # c<=b<=a\n",
    "        print(f\"dãy đã sắp xếp: {c} {b} {a} \")\n",
    "so_sanh_3_so(a,b,c)"
   ]
  },
  {
   "cell_type": "code",
   "execution_count": 2,
   "id": "277b228f",
   "metadata": {},
   "outputs": [
    {
     "name": "stdout",
     "output_type": "stream",
     "text": [
      "nhập số thứ 1: 1\n",
      "nhập số thứ 2: 100\n",
      "nhập số thứ 3: 99\n",
      "thứ tự ban đầu:  1 100 99\n",
      "sau khi sắp xếp:  1 99 100\n"
     ]
    }
   ],
   "source": [
    "# CÁCH 2 THEO HƯỚNG DẪN TRÊN LEARN\n",
    "def sap_xep(num1,num2,num3):\n",
    "    temp = 0\n",
    "    if num2 < num1 and num2 < num3:\n",
    "        temp = num1\n",
    "        num1 = num2\n",
    "        num2 = temp\n",
    "    elif num3 < num1 and num3 < num2:\n",
    "        temp = num1\n",
    "        num1 = num3\n",
    "        num3 = temp\n",
    "    if num3 < num2:\n",
    "        temp = num2\n",
    "        num2 = num3\n",
    "        num3 = temp\n",
    "    return (num1, num2, num3)\n",
    "x = int(input(\"nhập số thứ 1: \"))\n",
    "y = int(input(\"nhập số thứ 2: \"))\n",
    "z = int(input(\"nhập số thứ 3: \"))\n",
    "a, b, c = sap_xep(x, y, z)\n",
    "print(\"thứ tự ban đầu: \", x, y, z)\n",
    "print(\"sau khi sắp xếp: \", a, b, c)"
   ]
  },
  {
   "cell_type": "code",
   "execution_count": null,
   "id": "15de57cb",
   "metadata": {},
   "outputs": [],
   "source": []
  }
 ],
 "metadata": {
  "kernelspec": {
   "display_name": "Python 3 (ipykernel)",
   "language": "python",
   "name": "python3"
  },
  "language_info": {
   "codemirror_mode": {
    "name": "ipython",
    "version": 3
   },
   "file_extension": ".py",
   "mimetype": "text/x-python",
   "name": "python",
   "nbconvert_exporter": "python",
   "pygments_lexer": "ipython3",
   "version": "3.9.12"
  }
 },
 "nbformat": 4,
 "nbformat_minor": 5
}
