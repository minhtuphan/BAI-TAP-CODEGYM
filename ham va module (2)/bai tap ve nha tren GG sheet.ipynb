{
 "cells": [
  {
   "cell_type": "code",
   "execution_count": null,
   "id": "a8fb44a3",
   "metadata": {},
   "outputs": [],
   "source": [
    "# bài 1: tìm ước chung lớn nhất của 2 số nguyên dương\n",
    "while True:\n",
    "    a = int(input(\"nhập số nguyên dương a: \"))\n",
    "    b = int(input(\"nhập số nguyên dương b: \"))\n",
    "    if (a>0) and (b>0):\n",
    "        break\n",
    "def uoc_chung_lon_nhat(a,b):\n",
    "    lon_nhat = 0\n",
    "    for i in range(1,a+1):\n",
    "        if (a%i == 0) and (b%i == 0) and (i > lon_nhat):\n",
    "            lon_nhat = i\n",
    "    return lon_nhat\n",
    "uoc_chung_lon_nhat(a,b)"
   ]
  },
  {
   "cell_type": "code",
   "execution_count": 12,
   "id": "ff061be6",
   "metadata": {},
   "outputs": [
    {
     "name": "stdout",
     "output_type": "stream",
     "text": [
      "nhập số nguyên dương n: 370\n",
      "số cần kiểm tra là số armstrong\n"
     ]
    }
   ],
   "source": [
    "# bài 2: kiểm tra số armstrong\n",
    "while True:\n",
    "    n = int(input(\"nhập số nguyên dương n: \"))\n",
    "    if n > 0:\n",
    "        break\n",
    "def dem_chu_so(n):\n",
    "    dem = 0\n",
    "    while n!= 0:\n",
    "        chu_so = n%10\n",
    "        dem += 1\n",
    "        n = n//10\n",
    "    return dem\n",
    "def kiem_tra(n):\n",
    "    bien_tam = n\n",
    "    tong = 0\n",
    "    so_mu = dem_chu_so(n)\n",
    "    while bien_tam != 0:\n",
    "        chu_so = bien_tam % 10\n",
    "        bien_tam = bien_tam//10\n",
    "        tong = tong + chu_so ** so_mu\n",
    "    if tong == n:\n",
    "        print(\"số cần kiểm tra là số armstrong\")\n",
    "    else:\n",
    "        print(\"không phải số armstrong\")\n",
    "kiem_tra(n)"
   ]
  },
  {
   "cell_type": "code",
   "execution_count": 17,
   "id": "dbaf3ebb",
   "metadata": {},
   "outputs": [
    {
     "name": "stdout",
     "output_type": "stream",
     "text": [
      "nhập số nguyên dương n: 371\n",
      "số armstrong cần tìm  là: 1\n",
      "số armstrong cần tìm  là: 2\n",
      "số armstrong cần tìm  là: 3\n",
      "số armstrong cần tìm  là: 4\n",
      "số armstrong cần tìm  là: 5\n",
      "số armstrong cần tìm  là: 6\n",
      "số armstrong cần tìm  là: 7\n",
      "số armstrong cần tìm  là: 8\n",
      "số armstrong cần tìm  là: 9\n",
      "số armstrong cần tìm  là: 153\n",
      "số armstrong cần tìm  là: 370\n"
     ]
    }
   ],
   "source": [
    "# bài 3: xuất các số armstrong nhỏ hơn 1 số n\n",
    "while True:\n",
    "    n = int(input(\"nhập số nguyên dương n: \"))\n",
    "    if n > 0:\n",
    "        break\n",
    "def dem_chu_so(a):\n",
    "    dem = 0\n",
    "    while a!= 0:\n",
    "        chu_so = a%10\n",
    "        dem += 1\n",
    "        a = a//10\n",
    "    return dem\n",
    "def kiem_tra(n):\n",
    "    bien_tam = n\n",
    "    tong = 0\n",
    "    so_mu = dem_chu_so(n)\n",
    "    while bien_tam != 0:\n",
    "        chu_so = bien_tam % 10\n",
    "        bien_tam = bien_tam//10\n",
    "        tong = tong + chu_so ** so_mu\n",
    "    if tong == n:\n",
    "        print(f\"số armstrong cần tìm  là: {n}\")\n",
    "for i in range(1,n):\n",
    "    kiem_tra(i)"
   ]
  },
  {
   "cell_type": "code",
   "execution_count": 2,
   "id": "e2a56843",
   "metadata": {},
   "outputs": [
    {
     "name": "stdout",
     "output_type": "stream",
     "text": [
      "nhập số nguyên dương n: 13\n",
      "0 1 1 2 3 5 8 13 21 34 55 89 144 233 \n"
     ]
    }
   ],
   "source": [
    "# bài 4: in dãy Fibonacci\n",
    "while True:\n",
    "    n = int(input(\"nhập số nguyên dương n: \"))\n",
    "    if n > 0:\n",
    "        break\n",
    "def fibonacci(n):\n",
    "    f0 = 0;\n",
    "    f1 = 1;\n",
    "    fn = 1;\n",
    "  \n",
    "    if (n < 0):\n",
    "        return -1;\n",
    "    elif (n == 0 or n == 1):\n",
    "        return n;\n",
    "    else:\n",
    "        for i in range(2, n):\n",
    "            f0 = f1;\n",
    "            f1 = fn;\n",
    "            fn = f0 + f1;\n",
    "        return fn;\n",
    "sb = \"\";\n",
    "for i in range(0, n+1):\n",
    "    sb = sb + str(fibonacci(i)) + \" \";\n",
    "print(sb)"
   ]
  },
  {
   "cell_type": "code",
   "execution_count": null,
   "id": "a2fa823a",
   "metadata": {},
   "outputs": [],
   "source": [
    "# def fibonacci(n):\n",
    "#     f0 = 0;\n",
    "#     f1 = 1;\n",
    "#     fn = 1;\n",
    "  \n",
    "#     if (n < 0):\n",
    "#         return -1;\n",
    "#     elif (n == 0 or n == 1):\n",
    "#         return n;\n",
    "#     else:\n",
    "#         for i in range(2, n):\n",
    "#             f0 = f1;\n",
    "#             f1 = fn;\n",
    "#             fn = f0 + f1;\n",
    "#         return fn;\n",
    "  \n",
    "# print(\"10 số đầu tiên của dãy số Fibonacci: \");\n",
    "# sb = \"\";\n",
    "# for i in range(0, 10):\n",
    "#     sb = sb + str(fibonacci(i)) + \", \";\n",
    "# print(sb)"
   ]
  },
  {
   "cell_type": "code",
   "execution_count": null,
   "id": "269ba9b3",
   "metadata": {},
   "outputs": [],
   "source": [
    "# def fibonacci():\n",
    "#     num = int(input(\"How many numbers that generates?: \"))\n",
    "#     i = 1\n",
    "#     if num < 0:\n",
    "#         print(\"Please enter a non-negative number.\")\n",
    "#         exit(0)\n",
    "#     elif num == 0:\n",
    "#         fib = []\n",
    "#     elif num == 1:\n",
    "#         fib = [1]\n",
    "#     elif num == 2:\n",
    "#         fib = [1,1]\n",
    "#     else:\n",
    "#         fib = [1,1]\n",
    "#         while i < (num - 1):\n",
    "#             fib.append(fib[i] + fib[i-1])\n",
    "#             i += 1\n",
    "#     return fib\n",
    "\n",
    "# print(fibonacci())\n",
    "# input()"
   ]
  }
 ],
 "metadata": {
  "kernelspec": {
   "display_name": "Python 3 (ipykernel)",
   "language": "python",
   "name": "python3"
  },
  "language_info": {
   "codemirror_mode": {
    "name": "ipython",
    "version": 3
   },
   "file_extension": ".py",
   "mimetype": "text/x-python",
   "name": "python",
   "nbconvert_exporter": "python",
   "pygments_lexer": "ipython3",
   "version": "3.9.12"
  }
 },
 "nbformat": 4,
 "nbformat_minor": 5
}
