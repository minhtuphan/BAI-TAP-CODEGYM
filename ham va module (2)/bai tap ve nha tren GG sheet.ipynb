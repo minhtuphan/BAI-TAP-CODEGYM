{
 "cells": [
  {
   "cell_type": "code",
   "execution_count": 1,
   "id": "a8fb44a3",
   "metadata": {},
   "outputs": [
    {
     "name": "stdout",
     "output_type": "stream",
     "text": [
      "nhập số nguyên dương a: 12\n",
      "nhập số nguyên dương b: 15\n"
     ]
    },
    {
     "data": {
      "text/plain": [
       "3"
      ]
     },
     "execution_count": 1,
     "metadata": {},
     "output_type": "execute_result"
    }
   ],
   "source": [
    "# tìm ước chung lớn nhất của 2 số nguyên dương\n",
    "while True:\n",
    "    a = int(input(\"nhập số nguyên dương a: \"))\n",
    "    b = int(input(\"nhập số nguyên dương b: \"))\n",
    "    if (a>0) and (b>0):\n",
    "        break\n",
    "def uoc_chung_lon_nhat(a,b):\n",
    "    lon_nhat = 0\n",
    "    for i in range(1,a+1):\n",
    "        if (a%i == 0) and (b%i == 0) and (i > lon_nhat):\n",
    "            lon_nhat = i\n",
    "    return lon_nhat\n",
    "uoc_chung_lon_nhat(a,b)"
   ]
  },
  {
   "cell_type": "code",
   "execution_count": null,
   "id": "ff061be6",
   "metadata": {},
   "outputs": [],
   "source": [
    "# # kiểm tra số armstrong\n",
    "while True:\n",
    "    n = int(input(\"nhập số nguyên dương n: \"))\n",
    "    if n > 0:\n",
    "        break\n",
    "def armstrong(n):\n",
    "    \n"
   ]
  },
  {
   "cell_type": "code",
   "execution_count": null,
   "id": "dbaf3ebb",
   "metadata": {},
   "outputs": [],
   "source": [
    "# xuất các số armstrong nhỏ hơn 1 số n"
   ]
  },
  {
   "cell_type": "code",
   "execution_count": 7,
   "id": "e2a56843",
   "metadata": {},
   "outputs": [
    {
     "name": "stdout",
     "output_type": "stream",
     "text": [
      "nhập số nguyên dương n: 1.32\n",
      "0.32000000000000006\n"
     ]
    }
   ],
   "source": []
  },
  {
   "cell_type": "code",
   "execution_count": null,
   "id": "a2fa823a",
   "metadata": {},
   "outputs": [],
   "source": []
  }
 ],
 "metadata": {
  "kernelspec": {
   "display_name": "Python 3 (ipykernel)",
   "language": "python",
   "name": "python3"
  },
  "language_info": {
   "codemirror_mode": {
    "name": "ipython",
    "version": 3
   },
   "file_extension": ".py",
   "mimetype": "text/x-python",
   "name": "python",
   "nbconvert_exporter": "python",
   "pygments_lexer": "ipython3",
   "version": "3.9.12"
  }
 },
 "nbformat": 4,
 "nbformat_minor": 5
}
