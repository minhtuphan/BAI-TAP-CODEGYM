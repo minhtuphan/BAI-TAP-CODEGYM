{
 "cells": [
  {
   "cell_type": "code",
   "execution_count": null,
   "id": "2abd1fbd",
   "metadata": {},
   "outputs": [],
   "source": [
    "so_thu_1 = int(input(\"nhập số nguyên thứ 1: \"))\n",
    "so_thu_2 = int(input(\"nhập số nguyên thứ 2: \"))\n",
    "so_thu_3 = int(input(\"nhập số nguyên thứ 3: \"))\n",
    "def so_sanh_3_so(a,b,c):\n",
    "    i = 0\n",
    "    if b<a and b<c:\n",
    "        \n",
    "        "
   ]
  },
  {
   "cell_type": "code",
   "execution_count": 4,
   "id": "8fdb41c3",
   "metadata": {},
   "outputs": [
    {
     "name": "stdout",
     "output_type": "stream",
     "text": [
      "Enter first number: 1\n",
      "Enter second number: 3\n",
      "Enter third number: 2\n",
      "Original numbers:  1 3 2\n",
      "Sorted numbers:  1 2 3\n"
     ]
    }
   ],
   "source": [
    "# num1 = int(input(\"nhập số nguyên thứ 1: \"))\n",
    "# num2 = int(input(\"nhập số nguyên thứ 2: \"))\n",
    "# num3 = int(input(\"nhập số nguyên thứ 3: \"))\n",
    "def sort_numbers(num1,num2,num3):\n",
    "    temp = 0\n",
    "    if num2 < num1 and num2 < num3:\n",
    "        temp = num1\n",
    "        num1 = num2\n",
    "        num2 = temp\n",
    "    elif num3 < num1 and num3 < num2:\n",
    "        temp = num1\n",
    "        num1 = num3\n",
    "        num3 = temp\n",
    "    if num3 < num2:\n",
    "        temp = num2\n",
    "        num2 = num3\n",
    "        num3 = temp\n",
    "    return (num1, num2, num3)\n",
    "x = int(input(\"Enter first number: \"))\n",
    "y = int(input(\"Enter second number: \"))\n",
    "z = int(input(\"Enter third number: \"))\n",
    "a, b, c = sort_numbers(x, y, z)\n",
    "print(\"Original numbers: \", x, y, z)\n",
    "print(\"Sorted numbers: \", a, b, c)"
   ]
  },
  {
   "cell_type": "code",
   "execution_count": null,
   "id": "5d19547d",
   "metadata": {},
   "outputs": [],
   "source": []
  }
 ],
 "metadata": {
  "kernelspec": {
   "display_name": "Python 3 (ipykernel)",
   "language": "python",
   "name": "python3"
  },
  "language_info": {
   "codemirror_mode": {
    "name": "ipython",
    "version": 3
   },
   "file_extension": ".py",
   "mimetype": "text/x-python",
   "name": "python",
   "nbconvert_exporter": "python",
   "pygments_lexer": "ipython3",
   "version": "3.9.12"
  }
 },
 "nbformat": 4,
 "nbformat_minor": 5
}
