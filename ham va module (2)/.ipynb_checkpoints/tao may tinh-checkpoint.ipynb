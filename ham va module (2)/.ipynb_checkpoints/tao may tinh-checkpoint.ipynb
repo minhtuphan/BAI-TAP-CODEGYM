{
 "cells": [
  {
   "cell_type": "code",
   "execution_count": 1,
   "id": "4ef00757",
   "metadata": {},
   "outputs": [
    {
     "name": "stdout",
     "output_type": "stream",
     "text": [
      "nhập số a: 12\n",
      "nhập số b: 13\n",
      "nhập phép toán: '+' hoặc '-' hoặc '*' hoặc '/':  +\n",
      "kết quả phép cộng 12 và 13 là: 25\n"
     ]
    }
   ],
   "source": [
    "a = int(input(\"nhập số a: \"))\n",
    "b = int(input(\"nhập số b: \"))\n",
    "tinh = input(\"nhập phép toán: '+' hoặc '-' hoặc '*' hoặc '/':  \")\n",
    "def cong(a,b):\n",
    "    return a + b\n",
    "def tru(a,b):\n",
    "    return a - b\n",
    "def nhan(a,b):\n",
    "    return a * b\n",
    "def chia(a,b):\n",
    "    return a / b\n",
    "if tinh == \"+\":\n",
    "    print(f\"kết quả phép cộng {a} và {b} là: {cong(a,b)}\")\n",
    "elif tinh == \"-\":\n",
    "    print(f\"kết quả phép trừ {a} và {b} là: {tru(a,b)}\")\n",
    "elif tinh == \"*\":\n",
    "    print(f\"kết quả phép nhân {a} và {b} là: {nhan(a,b)}\")\n",
    "elif tinh == \"/\":\n",
    "    print(f\"kết quả phép chia {a} và {b} là: {chia(a,b)}\")\n",
    "else:\n",
    "    print(\"không có kết quả\")"
   ]
  },
  {
   "cell_type": "code",
   "execution_count": null,
   "id": "04a78d28",
   "metadata": {},
   "outputs": [],
   "source": []
  }
 ],
 "metadata": {
  "kernelspec": {
   "display_name": "Python 3 (ipykernel)",
   "language": "python",
   "name": "python3"
  },
  "language_info": {
   "codemirror_mode": {
    "name": "ipython",
    "version": 3
   },
   "file_extension": ".py",
   "mimetype": "text/x-python",
   "name": "python",
   "nbconvert_exporter": "python",
   "pygments_lexer": "ipython3",
   "version": "3.9.12"
  }
 },
 "nbformat": 4,
 "nbformat_minor": 5
}
