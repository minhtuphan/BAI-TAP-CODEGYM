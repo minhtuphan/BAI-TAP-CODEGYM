{
 "cells": [
  {
   "cell_type": "code",
   "execution_count": 4,
   "id": "b545a97c",
   "metadata": {},
   "outputs": [
    {
     "name": "stdout",
     "output_type": "stream",
     "text": [
      "nhập chuỗi: xin chao cac ban\n",
      "số ký tự của là 16\n"
     ]
    }
   ],
   "source": [
    "chuoi = input(\"nhập chuỗi: \")\n",
    "def dem_ky_tu(chuoi):\n",
    "    dem = 0\n",
    "    for i in chuoi:\n",
    "        dem += 1\n",
    "    return dem\n",
    "dem_ky_tu(chuoi)\n",
    "print(f\"số ký tự của chuỗi là {dem_ky_tu(chuoi)}\")"
   ]
  },
  {
   "cell_type": "code",
   "execution_count": 5,
   "id": "99c96f38",
   "metadata": {},
   "outputs": [
    {
     "name": "stdout",
     "output_type": "stream",
     "text": [
      "nhập chuỗi: xin chao cac ban\n",
      "số ký tự của là 16\n"
     ]
    }
   ],
   "source": [
    "chuoi = input(\"nhập chuỗi: \")\n",
    "dem = len(chuoi)\n",
    "print(f\"số ký tự của là {dem}\")"
   ]
  },
  {
   "cell_type": "code",
   "execution_count": null,
   "id": "e4d30b44",
   "metadata": {},
   "outputs": [],
   "source": []
  }
 ],
 "metadata": {
  "kernelspec": {
   "display_name": "Python 3 (ipykernel)",
   "language": "python",
   "name": "python3"
  },
  "language_info": {
   "codemirror_mode": {
    "name": "ipython",
    "version": 3
   },
   "file_extension": ".py",
   "mimetype": "text/x-python",
   "name": "python",
   "nbconvert_exporter": "python",
   "pygments_lexer": "ipython3",
   "version": "3.9.12"
  }
 },
 "nbformat": 4,
 "nbformat_minor": 5
}
