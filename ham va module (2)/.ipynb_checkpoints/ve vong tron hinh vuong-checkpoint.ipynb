{
 "cells": [
  {
   "cell_type": "code",
   "execution_count": null,
   "id": "5eee085f",
   "metadata": {},
   "outputs": [
    {
     "name": "stdout",
     "output_type": "stream",
     "text": [
      "nhập số lần vẽ hình vuông: 36\n"
     ]
    }
   ],
   "source": [
    "import turtle\n",
    "t = turtle.Turtle()\n",
    "n = int(input(\"nhập số lần vẽ hình vuông: \"))\n",
    "goc = 360/n\n",
    "def hinh_vuong(a,b):    # a: cạnh hình vuông\n",
    "    for i in range(4):\n",
    "        t.forward(a)\n",
    "        t.right(90)\n",
    "    t.right(goc)\n",
    "for i in range(n):\n",
    "    hinh_vuong(100,goc)\n",
    "turtle.done()"
   ]
  },
  {
   "cell_type": "code",
   "execution_count": null,
   "id": "fe6a961f",
   "metadata": {},
   "outputs": [],
   "source": []
  }
 ],
 "metadata": {
  "kernelspec": {
   "display_name": "Python 3 (ipykernel)",
   "language": "python",
   "name": "python3"
  },
  "language_info": {
   "codemirror_mode": {
    "name": "ipython",
    "version": 3
   },
   "file_extension": ".py",
   "mimetype": "text/x-python",
   "name": "python",
   "nbconvert_exporter": "python",
   "pygments_lexer": "ipython3",
   "version": "3.9.12"
  }
 },
 "nbformat": 4,
 "nbformat_minor": 5
}
