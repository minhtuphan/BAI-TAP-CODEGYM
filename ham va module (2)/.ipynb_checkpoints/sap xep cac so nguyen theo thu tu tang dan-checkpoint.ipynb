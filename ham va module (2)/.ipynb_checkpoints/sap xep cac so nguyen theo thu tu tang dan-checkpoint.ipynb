{
 "cells": [
  {
   "cell_type": "code",
   "execution_count": 2,
   "id": "5da1467c",
   "metadata": {},
   "outputs": [
    {
     "name": "stdout",
     "output_type": "stream",
     "text": [
      "nhập số nguyên thứ 1: 9\n",
      "nhập số nguyên thứ 2: 5\n",
      "nhập số nguyên thứ 3: 6\n",
      "dãy đã sắp xếp: 5 6 9 \n"
     ]
    }
   ],
   "source": [
    "a = int(input(\"nhập số nguyên thứ 1: \"))\n",
    "b = int(input(\"nhập số nguyên thứ 2: \"))\n",
    "c = int(input(\"nhập số nguyên thứ 3: \"))\n",
    "def so_sanh_3_so(a,b,c):\n",
    "    if a <= b <= c:\n",
    "        print(f\"dãy đã sắp xếp: {a} {b} {c} \")\n",
    "    elif a <= c <= b:\n",
    "        print(f\"dãy đã sắp xếp: {a} {c} {b} \")\n",
    "    elif b <= a <= c:\n",
    "        print(f\"dãy đã sắp xếp: {b} {a} {c} \")\n",
    "    elif b <= c <= a:\n",
    "        print(f\"dãy đã sắp xếp: {b} {c} {a} \")\n",
    "    elif c <= a <= b:\n",
    "        print(f\"dãy đã sắp xếp: {c} {a} {b} \")\n",
    "    else:  # c<=b<=a\n",
    "        print(f\"dãy đã sắp xếp: {c} {b} {a} \")\n",
    "so_sanh_3_so(a,b,c)"
   ]
  },
  {
   "cell_type": "code",
   "execution_count": 3,
   "id": "a0a6fea5",
   "metadata": {},
   "outputs": [
    {
     "name": "stdout",
     "output_type": "stream",
     "text": [
      "nhập số đầu tiên: 6\n",
      "nhập số thứ 2: 9\n",
      "nhập số thứ 3: 8\n",
      "thứ tự ban đầu:  6 9 8\n",
      "sau khi sắp xếp:  6 8 9\n"
     ]
    }
   ],
   "source": [
    "# CÁCH 2 THEO HƯỚNG DẪN TRÊN LEARN\n",
    "\n",
    "def sap_xep(num1,num2,num3):\n",
    "    temp = 0\n",
    "    if num2 < num1 and num2 < num3:\n",
    "        temp = num1\n",
    "        num1 = num2\n",
    "        num2 = temp\n",
    "    elif num3 < num1 and num3 < num2:\n",
    "        temp = num1\n",
    "        num1 = num3\n",
    "        num3 = temp\n",
    "    if num3 < num2:\n",
    "        temp = num2\n",
    "        num2 = num3\n",
    "        num3 = temp\n",
    "    return (num1, num2, num3)\n",
    "x = int(input(\"nhập số đầu tiên: \"))\n",
    "y = int(input(\"nhập số thứ 2: \"))\n",
    "z = int(input(\"nhập số thứ 3: \"))\n",
    "a, b, c = sap_xep(x, y, z)\n",
    "print(\"thứ tự ban đầu: \", x, y, z)\n",
    "print(\"sau khi sắp xếp: \", a, b, c)"
   ]
  },
  {
   "cell_type": "code",
   "execution_count": null,
   "id": "65707395",
   "metadata": {},
   "outputs": [],
   "source": []
  }
 ],
 "metadata": {
  "kernelspec": {
   "display_name": "Python 3 (ipykernel)",
   "language": "python",
   "name": "python3"
  },
  "language_info": {
   "codemirror_mode": {
    "name": "ipython",
    "version": 3
   },
   "file_extension": ".py",
   "mimetype": "text/x-python",
   "name": "python",
   "nbconvert_exporter": "python",
   "pygments_lexer": "ipython3",
   "version": "3.9.12"
  }
 },
 "nbformat": 4,
 "nbformat_minor": 5
}
