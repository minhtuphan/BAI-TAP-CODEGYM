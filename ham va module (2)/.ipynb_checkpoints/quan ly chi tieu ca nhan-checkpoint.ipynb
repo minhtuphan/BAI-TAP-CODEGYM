{
 "cells": [
  {
   "cell_type": "code",
   "execution_count": 11,
   "id": "df329c6a",
   "metadata": {},
   "outputs": [
    {
     "name": "stdout",
     "output_type": "stream",
     "text": [
      "danh mục chi tiêu hiện tại: ['ăn']\n",
      "nhập TÊN mục muốn thêm/xóa: ăn\n",
      "bạn muốn thêm hay bớt tên trong ds (1.Thêm; 2. Bỏ): \n",
      "nhập số 1 hoặc 2: 3\n",
      "lựa chọn sai\n"
     ]
    }
   ],
   "source": [
    "danh_muc = ['ăn']  # VD danh mục chi tiêu hiện tại\n",
    "print(f\"danh mục chi tiêu hiện tại: {danh_muc}\")\n",
    "muc = input(\"nhập TÊN mục muốn thêm/xóa: \")\n",
    "print(\"bạn muốn thêm hay bớt tên trong ds (1.Thêm; 2. Bỏ): \")\n",
    "lua_chon = int(input(\"nhập số 1 hoặc 2: \"))\n",
    "\n",
    "# tạo hàm thêm mục chi tiêu vào danh sách ban đầu\n",
    "def them_muc(danh_muc_cu,muc_moi):\n",
    "    danh_muc_cu.append(muc_moi)\n",
    "# tạo hàm tìm vị trí mục cần xóa\n",
    "def tim_muc(danh_muc,ten_muc):\n",
    "    vi_tri = -1\n",
    "    do_dai = len(danh_muc)\n",
    "    for i in range(do_dai):\n",
    "        if danh_muc[i] == ten_muc:\n",
    "            vi_tri = i\n",
    "    return vi_tri\n",
    "# tạo hàm xóa mục\n",
    "def xoa_muc(danh_muc,ten_muc):\n",
    "    if tim_muc(danh_muc,ten_muc) > -1:\n",
    "        del danh_muc[tim_muc(danh_muc,ten_muc)]\n",
    "    else:\n",
    "        print(f\"mục {muc} không có trong danh mục chi tiêu\")\n",
    "# thực hiện\n",
    "if lua_chon == 1:\n",
    "    tien = int(input(\"nhập tiền đã chi: \"))\n",
    "    ngay_chi = input(\"ngày chi: \")\n",
    "    muc_moi = {'tên mục': muc, 'tiền đã chi':tien, 'ngày chi':ngay_chi}\n",
    "    them_muc(danh_muc,muc_moi)\n",
    "    print(f\"danh mục chi tiêu của bạn: {danh_muc}\")\n",
    "elif lua_chon == 2:\n",
    "    xoa_muc(danh_muc,muc)\n",
    "    print(f\"danh mục chi tiêu của bạn: {danh_muc}\")\n",
    "else:\n",
    "    print(\"lựa chọn sai\")\n"
   ]
  },
  {
   "cell_type": "code",
   "execution_count": null,
   "id": "7410baf5",
   "metadata": {},
   "outputs": [],
   "source": []
  },
  {
   "cell_type": "code",
   "execution_count": null,
   "id": "0b98a3e2",
   "metadata": {},
   "outputs": [],
   "source": []
  }
 ],
 "metadata": {
  "kernelspec": {
   "display_name": "Python 3 (ipykernel)",
   "language": "python",
   "name": "python3"
  },
  "language_info": {
   "codemirror_mode": {
    "name": "ipython",
    "version": 3
   },
   "file_extension": ".py",
   "mimetype": "text/x-python",
   "name": "python",
   "nbconvert_exporter": "python",
   "pygments_lexer": "ipython3",
   "version": "3.9.12"
  }
 },
 "nbformat": 4,
 "nbformat_minor": 5
}
