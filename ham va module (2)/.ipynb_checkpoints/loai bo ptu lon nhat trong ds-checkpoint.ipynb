{
 "cells": [
  {
   "cell_type": "code",
   "execution_count": 12,
   "id": "d3a9533a",
   "metadata": {},
   "outputs": [
    {
     "name": "stdout",
     "output_type": "stream",
     "text": [
      "[1, 2, 3, 4, 5, 6, 7, 8, 9, 10]\n"
     ]
    }
   ],
   "source": [
    "chuoi = [1,2,3,4,5,6,7,8,9,10,33]    # có thể dùng pp nhập\n",
    "def bo_ptu_lon_nhat(a):\n",
    "    lon_nhat = 0\n",
    "    for i in a:\n",
    "        if i > lon_nhat:\n",
    "            lon_nhat = i\n",
    "    chuoi.remove(lon_nhat)\n",
    "bo_ptu_lon_nhat(chuoi)\n",
    "print(chuoi)"
   ]
  },
  {
   "cell_type": "code",
   "execution_count": null,
   "id": "6866029d",
   "metadata": {},
   "outputs": [],
   "source": []
  }
 ],
 "metadata": {
  "kernelspec": {
   "display_name": "Python 3 (ipykernel)",
   "language": "python",
   "name": "python3"
  },
  "language_info": {
   "codemirror_mode": {
    "name": "ipython",
    "version": 3
   },
   "file_extension": ".py",
   "mimetype": "text/x-python",
   "name": "python",
   "nbconvert_exporter": "python",
   "pygments_lexer": "ipython3",
   "version": "3.9.12"
  }
 },
 "nbformat": 4,
 "nbformat_minor": 5
}
