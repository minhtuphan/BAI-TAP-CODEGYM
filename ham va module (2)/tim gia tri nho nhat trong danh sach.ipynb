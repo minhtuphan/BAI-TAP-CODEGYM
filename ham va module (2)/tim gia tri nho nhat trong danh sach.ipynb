{
 "cells": [
  {
   "cell_type": "code",
   "execution_count": 4,
   "id": "6f171bff",
   "metadata": {},
   "outputs": [
    {
     "name": "stdout",
     "output_type": "stream",
     "text": [
      "số nhỏ nhất trong chuỗi là: 1\n"
     ]
    }
   ],
   "source": [
    "# tìm giá trị nhỏ nhất của mảng số cho trước\n",
    "chuoi = [12,11,16,3,5,1,19,9,]\n",
    "def gia_tri_nho_nhat(chuoi):\n",
    "    so_nho_nhat = chuoi[0]\n",
    "    for i in chuoi:\n",
    "        if so_nho_nhat > i:\n",
    "            so_nho_nhat = i\n",
    "    return so_nho_nhat\n",
    "gia_tri_nho_nhat(chuoi)\n",
    "print(f\"số nhỏ nhất trong chuỗi là: {gia_tri_nho_nhat(chuoi)}\")"
   ]
  },
  {
   "cell_type": "code",
   "execution_count": null,
   "id": "6033e090",
   "metadata": {},
   "outputs": [],
   "source": []
  }
 ],
 "metadata": {
  "kernelspec": {
   "display_name": "Python 3 (ipykernel)",
   "language": "python",
   "name": "python3"
  },
  "language_info": {
   "codemirror_mode": {
    "name": "ipython",
    "version": 3
   },
   "file_extension": ".py",
   "mimetype": "text/x-python",
   "name": "python",
   "nbconvert_exporter": "python",
   "pygments_lexer": "ipython3",
   "version": "3.9.12"
  }
 },
 "nbformat": 4,
 "nbformat_minor": 5
}
