{
 "cells": [
  {
   "cell_type": "code",
   "execution_count": 1,
   "id": "a21d93cd",
   "metadata": {},
   "outputs": [],
   "source": [
    "import tkinter as tk\n",
    "from tkinter import ttk\n",
    "\n",
    "main_window = tk.Tk()\n",
    "main_window.title(\"thực hành\")\n",
    "main_window.geometry('500x500')\n",
    "option1 = ttk.Label(main_window, text='option 1', background = 'gray')\n",
    "option1.place(relx=0.2,rely=0)\n",
    "option2 = ttk.Label(main_window, text='option 2')\n",
    "option2.place(relx=0.4,rely=0.2)\n",
    "main_window.mainloop()"
   ]
  },
  {
   "cell_type": "code",
   "execution_count": 9,
   "id": "a82fcbcc",
   "metadata": {},
   "outputs": [],
   "source": [
    "import tkinter as tk\n",
    "from tkinter import ttk\n",
    "\n",
    "root = tk.Tk()\n",
    "root.title(\"thực hành\")\n",
    "root.geometry('500x500')\n",
    "username = ttk.Label(root, text = \"Username:\")\n",
    "username.place(x = 100, y = 50)\n",
    "email = ttk.Label(root, text = \"Email:\")\n",
    "email.place(x = 30, y = 90)  \n",
    "password = ttk.Label(root, text = \"Password:\")\n",
    "password.place(x = 30, y = 130)\n",
    "entry1 = ttk.Entry(root)\n",
    "entry1.place(x = 100, y = 50)  \n",
    "entry2 = ttk.Entry(root)\n",
    "entry2.place(x = 100, y = 90)  \n",
    "entry3 = ttk.Entry(root)\n",
    "entry3.place(x = 100, y = 130)\n",
    "root.mainloop()"
   ]
  },
  {
   "cell_type": "code",
   "execution_count": 7,
   "id": "67d758d2",
   "metadata": {},
   "outputs": [],
   "source": [
    "import tkinter as tk\n",
    "\n",
    "window = tk.Tk()\n",
    "window.title(\"Grid\")\n",
    "\n",
    "for i in range(5):\n",
    "    for j in range(3):\n",
    "        frame = tk.Frame(\n",
    "            master = window,\n",
    "            relief = tk.RAISED,\n",
    "            borderwidth = 1\n",
    "        )\n",
    "        frame.grid(row=i, column=j)\n",
    "        label = tk.Label(master=frame, text=f\"Row {i}\\nColumn {j}\")\n",
    "        label.pack()\n",
    "\n",
    "window.mainloop()"
   ]
  },
  {
   "cell_type": "code",
   "execution_count": null,
   "id": "15b97607",
   "metadata": {},
   "outputs": [],
   "source": [
    "import tkinter as tk\n",
    "\n",
    "window= tk.Tk()\n",
    "window.geometry(\"400x250\")\n",
    "window.title(\"Fill Color\")\n",
    "\n",
    "frame1 = tk.Frame(master=window, height=80, bg=\"red\")\n",
    "frame1.pack(fill=tk.X)\n",
    "\n",
    "frame2 = tk.Frame(master=window, height=50, bg=\"yellow\")\n",
    "frame2.pack(fill=tk.X)\n",
    "\n",
    "frame3 = tk.Frame(master=window, height=270, bg=\"blue\")\n",
    "frame3.pack(fill=tk.X)\n",
    "\n",
    "window.mainloop()"
   ]
  },
  {
   "cell_type": "code",
   "execution_count": null,
   "id": "020d340c",
   "metadata": {},
   "outputs": [],
   "source": [
    "import tkinter as tk\n",
    "\n",
    "window = tk.Tk()\n",
    "window.title(\"Fill Color 2\")\n",
    "\n",
    "frame1 = tk.Frame(master=window, width=200, height=100, bg=\"Yellow\")\n",
    "# setting fill, side and expand\n",
    "frame1.pack(fill=tk.BOTH, side=tk.LEFT, expand=True)\n",
    "\n",
    "frame2 = tk.Frame(master=window, width=100, bg=\"blue\")\n",
    "frame2.pack(fill=tk.BOTH, side=tk.LEFT, expand=True)\n",
    "\n",
    "frame3 = tk.Frame(master=window, width=50, bg=\"green\")\n",
    "frame3.pack(fill=tk.BOTH, side=tk.LEFT, expand=True)\n",
    "\n",
    "window.mainloop()"
   ]
  },
  {
   "cell_type": "code",
   "execution_count": 4,
   "id": "3edea10d",
   "metadata": {},
   "outputs": [
    {
     "name": "stdout",
     "output_type": "stream",
     "text": [
      "clicked at 174 138\n",
      "clicked at 95 58\n",
      "clicked at 313 64\n"
     ]
    }
   ],
   "source": [
    "import tkinter as tk\n",
    "from tkinter import ttk\n",
    "from tkinter import *\n",
    "\n",
    "window = Tk()\n",
    "window.geometry(\"400x250\")\n",
    "window.title(\"Click Event\")\n",
    "\n",
    "def callback(event):\n",
    "    print(\"clicked at\", event.x, event.y)\n",
    "\n",
    "frame = Frame(window, width=400, height=250)\n",
    "frame.bind(\"<Button-1>\", callback)\n",
    "frame.pack()\n",
    "\n",
    "window.mainloop()"
   ]
  },
  {
   "cell_type": "code",
   "execution_count": 7,
   "id": "c0225cbd",
   "metadata": {},
   "outputs": [],
   "source": [
    "import tkinter as tk\n",
    "from tkinter import ttk\n",
    "\n",
    "def return_pressed(event):\n",
    "    print('Return key pressed.')\n",
    "\n",
    "root = tk.Tk()\n",
    "\n",
    "btn = ttk.Button(root, text='Save')\n",
    "btn.bind('<Return>', return_pressed)\n",
    "\n",
    "btn.focus()\n",
    "btn.pack(expand=True)\n",
    "\n",
    "root.mainloop()"
   ]
  },
  {
   "cell_type": "code",
   "execution_count": 12,
   "id": "c1be76cc",
   "metadata": {},
   "outputs": [
    {
     "name": "stdout",
     "output_type": "stream",
     "text": [
      "Return key pressed.\n",
      "<KeyPress event send_event=True state=Mod1 keysym=Return keycode=13 char='\\r' x=64 y=11>\n",
      "Return key pressed.\n",
      "<KeyPress event send_event=True state=Mod1 keysym=Return keycode=13 char='\\r' x=64 y=11>\n",
      "Return key pressed.\n",
      "<KeyPress event send_event=True state=Mod1 keysym=Return keycode=13 char='\\r' x=64 y=11>\n",
      "Return key pressed.\n",
      "<KeyPress event send_event=True state=Mod1 keysym=Return keycode=13 char='\\r' x=64 y=11>\n",
      "Return key pressed.\n",
      "<KeyPress event send_event=True state=Mod1 keysym=Return keycode=13 char='\\r' x=64 y=11>\n"
     ]
    }
   ],
   "source": [
    "import tkinter as tk\n",
    "from tkinter import ttk\n",
    "\n",
    "def return_pressed(event):\n",
    "    print('Return key pressed.')\n",
    "\n",
    "def log(event):\n",
    "    print(event)\n",
    "\n",
    "root = tk.Tk()\n",
    "\n",
    "btn = ttk.Button(root, text='Save')\n",
    "btn.bind('<Return>', return_pressed)\n",
    "btn.bind('<Return>', log, add='+')\n",
    "\n",
    "btn.focus()\n",
    "btn.pack(expand=True)\n",
    "\n",
    "root.mainloop()"
   ]
  },
  {
   "cell_type": "code",
   "execution_count": null,
   "id": "9a9e5a61",
   "metadata": {},
   "outputs": [],
   "source": []
  }
 ],
 "metadata": {
  "kernelspec": {
   "display_name": "Python 3 (ipykernel)",
   "language": "python",
   "name": "python3"
  },
  "language_info": {
   "codemirror_mode": {
    "name": "ipython",
    "version": 3
   },
   "file_extension": ".py",
   "mimetype": "text/x-python",
   "name": "python",
   "nbconvert_exporter": "python",
   "pygments_lexer": "ipython3",
   "version": "3.9.12"
  }
 },
 "nbformat": 4,
 "nbformat_minor": 5
}
