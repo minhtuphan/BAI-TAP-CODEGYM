{
 "cells": [
  {
   "cell_type": "code",
   "execution_count": 1,
   "id": "a21d93cd",
   "metadata": {},
   "outputs": [],
   "source": [
    "import tkinter as tk\n",
    "from tkinter import ttk\n",
    "\n",
    "main_window = tk.Tk()\n",
    "main_window.title(\"thực hành\")\n",
    "main_window.geometry('500x500')\n",
    "option1 = ttk.Label(main_window, text='option 1', background = 'gray')\n",
    "option1.place(relx=0.2,rely=0)\n",
    "option2 = ttk.Label(main_window, text='option 2')\n",
    "option2.place(relx=0.4,rely=0)\n",
    "main_window.mainloop()"
   ]
  },
  {
   "cell_type": "code",
   "execution_count": null,
   "id": "a82fcbcc",
   "metadata": {},
   "outputs": [],
   "source": [
    "import tkinter as tk\n",
    "from tkinter import ttk\n",
    "\n",
    "main_window = tk.Tk()\n",
    "main_window.title(\"thực hành\")\n",
    "main_window.geometry('500x500')\n"
   ]
  }
 ],
 "metadata": {
  "kernelspec": {
   "display_name": "Python 3 (ipykernel)",
   "language": "python",
   "name": "python3"
  },
  "language_info": {
   "codemirror_mode": {
    "name": "ipython",
    "version": 3
   },
   "file_extension": ".py",
   "mimetype": "text/x-python",
   "name": "python",
   "nbconvert_exporter": "python",
   "pygments_lexer": "ipython3",
   "version": "3.9.12"
  }
 },
 "nbformat": 4,
 "nbformat_minor": 5
}
