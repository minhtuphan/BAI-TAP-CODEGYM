{
 "cells": [
  {
   "cell_type": "code",
   "execution_count": null,
   "id": "ca7349c9",
   "metadata": {},
   "outputs": [],
   "source": [
    "# Bài 1: tính tổng ước số chẵn của số nguyên dương n\n",
    "while True:\n",
    "    n = int(input(\"nhập số nguyên dương n: \"))\n",
    "    if n > 0:\n",
    "        break\n",
    "def tong_uoc_chan(n):\n",
    "    tong = 0\n",
    "    for i in range(1,(n//2)+1):\n",
    "        if (n%i == 0) and (i%2 == 0):\n",
    "            tong += i\n",
    "    return tong\n",
    "tong_uoc = tong_uoc_chan(n)\n",
    "print(f\"tổng ước số chẵn của số nguyên {n} là: {tong_uoc}\")"
   ]
  },
  {
   "cell_type": "code",
   "execution_count": null,
   "id": "9588e067",
   "metadata": {},
   "outputs": [],
   "source": [
    "# Bài 2: tìm ước số lẻ lớn nhất của số nguyên dương n\n",
    "while True:\n",
    "    n = int(input(\"nhập số nguyên dương n: \"))\n",
    "    if n > 0:\n",
    "        break\n",
    "def max_le(n):\n",
    "    MAX = 0\n",
    "    for i in range(1,(n//2)+1):\n",
    "        if (n%i == 0) and (i%2 == 1) and (i > MAX):\n",
    "            MAX = i\n",
    "    return MAX\n",
    "uoc_le_lon_nhat = max_le(n)\n",
    "print(f\"ước số lể lớn nhất của {n} là {uoc_le_lon_nhat}\")"
   ]
  },
  {
   "cell_type": "code",
   "execution_count": 1,
   "id": "97586c23",
   "metadata": {},
   "outputs": [
    {
     "name": "stdout",
     "output_type": "stream",
     "text": [
      "số lần gấp là: 13\n"
     ]
    }
   ],
   "source": [
    "# Bài 3: giấy có độ dày 0.2mm. Gấp đôi bn lần để có độ dày 1m (1000 mm)\n",
    "def gap_giay(a,b):      # a: độ dày tờ giấy và b: độ dày cần đạt được # LƯU Ý A VÀ B CÙNG ĐƠN VỊ ĐO\n",
    "    lan = 0\n",
    "    while a < b:\n",
    "        a = a * 2\n",
    "        lan += 1\n",
    "    return lan\n",
    "lan_gap = gap_giay(0.2,1000)\n",
    "print(f\"số lần gấp là: {lan_gap}\")"
   ]
  },
  {
   "cell_type": "code",
   "execution_count": 3,
   "id": "9eb13b9f",
   "metadata": {},
   "outputs": [
    {
     "name": "stdout",
     "output_type": "stream",
     "text": [
      "nhập số nguyên dương a: 36\n",
      "nhập số nguyên dương b: 96\n",
      "chỉ thỏa 1 điều kiện đề bài là a<b<1000\n"
     ]
    }
   ],
   "source": [
    "# Bài 4: xác định cặp số nguyên dương a,b thỏa điều kiện\n",
    "# a < b < 1000\n",
    "# (a^2 + b^2 + 1)/ab là một số nguyên\n",
    "while True:\n",
    "    a = int(input(\"nhập số nguyên dương a: \"))\n",
    "    b = int(input(\"nhập số nguyên dương b: \"))\n",
    "    if (a>0 and (b>0)):\n",
    "        break\n",
    "def test(a,b):\n",
    "    if a<b<1000:\n",
    "        s = (a**2 + b**2 + 1)/(a*b)\n",
    "        if isinstance(s,int):\n",
    "            print(\"thỏa 2 điều kiện đề bài\")\n",
    "        else:\n",
    "            print(\"chỉ thỏa 1 điều kiện đề bài là a<b<1000\")\n",
    "    else:\n",
    "        print(\"không thỏa 2 điều kiện đề bài\")\n",
    "test(a,b)        "
   ]
  },
  {
   "cell_type": "code",
   "execution_count": 8,
   "id": "5461e73e",
   "metadata": {},
   "outputs": [
    {
     "name": "stdout",
     "output_type": "stream",
     "text": [
      "nhập số tiền N (bỏ 3 số 0 đuôi): 1\n",
      "phương án tối ưu là 0 tờ 5.000 và 0 tờ 2.000 và 1 tờ 1.000\n"
     ]
    }
   ],
   "source": [
    "# Bài 5: tối ưu tờ tiền\n",
    "# x + 2y +5z = N\n",
    "while True:\n",
    "    n = int(input(\"nhập số tiền N (bỏ 3 số 0 đuôi): \"))\n",
    "    if n > 0:\n",
    "        break\n",
    "def doi_tien(n):\n",
    "    tien_5k = n//5\n",
    "    tien_du = n%5\n",
    "    if tien_du == 0:\n",
    "        print(f\"phương án tối ưu là {tien_5k} tờ 5.000\")\n",
    "    else:\n",
    "        tien_2k = tien_du // 2\n",
    "        tien_du_2k = tien_du % 2\n",
    "        if tien_du_2k == 0:\n",
    "            print(f\"phương án tối ưu là {tien_5k} tờ 5.000 và {tien_2k} tờ 2.000\")\n",
    "        else:\n",
    "            print(f\"phương án tối ưu là {tien_5k} tờ 5.000 và {tien_2k} tờ 2.000 và {tien_du_2k} tờ 1.000\")\n",
    "doi_tien(n)"
   ]
  },
  {
   "cell_type": "code",
   "execution_count": null,
   "id": "5ef34c43",
   "metadata": {},
   "outputs": [],
   "source": []
  }
 ],
 "metadata": {
  "kernelspec": {
   "display_name": "Python 3 (ipykernel)",
   "language": "python",
   "name": "python3"
  },
  "language_info": {
   "codemirror_mode": {
    "name": "ipython",
    "version": 3
   },
   "file_extension": ".py",
   "mimetype": "text/x-python",
   "name": "python",
   "nbconvert_exporter": "python",
   "pygments_lexer": "ipython3",
   "version": "3.9.12"
  }
 },
 "nbformat": 4,
 "nbformat_minor": 5
}
