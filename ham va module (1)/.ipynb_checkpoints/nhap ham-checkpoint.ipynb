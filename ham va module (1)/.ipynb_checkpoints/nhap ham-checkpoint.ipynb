{
 "cells": [
  {
   "cell_type": "code",
   "execution_count": 1,
   "id": "787b15e6",
   "metadata": {},
   "outputs": [
    {
     "name": "stdout",
     "output_type": "stream",
     "text": [
      "nhập số nguyên n: 2\n",
      "Bảng cửu chương 2 là: \n",
      "2 x 1 = 2\n",
      "2 x 2 = 4\n",
      "2 x 3 = 6\n",
      "2 x 4 = 8\n",
      "2 x 5 = 10\n",
      "2 x 6 = 12\n",
      "2 x 7 = 14\n",
      "2 x 8 = 16\n",
      "2 x 9 = 18\n",
      "2 x 10 = 20\n"
     ]
    }
   ],
   "source": [
    "# in ra bảng cửu chương\n",
    "n = int(input(\"nhập số nguyên n: \"))\n",
    "def cuu_chuong(n):\n",
    "    for i in range(1,11):\n",
    "        x = n * i\n",
    "        print(f\"{n} x {i} = {x}\")\n",
    "print(f\"Bảng cửu chương {n} là: \")\n",
    "cuu_chuong(n)"
   ]
  },
  {
   "cell_type": "code",
   "execution_count": null,
   "id": "dba83547",
   "metadata": {},
   "outputs": [],
   "source": [
    "# vẽ hình vuông\n",
    "import turtle\n",
    "t = turtle.Turtle()\n",
    "n = int(input(\"nhập số nguyên n: \"))\n",
    "def hinh_vuong(canh):\n",
    "    for i in range(4):\n",
    "        t.forward(canh)\n",
    "        t.right(90)\n",
    "hinh_vuong(n)\n",
    "turtle.done()"
   ]
  },
  {
   "cell_type": "code",
   "execution_count": 3,
   "id": "309c92fd",
   "metadata": {},
   "outputs": [
    {
     "name": "stdout",
     "output_type": "stream",
     "text": [
      "nhập số nguyên n: 9\n",
      "tổng ước của số nguyên n là: 4\n"
     ]
    }
   ],
   "source": [
    "# tổng tất cả các ước của 1 số nguyên dương\n",
    "while True:\n",
    "    n = int(input(\"nhập số nguyên n: \"))\n",
    "    if n > 0:\n",
    "        break\n",
    "def tong(n):\n",
    "    tong = 0\n",
    "    for i in range(1,(n//2)+1):\n",
    "        if n % i == 0:\n",
    "            tong += i\n",
    "    return tong\n",
    "tong_uoc = tong(n)\n",
    "print(f\"tổng ước của số nguyên n là: {tong_uoc}\")"
   ]
  },
  {
   "cell_type": "code",
   "execution_count": null,
   "id": "f10cbc83",
   "metadata": {},
   "outputs": [],
   "source": []
  }
 ],
 "metadata": {
  "kernelspec": {
   "display_name": "Python 3 (ipykernel)",
   "language": "python",
   "name": "python3"
  },
  "language_info": {
   "codemirror_mode": {
    "name": "ipython",
    "version": 3
   },
   "file_extension": ".py",
   "mimetype": "text/x-python",
   "name": "python",
   "nbconvert_exporter": "python",
   "pygments_lexer": "ipython3",
   "version": "3.9.12"
  }
 },
 "nbformat": 4,
 "nbformat_minor": 5
}
