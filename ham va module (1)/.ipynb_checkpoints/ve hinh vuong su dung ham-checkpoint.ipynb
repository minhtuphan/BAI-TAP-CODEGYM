{
 "cells": [
  {
   "cell_type": "code",
   "execution_count": null,
   "id": "5837cc4a",
   "metadata": {},
   "outputs": [],
   "source": [
    "import turtle\n",
    "t = turtle.Turtle()\n",
    "t.pensize(3)\n",
    "def ve_hinh_vuong(a):\n",
    "    for i in range(4):\n",
    "        t.forward(a)\n",
    "        t.right(90)\n",
    "    turtle.done()\n",
    "ve_hinh_vuong(100)"
   ]
  },
  {
   "cell_type": "code",
   "execution_count": null,
   "id": "e9343203",
   "metadata": {},
   "outputs": [],
   "source": []
  }
 ],
 "metadata": {
  "kernelspec": {
   "display_name": "Python 3 (ipykernel)",
   "language": "python",
   "name": "python3"
  },
  "language_info": {
   "codemirror_mode": {
    "name": "ipython",
    "version": 3
   },
   "file_extension": ".py",
   "mimetype": "text/x-python",
   "name": "python",
   "nbconvert_exporter": "python",
   "pygments_lexer": "ipython3",
   "version": "3.9.12"
  }
 },
 "nbformat": 4,
 "nbformat_minor": 5
}
