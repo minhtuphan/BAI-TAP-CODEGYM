{
 "cells": [
  {
   "cell_type": "code",
   "execution_count": 1,
   "id": "84a5c3c0",
   "metadata": {},
   "outputs": [
    {
     "name": "stdout",
     "output_type": "stream",
     "text": [
      "nhập bán kính hình tròn: 20\n"
     ]
    },
    {
     "ename": "TypeError",
     "evalue": "circle() missing 1 required positional argument: 'radius'",
     "output_type": "error",
     "traceback": [
      "\u001b[1;31m---------------------------------------------------------------------------\u001b[0m",
      "\u001b[1;31mTypeError\u001b[0m                                 Traceback (most recent call last)",
      "Input \u001b[1;32mIn [1]\u001b[0m, in \u001b[0;36m<cell line: 11>\u001b[1;34m()\u001b[0m\n\u001b[0;32m      9\u001b[0m     \u001b[38;5;28;01mreturn\u001b[39;00m math\u001b[38;5;241m.\u001b[39mpi \u001b[38;5;241m*\u001b[39m r \u001b[38;5;241m*\u001b[39m r\n\u001b[0;32m     10\u001b[0m s \u001b[38;5;241m=\u001b[39m tinh_dien_tich(r)\n\u001b[1;32m---> 11\u001b[0m \u001b[43mve\u001b[49m\u001b[43m(\u001b[49m\u001b[43mr\u001b[49m\u001b[43m)\u001b[49m\n\u001b[0;32m     12\u001b[0m \u001b[38;5;28mprint\u001b[39m(\u001b[38;5;124mf\u001b[39m\u001b[38;5;124m\"\u001b[39m\u001b[38;5;124mdiện tích hình tròn bán kính \u001b[39m\u001b[38;5;132;01m{\u001b[39;00mr\u001b[38;5;132;01m:\u001b[39;00m\u001b[38;5;124m.0f\u001b[39m\u001b[38;5;132;01m}\u001b[39;00m\u001b[38;5;124m là: \u001b[39m\u001b[38;5;132;01m{\u001b[39;00ms\u001b[38;5;132;01m:\u001b[39;00m\u001b[38;5;124m.2f\u001b[39m\u001b[38;5;132;01m}\u001b[39;00m\u001b[38;5;124m\"\u001b[39m)\n",
      "Input \u001b[1;32mIn [1]\u001b[0m, in \u001b[0;36mve\u001b[1;34m(r)\u001b[0m\n\u001b[0;32m      4\u001b[0m \u001b[38;5;28;01mdef\u001b[39;00m \u001b[38;5;21mve\u001b[39m(r):\n\u001b[0;32m      5\u001b[0m     t \u001b[38;5;241m=\u001b[39m turtle\u001b[38;5;241m.\u001b[39mTurtle\n\u001b[1;32m----> 6\u001b[0m     \u001b[43mt\u001b[49m\u001b[38;5;241;43m.\u001b[39;49m\u001b[43mcircle\u001b[49m\u001b[43m(\u001b[49m\u001b[43mr\u001b[49m\u001b[43m)\u001b[49m\n\u001b[0;32m      7\u001b[0m     turtle\u001b[38;5;241m.\u001b[39mdone()\n",
      "\u001b[1;31mTypeError\u001b[0m: circle() missing 1 required positional argument: 'radius'"
     ]
    }
   ],
   "source": [
    "import turtle\n",
    "import math\n",
    "r = float(input(\"nhập bán kính hình tròn: \"))\n",
    "def ve(r):\n",
    "    t = turtle.Turtle\n",
    "    t.circle(r)\n",
    "    turtle.done()\n",
    "def tinh_dien_tich(r):\n",
    "    return math.pi * r * r\n",
    "s = tinh_dien_tich(r)\n",
    "ve(r)\n",
    "print(f\"diện tích hình tròn bán kính {r:.0f} là: {s:.2f}\")"
   ]
  },
  {
   "cell_type": "code",
   "execution_count": null,
   "id": "0266befe",
   "metadata": {},
   "outputs": [],
   "source": []
  }
 ],
 "metadata": {
  "kernelspec": {
   "display_name": "Python 3 (ipykernel)",
   "language": "python",
   "name": "python3"
  },
  "language_info": {
   "codemirror_mode": {
    "name": "ipython",
    "version": 3
   },
   "file_extension": ".py",
   "mimetype": "text/x-python",
   "name": "python",
   "nbconvert_exporter": "python",
   "pygments_lexer": "ipython3",
   "version": "3.9.12"
  }
 },
 "nbformat": 4,
 "nbformat_minor": 5
}
