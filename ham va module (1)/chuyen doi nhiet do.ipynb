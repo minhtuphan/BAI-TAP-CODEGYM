{
 "cells": [
  {
   "cell_type": "code",
   "execution_count": 9,
   "id": "41affafd",
   "metadata": {},
   "outputs": [
    {
     "name": "stdout",
     "output_type": "stream",
     "text": [
      "nhập độ F cần đổi: 180\n",
      "độ C là: 82.22\n"
     ]
    }
   ],
   "source": [
    "a = float(input(\"nhập độ F cần đổi: \"))\n",
    "# chuyển đổi độ F sang độ C\n",
    "def doi_nhiet_do(a):\n",
    "# f là nhiệt độ F cần chuyển sang độ C\n",
    "    return (a-32)/1.8\n",
    "print(f\"độ C là: {doi_nhiet_do(a):.2f}\")"
   ]
  },
  {
   "cell_type": "code",
   "execution_count": null,
   "id": "e1420f38",
   "metadata": {},
   "outputs": [],
   "source": []
  }
 ],
 "metadata": {
  "kernelspec": {
   "display_name": "Python 3 (ipykernel)",
   "language": "python",
   "name": "python3"
  },
  "language_info": {
   "codemirror_mode": {
    "name": "ipython",
    "version": 3
   },
   "file_extension": ".py",
   "mimetype": "text/x-python",
   "name": "python",
   "nbconvert_exporter": "python",
   "pygments_lexer": "ipython3",
   "version": "3.9.12"
  }
 },
 "nbformat": 4,
 "nbformat_minor": 5
}
