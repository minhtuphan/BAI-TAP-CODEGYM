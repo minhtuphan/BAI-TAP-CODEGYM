{
 "cells": [
  {
   "cell_type": "code",
   "execution_count": 2,
   "id": "037cc0aa",
   "metadata": {},
   "outputs": [
    {
     "name": "stdout",
     "output_type": "stream",
     "text": [
      "Nhập số phần tử của list : 6\n",
      "Nhập giá trị: 12\n",
      "Nhập giá trị: 96\n",
      "Nhập giá trị: 93\n",
      "Nhập giá trị: 5\n",
      "Nhập giá trị: 4\n",
      "Nhập giá trị: 3\n",
      "số lớn nhất là 96 và số nhỏ nhẩt là 3\n"
     ]
    }
   ],
   "source": [
    "# bài 1: tìm số nhỏ nhất và lớn nhất của list\n",
    "while True:\n",
    "    num = int(input(\"Nhập số phần tử của list : \"))\n",
    "    if num > 2:\n",
    "        break\n",
    "mylist = []\n",
    "for i in range(num):\n",
    "    val = int(input(\"Nhập giá trị: \"))\n",
    "    mylist.append(val)\n",
    "a = max(mylist)    \n",
    "b = min(mylist)  \n",
    "print(f\"số lớn nhất là {a} và số nhỏ nhẩt là {b}\")\n"
   ]
  },
  {
   "cell_type": "code",
   "execution_count": null,
   "id": "f0baf252",
   "metadata": {},
   "outputs": [],
   "source": [
    "# bài 2: tính tổng các số armstrong\n"
   ]
  },
  {
   "cell_type": "code",
   "execution_count": 5,
   "id": "653f19cb",
   "metadata": {},
   "outputs": [
    {
     "name": "stdout",
     "output_type": "stream",
     "text": [
      "['aba', '1221']\n"
     ]
    }
   ],
   "source": [
    "# bài 3: tìm list chuỗi có ký tự đầu bằng ký tự cuối\n",
    "mylist = ['abc', 'xyz', 'g', 'aba', '1221']\n",
    "new_list = []\n",
    "for i in mylist:\n",
    "    if (i[0] == i [-1]) and (len(i) > 2):\n",
    "        new_list.append(i)\n",
    "print(new_list)"
   ]
  },
  {
   "cell_type": "code",
   "execution_count": 14,
   "id": "51dec8bb",
   "metadata": {},
   "outputs": [
    {
     "name": "stdout",
     "output_type": "stream",
     "text": [
      "[(4, 4), (2, 5), (2, 3), (2, 1), (1, 2)]\n"
     ]
    }
   ],
   "source": [
    "# bài 4: cho list các tuple, sắp xếp giảm dần theo phần tử đầu tuple\n",
    "my_list = [(2, 5), (1, 2), (4, 4), (2, 3), (2, 1)] \n",
    "new_list = sorted(my_list,reverse=True)\n",
    "print(new_list)"
   ]
  },
  {
   "cell_type": "code",
   "execution_count": 24,
   "id": "46587595",
   "metadata": {},
   "outputs": [
    {
     "ename": "TypeError",
     "evalue": "'list' object is not callable",
     "output_type": "error",
     "traceback": [
      "\u001b[1;31m---------------------------------------------------------------------------\u001b[0m",
      "\u001b[1;31mTypeError\u001b[0m                                 Traceback (most recent call last)",
      "Input \u001b[1;32mIn [24]\u001b[0m, in \u001b[0;36m<cell line: 3>\u001b[1;34m()\u001b[0m\n\u001b[0;32m      1\u001b[0m \u001b[38;5;66;03m# bài 4 _ cách 2: sắp xếp theo phẩn tử cuối của tuple\u001b[39;00m\n\u001b[0;32m      2\u001b[0m my_list \u001b[38;5;241m=\u001b[39m [(\u001b[38;5;241m2\u001b[39m, \u001b[38;5;241m5\u001b[39m), (\u001b[38;5;241m1\u001b[39m, \u001b[38;5;241m2\u001b[39m), (\u001b[38;5;241m4\u001b[39m, \u001b[38;5;241m4\u001b[39m), (\u001b[38;5;241m2\u001b[39m, \u001b[38;5;241m3\u001b[39m), (\u001b[38;5;241m2\u001b[39m, \u001b[38;5;241m1\u001b[39m)]\n\u001b[1;32m----> 3\u001b[0m new_list \u001b[38;5;241m=\u001b[39m \u001b[38;5;28msorted\u001b[39m(my_list, key\u001b[38;5;241m=\u001b[39m\u001b[43mmy_list\u001b[49m\u001b[43m(\u001b[49m\u001b[43m[\u001b[49m\u001b[38;5;241;43m-\u001b[39;49m\u001b[38;5;241;43m1\u001b[39;49m\u001b[43m]\u001b[49m\u001b[43m)\u001b[49m)\n\u001b[0;32m      4\u001b[0m \u001b[38;5;28mprint\u001b[39m(my_list)\n",
      "\u001b[1;31mTypeError\u001b[0m: 'list' object is not callable"
     ]
    }
   ],
   "source": [
    "# bài 4 _ cách 2: sắp xếp theo phẩn tử cuối của tuple\n",
    "my_list = [(2, 5), (1, 2), (4, 4), (2, 3), (2, 1)]\n",
    "new_list = sorted(my_list, key=my_list([-1]))\n",
    "print(my_list)"
   ]
  },
  {
   "cell_type": "code",
   "execution_count": null,
   "id": "ba44d6b5",
   "metadata": {},
   "outputs": [],
   "source": [
    "# bài 5: kiểm tra 2 list có ít nhất 1 phần tử giống nhau trả kết quả true, false\n",
    "list_1 = []\n",
    "list_2 = []\n"
   ]
  }
 ],
 "metadata": {
  "kernelspec": {
   "display_name": "Python 3 (ipykernel)",
   "language": "python",
   "name": "python3"
  },
  "language_info": {
   "codemirror_mode": {
    "name": "ipython",
    "version": 3
   },
   "file_extension": ".py",
   "mimetype": "text/x-python",
   "name": "python",
   "nbconvert_exporter": "python",
   "pygments_lexer": "ipython3",
   "version": "3.9.12"
  }
 },
 "nbformat": 4,
 "nbformat_minor": 5
}
