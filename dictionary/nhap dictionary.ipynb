{
 "cells": [
  {
   "cell_type": "code",
   "execution_count": null,
   "id": "01a3e2d6",
   "metadata": {},
   "outputs": [],
   "source": [
    "# nhập dictionary nhân viên, tìm tuổi nhỏ nhất và tuổi lớn nhẩt\n",
    "nhan_vien ={}\n",
    "while True:\n",
    "    thoat = input(\"nhập \"y\" nếu nuốn thoát, ngược lại nhập phím bất kỳ để tiếp tục\")\n",
    "    if thoat == \"y\":\n",
    "        break\n",
    "    ma = input(\"mã nhân viên: \")\n",
    "    tuoi = input(\"tuổi nhân viên: \")\n",
    "    nhan_vien[ma] = tuoi\n",
    "print(nhan_vien)\n",
    "if not nhan_vien:\n",
    "    print(\"không có thông tin nhân viên\")\n",
    "else:\n",
    "    tuoi_nho_nhat = None\n",
    "    tuoi_lon_nhat = None\n",
    "    for tuoi in nhan_vien.values():\n",
    "        if not tuoi_nho_nhat or tuoi_nho_nhat > tuoi:\n",
    "            tuoi_nho_nhat = tuoi\n",
    "        if not tuoi_lon_nhat or tuoi_lon_nhat < tuoi:\n",
    "            tuoi_lon_nhat = tuoi\n",
    "    print(f\"tuổi lớn nhât là: {tuoi_lon_nhat} và tuổi nhỏ nhất là: {tuoi_nho_nhat}\")"
   ]
  }
 ],
 "metadata": {
  "kernelspec": {
   "display_name": "Python 3 (ipykernel)",
   "language": "python",
   "name": "python3"
  },
  "language_info": {
   "codemirror_mode": {
    "name": "ipython",
    "version": 3
   },
   "file_extension": ".py",
   "mimetype": "text/x-python",
   "name": "python",
   "nbconvert_exporter": "python",
   "pygments_lexer": "ipython3",
   "version": "3.9.12"
  }
 },
 "nbformat": 4,
 "nbformat_minor": 5
}
