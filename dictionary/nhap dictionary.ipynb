{
 "cells": [
  {
   "cell_type": "code",
   "execution_count": null,
   "id": "01a3e2d6",
   "metadata": {},
   "outputs": [],
   "source": [
    "# nhập dictionary nhân viên, tìm tuổi nhỏ nhất và tuổi lớn nhẩt\n",
    "nhan_vien ={}\n",
    "while True:\n",
    "    thoat = input(\"nhập \"y\" nếu nuốn thoát, ngược lại nhập phím bất kỳ để tiếp tục\")\n",
    "    if thoat == \"y\":\n",
    "        break\n",
    "    ma = input(\"mã nhân viên: \")\n",
    "    tuoi = input(\"tuổi nhân viên: \")\n",
    "    nhan_vien[ma] = tuoi\n",
    "print(nhan_vien)\n",
    "if not nhan_vien:\n",
    "    print(\"không có thông tin nhân viên\")\n",
    "else:\n",
    "    tuoi_nho_nhat = None\n",
    "    tuoi_lon_nhat = None\n",
    "    for tuoi in nhan_vien.values():\n",
    "        if not tuoi_nho_nhat or tuoi_nho_nhat > tuoi:\n",
    "            tuoi_nho_nhat = tuoi\n",
    "        if not tuoi_lon_nhat or tuoi_lon_nhat < tuoi:\n",
    "            tuoi_lon_nhat = tuoi\n",
    "    print(f\"tuổi lớn nhât là: {tuoi_lon_nhat} và tuổi nhỏ nhất là: {tuoi_nho_nhat}\")"
   ]
  },
  {
   "cell_type": "code",
   "execution_count": 11,
   "id": "da3ddd53",
   "metadata": {},
   "outputs": [
    {
     "name": "stdout",
     "output_type": "stream",
     "text": [
      "75\n"
     ]
    }
   ],
   "source": [
    "student = {\n",
    "\n",
    "  \"name\": \"Emma\",\n",
    "\n",
    "  \"class\": 9,\n",
    "\n",
    "  \"marks\": 75\n",
    "\n",
    "}\n",
    "m = student['marks']\n",
    "print(m)"
   ]
  },
  {
   "cell_type": "code",
   "execution_count": 13,
   "id": "9b734f1c",
   "metadata": {},
   "outputs": [
    {
     "data": {
      "text/plain": [
       "80"
      ]
     },
     "execution_count": 13,
     "metadata": {},
     "output_type": "execute_result"
    }
   ],
   "source": [
    "sampleDict = { \n",
    "\n",
    "   \"class\":{ \n",
    "\n",
    "      \"student\":{ \n",
    "\n",
    "         \"name\":\"Mike\",\n",
    "\n",
    "         \"marks\":{ \n",
    "\n",
    "            \"physics\":70,\n",
    "\n",
    "            \"history\":80\n",
    "\n",
    "         }\n",
    "\n",
    "      }\n",
    "\n",
    "   }\n",
    "\n",
    "}\n",
    "sampleDict['class']['student']['marks']['history']"
   ]
  },
  {
   "cell_type": "code",
   "execution_count": 15,
   "id": "544539bc",
   "metadata": {},
   "outputs": [
    {
     "name": "stdout",
     "output_type": "stream",
     "text": [
      "{1: 'A', 2: 'B', 3: 'C', 4: 'D', 5: 'E'}\n"
     ]
    }
   ],
   "source": [
    "a={1:\"A\",2:\"B\",3:\"C\"}\n",
    "\n",
    "b={4:\"D\",5:\"E\"}\n",
    "\n",
    "a.update(b)\n",
    "\n",
    "print(a)"
   ]
  },
  {
   "cell_type": "code",
   "execution_count": 17,
   "id": "ef2e3102",
   "metadata": {},
   "outputs": [
    {
     "name": "stdout",
     "output_type": "stream",
     "text": [
      "4\n"
     ]
    }
   ],
   "source": [
    "a = {}\n",
    "\n",
    "a[1] = 1\n",
    "\n",
    "a['1'] = 2\n",
    "\n",
    "a[1]=a[1]+1\n",
    "\n",
    "count = 0\n",
    "\n",
    "for i in a:\n",
    "\n",
    "    count += a[i]\n",
    "\n",
    "print(count)"
   ]
  },
  {
   "cell_type": "code",
   "execution_count": 19,
   "id": "4ca96d6a",
   "metadata": {},
   "outputs": [
    {
     "name": "stdout",
     "output_type": "stream",
     "text": [
      "2\n"
     ]
    }
   ],
   "source": [
    "total={}\n",
    "\n",
    "def insert(items):\n",
    "\n",
    "    if items in total:\n",
    "\n",
    "        total[items] += 1\n",
    "\n",
    "    else:\n",
    "\n",
    "        total[items] = 1\n",
    "\n",
    "insert('Apple')\n",
    "\n",
    "insert('Ball')\n",
    "\n",
    "insert('Apple')\n",
    "\n",
    "print (len(total))"
   ]
  },
  {
   "cell_type": "code",
   "execution_count": 20,
   "id": "b8fb6b6f",
   "metadata": {},
   "outputs": [
    {
     "name": "stdout",
     "output_type": "stream",
     "text": [
      "{'Numbers': {1: 56, 3: 7}, 'Letters': {4: 'B'}}\n"
     ]
    }
   ],
   "source": [
    "numbers = {}\n",
    "\n",
    "letters = {}\n",
    "\n",
    "comb = {}\n",
    "\n",
    "numbers[1] = 56\n",
    "\n",
    "numbers[3] = 7\n",
    "\n",
    "letters[4] = 'B'\n",
    "\n",
    "comb['Numbers'] = numbers\n",
    "\n",
    "comb['Letters'] = letters\n",
    "\n",
    "print(comb)"
   ]
  },
  {
   "cell_type": "code",
   "execution_count": 21,
   "id": "caedae6f",
   "metadata": {},
   "outputs": [
    {
     "name": "stdout",
     "output_type": "stream",
     "text": [
      "2\n"
     ]
    }
   ],
   "source": [
    "test = {1:'A', 2:'B', 3:'C'}\n",
    "\n",
    "del test[1]\n",
    "\n",
    "test[1] = 'D'\n",
    "\n",
    "del test[2]\n",
    "\n",
    "print(len(test))"
   ]
  },
  {
   "cell_type": "code",
   "execution_count": 22,
   "id": "f1a71182",
   "metadata": {},
   "outputs": [
    {
     "name": "stdout",
     "output_type": "stream",
     "text": [
      "6\n"
     ]
    }
   ],
   "source": [
    "a = {}\n",
    "\n",
    "a[1] = 1\n",
    "\n",
    "a['1'] = 2\n",
    "\n",
    "a[1.0]=4\n",
    "\n",
    "count = 0\n",
    "\n",
    "for i in a:\n",
    "\n",
    "    count += a[i]\n",
    "\n",
    "print(count)"
   ]
  },
  {
   "cell_type": "code",
   "execution_count": null,
   "id": "811ea2db",
   "metadata": {},
   "outputs": [],
   "source": []
  }
 ],
 "metadata": {
  "kernelspec": {
   "display_name": "Python 3 (ipykernel)",
   "language": "python",
   "name": "python3"
  },
  "language_info": {
   "codemirror_mode": {
    "name": "ipython",
    "version": 3
   },
   "file_extension": ".py",
   "mimetype": "text/x-python",
   "name": "python",
   "nbconvert_exporter": "python",
   "pygments_lexer": "ipython3",
   "version": "3.9.12"
  }
 },
 "nbformat": 4,
 "nbformat_minor": 5
}
