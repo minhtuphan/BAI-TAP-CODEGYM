{
 "cells": [
  {
   "cell_type": "code",
   "execution_count": null,
   "id": "dcfa6de0",
   "metadata": {},
   "outputs": [],
   "source": [
    "danh_sach_sp = {\n",
    "      101 : 'SMART WATCH',\n",
    "      102 : 'PHONE',\n",
    "      103 : 'PLAYSTATION',\n",
    "      104 : 'LAPTOP',\n",
    "      105 : 'MUSIC PLAYER',\n",
    "      106 : 'TABLET'\n",
    "     }\n",
    "def them_san_pham(danh_sach_sp):\n",
    "    print(\"*** Chức năng thêm sản phẩm ***\")\n",
    "    ma_sp = input(\"nhập mã sản phẩm: \")\n",
    "    ten_sp = input(\"nhập tên sản phẩm: \")\n",
    "    if ma_sp in danh_sach_sp:\n",
    "        print(f\" sản phẩm có mã {ma_sp} đã có trong danh sach\")\n",
    "    else:\n",
    "        danh_sach_sp[ma_sp] = {\n",
    "            'ten': ten_sp\n",
    "        }\n",
    "        print(f\"*** đã thêm sản phẩm có mã {ma_sp} ***\")\n",
    "def sua_san_pham(danh_sach_sp): \n",
    "    pass\n",
    "def xoa_san_pham(danh_sach_sp):\n",
    "    pass\n",
    "def hien_thi_danh_sach_sp(danh_sach_sp):\n",
    "    for ma_sp, thong_tin in danh_sach_sp.items():\n",
    "        print(f\"Mã: {ma_sp}, Tên: {thong_tin['ten']}\")\n",
    "while True:\n",
    "    print(\"=== ứng dụng quản lý sản phẩm ===\")\n",
    "    print(\"chọn thao tác:\")\n",
    "    print(\"1. Thêm sản phẩm\")\n",
    "    print(\"2. Sửa sản phẩm\")\n",
    "    print(\"3. Xóa sản phẩm\")\n",
    "    print(\"4. Hiển thị danh sách sản phẩm\")\n",
    "    print(\"5. Thoát\")\n",
    "    lua_chon = input(\"nhập số thao tác: \")\n",
    "    if lua_chon == '1':\n",
    "        them_san_pham(danh_sach_sp)\n",
    "    elif lua_chon == '2':\n",
    "        sua_san_pham(danh_sach_sp)\n",
    "    elif lua_chon == '3':\n",
    "        xoa_san_pham(danh_sach_sp)\n",
    "    elif lua_chon == '4':\n",
    "        hien_thi_danh_sach_sp(danh_sach_sp)\n",
    "    else:\n",
    "        break\n"
   ]
  }
 ],
 "metadata": {
  "kernelspec": {
   "display_name": "Python 3 (ipykernel)",
   "language": "python",
   "name": "python3"
  },
  "language_info": {
   "codemirror_mode": {
    "name": "ipython",
    "version": 3
   },
   "file_extension": ".py",
   "mimetype": "text/x-python",
   "name": "python",
   "nbconvert_exporter": "python",
   "pygments_lexer": "ipython3",
   "version": "3.9.12"
  }
 },
 "nbformat": 4,
 "nbformat_minor": 5
}
