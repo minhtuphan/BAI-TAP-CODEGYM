{
 "cells": [
  {
   "cell_type": "code",
   "execution_count": 5,
   "id": "05785130",
   "metadata": {},
   "outputs": [
    {
     "name": "stdout",
     "output_type": "stream",
     "text": [
      "nhập đoạn văn bản: Viết chương trình đếm số lần xuất hiện của một từ trong một văn bản nhất định (đã cho sẵn)\n",
      "Viết 1\n",
      "chương 1\n",
      "trình 1\n",
      "đếm 1\n",
      "số 1\n",
      "lần 1\n",
      "xuất 1\n",
      "hiện 1\n",
      "của 1\n",
      "từ 1\n",
      "trong 1\n",
      "văn 1\n",
      "bản 1\n",
      "nhất 1\n",
      "định 1\n",
      "(đã 1\n",
      "cho 1\n",
      "sẵn) 1\n",
      "một 2\n"
     ]
    }
   ],
   "source": [
    "string = input(\"nhập đoạn văn bản: \")\n",
    "str = string.split(\" \")\n",
    "def count_text(string):\n",
    "    count={}\n",
    "    for i in str:\n",
    "        if i in count:\n",
    "            count[i]+=1\n",
    "        else:\n",
    "            count[i]=1\n",
    "    for i in sorted(count, key=count.get, reverse=False):\n",
    "        print(i, count[i])\n",
    "\n",
    "count_text(string)"
   ]
  },
  {
   "cell_type": "code",
   "execution_count": null,
   "id": "45b73bca",
   "metadata": {},
   "outputs": [],
   "source": []
  }
 ],
 "metadata": {
  "kernelspec": {
   "display_name": "Python 3 (ipykernel)",
   "language": "python",
   "name": "python3"
  },
  "language_info": {
   "codemirror_mode": {
    "name": "ipython",
    "version": 3
   },
   "file_extension": ".py",
   "mimetype": "text/x-python",
   "name": "python",
   "nbconvert_exporter": "python",
   "pygments_lexer": "ipython3",
   "version": "3.9.12"
  }
 },
 "nbformat": 4,
 "nbformat_minor": 5
}
