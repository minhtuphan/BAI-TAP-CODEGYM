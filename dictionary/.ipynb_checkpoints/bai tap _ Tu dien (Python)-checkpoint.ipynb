{
 "cells": [
  {
   "cell_type": "code",
   "execution_count": 17,
   "id": "d7b2b0df",
   "metadata": {},
   "outputs": [
    {
     "name": "stdout",
     "output_type": "stream",
     "text": [
      "nhập từ cần dịch: min\n",
      "không có trong từ điển\n"
     ]
    }
   ],
   "source": [
    "dictionary = {\n",
    "    \"eat\" : \"ăn\",\n",
    "    \"drink\" : \"uống\",\n",
    "    \"fat\" : \"mập\",\n",
    "    \"thin\" : \"ốm\",\n",
    "    \"hello\" : \"xin chào\",\n",
    "    \"bye\" : \"tạm biệt\"\n",
    "}\n",
    "def trans(vocabulary):\n",
    "    for key in dictionary:\n",
    "        if key == vocabulary:\n",
    "            print(dictionary.get(key))\n",
    "    if vocabulary not in dictionary:\n",
    "        print(\"không có trong từ điển\")\n",
    "        \n",
    "vocabulary = input(\"nhập từ cần dịch: \")\n",
    "trans(vocabulary)"
   ]
  },
  {
   "cell_type": "code",
   "execution_count": null,
   "id": "e98435ea",
   "metadata": {},
   "outputs": [],
   "source": []
  }
 ],
 "metadata": {
  "kernelspec": {
   "display_name": "Python 3 (ipykernel)",
   "language": "python",
   "name": "python3"
  },
  "language_info": {
   "codemirror_mode": {
    "name": "ipython",
    "version": 3
   },
   "file_extension": ".py",
   "mimetype": "text/x-python",
   "name": "python",
   "nbconvert_exporter": "python",
   "pygments_lexer": "ipython3",
   "version": "3.9.12"
  }
 },
 "nbformat": 4,
 "nbformat_minor": 5
}
