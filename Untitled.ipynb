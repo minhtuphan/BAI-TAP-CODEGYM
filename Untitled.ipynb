{
 "cells": [
  {
   "cell_type": "code",
   "execution_count": null,
   "id": "9c596db2",
   "metadata": {},
   "outputs": [],
   "source": [
    "from tkinter import *\n",
    "import numpy as np     # làm việc với mảng và ma trận\n",
    "\n",
    "\n",
    "size_of_board = 600\n",
    "symbol_size =  60           \n",
    "symbol_thickness = 25\n",
    "symbol_X_color = 'red'\n",
    "symbol_O_color = 'blue'\n",
    "text_color = 'green'\n",
    "\n",
    "window = Tk()\n",
    "window.title('Cờ Ca-rô')\n",
    "canvas = Canvas(window, width=size_of_board, height=size_of_board)\n",
    "canvas.pack()\n",
    "\n",
    "# for i in range(2):\n",
    "#     canvas.create_line((i + 1) * size_of_board / 3, 0, (i + 1) * size_of_board / 3, size_of_board)\n",
    "\n",
    "for i in range(2):\n",
    "    canvas.create_line(0, (i + 1) * size_of_board / 3, size_of_board, (i + 1) * size_of_board / 3)\n",
    "window.mainloop()"
   ]
  },
  {
   "cell_type": "code",
   "execution_count": null,
   "id": "ac3f1786",
   "metadata": {},
   "outputs": [],
   "source": []
  }
 ],
 "metadata": {
  "kernelspec": {
   "display_name": "Python 3 (ipykernel)",
   "language": "python",
   "name": "python3"
  },
  "language_info": {
   "codemirror_mode": {
    "name": "ipython",
    "version": 3
   },
   "file_extension": ".py",
   "mimetype": "text/x-python",
   "name": "python",
   "nbconvert_exporter": "python",
   "pygments_lexer": "ipython3",
   "version": "3.9.12"
  }
 },
 "nbformat": 4,
 "nbformat_minor": 5
}
