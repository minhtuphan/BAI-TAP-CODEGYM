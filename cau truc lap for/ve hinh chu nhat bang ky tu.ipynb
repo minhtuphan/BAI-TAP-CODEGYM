{
 "cells": [
  {
   "cell_type": "code",
   "execution_count": 1,
   "id": "ce02cca1",
   "metadata": {},
   "outputs": [
    {
     "name": "stdout",
     "output_type": "stream",
     "text": [
      "nhập ký tự: *\n",
      "chiều dài: 13\n",
      "chiều rộng: 5\n",
      "*************\n",
      "*           *\n",
      "*           *\n",
      "*           *\n",
      "*************\n"
     ]
    }
   ],
   "source": [
    "ky_tu = input(\"nhập ký tự: \")\n",
    "dai = int(input(\"chiều dài: \"))\n",
    "rong = int(input(\"chiều rộng: \"))\n",
    "for i in range(1,rong + 1):\n",
    "    chuoi = ''\n",
    "    for j in range(1,dai + 1):\n",
    "        if i == 1 or i == rong:\n",
    "            chuoi += ky_tu\n",
    "        else:\n",
    "            if j == 1 or j == dai:\n",
    "                chuoi += ky_tu\n",
    "            else:\n",
    "                chuoi += ' '\n",
    "    print(chuoi)"
   ]
  },
  {
   "cell_type": "code",
   "execution_count": null,
   "id": "ff0c1151",
   "metadata": {},
   "outputs": [],
   "source": []
  }
 ],
 "metadata": {
  "kernelspec": {
   "display_name": "Python 3 (ipykernel)",
   "language": "python",
   "name": "python3"
  },
  "language_info": {
   "codemirror_mode": {
    "name": "ipython",
    "version": 3
   },
   "file_extension": ".py",
   "mimetype": "text/x-python",
   "name": "python",
   "nbconvert_exporter": "python",
   "pygments_lexer": "ipython3",
   "version": "3.9.12"
  }
 },
 "nbformat": 4,
 "nbformat_minor": 5
}
