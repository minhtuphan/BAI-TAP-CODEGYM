{
 "cells": [
  {
   "cell_type": "code",
   "execution_count": 1,
   "id": "c124d95e",
   "metadata": {},
   "outputs": [
    {
     "name": "stdout",
     "output_type": "stream",
     "text": [
      "nhập số a bất kỳ: 13\n",
      "nhập số b bất kỳ: 23\n",
      "13\n",
      "14\n",
      "Fizzbuzz\n",
      "16\n",
      "17\n",
      "Fizz\n",
      "19\n",
      "Buzz\n",
      "Fizz\n",
      "22\n",
      "23\n"
     ]
    }
   ],
   "source": [
    "bat_dau = int(input(\"nhập số a bất kỳ: \"))\n",
    "ket_thuc = int(input(\"nhập số b bất kỳ: \"))\n",
    "if bat_dau > ket_thuc:\n",
    "    print(\"số kết thúc cần lớn hơn số bắt đầu\")\n",
    "else:\n",
    "    for i in range(bat_dau,ket_thuc+1):\n",
    "        if (i%3==0) and (i%5==0):\n",
    "            print(\"Fizzbuzz\")\n",
    "        elif (i%3==0):\n",
    "            print(\"Fizz\")\n",
    "        elif (i%5==0):\n",
    "            print(\"Buzz\")\n",
    "        else:\n",
    "            print(i)"
   ]
  },
  {
   "cell_type": "code",
   "execution_count": null,
   "id": "5d4b429e",
   "metadata": {},
   "outputs": [],
   "source": []
  }
 ],
 "metadata": {
  "kernelspec": {
   "display_name": "Python 3 (ipykernel)",
   "language": "python",
   "name": "python3"
  },
  "language_info": {
   "codemirror_mode": {
    "name": "ipython",
    "version": 3
   },
   "file_extension": ".py",
   "mimetype": "text/x-python",
   "name": "python",
   "nbconvert_exporter": "python",
   "pygments_lexer": "ipython3",
   "version": "3.9.12"
  }
 },
 "nbformat": 4,
 "nbformat_minor": 5
}
