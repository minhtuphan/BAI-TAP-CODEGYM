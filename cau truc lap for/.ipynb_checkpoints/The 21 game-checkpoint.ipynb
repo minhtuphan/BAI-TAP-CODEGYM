{
 "cells": [
  {
   "cell_type": "code",
   "execution_count": 1,
   "id": "de44c2ee",
   "metadata": {},
   "outputs": [
    {
     "name": "stdout",
     "output_type": "stream",
     "text": [
      "con số hiện tại là: 0\n",
      "lượt của máy, máy chọn 1\n",
      "con số hiện tại là: 1\n",
      "bạn chọn số nào? 1 hoặc 2 hoặc 3: 3\n",
      "con số hiện tại là: 4\n",
      "lượt của máy, máy chọn 3\n",
      "con số hiện tại là: 7\n",
      "bạn chọn số nào? 1 hoặc 2 hoặc 3: 3\n",
      "con số hiện tại là: 10\n",
      "lượt của máy, máy chọn 1\n",
      "con số hiện tại là: 11\n",
      "bạn chọn số nào? 1 hoặc 2 hoặc 3: 3\n",
      "con số hiện tại là: 14\n",
      "lượt của máy, máy chọn 1\n",
      "con số hiện tại là: 15\n",
      "bạn chọn số nào? 1 hoặc 2 hoặc 3: 3\n",
      "con số hiện tại là: 18\n",
      "lượt của máy, máy chọn 3\n",
      "số hiện tại là: 21\n",
      "chúc mừng, bạn thắng!\n",
      "bạn có muốn chơi lại không? (chọn có (y) hoặc không (n)): n\n"
     ]
    }
   ],
   "source": [
    "import random\n",
    "while True:\n",
    "    current_number = 0\n",
    "    if random.randint(0, 1)==0:\n",
    "        current_player  = \"human\"\n",
    "    else:\n",
    "        current_player = \"computer\"\n",
    "    while current_number <=21:\n",
    "        print(f\"con số hiện tại là: {current_number}\")\n",
    "        if current_player  == \"human\":\n",
    "            player_choice = \"\"\n",
    "            while player_choice not in [\"1\", \"2\", \"3\"]:\n",
    "                player_choice = input(\"bạn chọn số nào? 1 hoặc 2 hoặc 3: \")\n",
    "            player_choice = int(player_choice)\n",
    "            current_number = current_number + player_choice\n",
    "            if current_number >= 21:\n",
    "                print(f\"số hiện tại là: {current_number}\")\n",
    "                print(\"xin lỗi, bạn đã thua\")\n",
    "                break\n",
    "            current_player = \"computer\"\n",
    "        else:\n",
    "            computer_choice = random.randint(1, 3)\n",
    "            current_number = current_number + computer_choice\n",
    "            print(f\"lượt của máy, máy chọn {computer_choice}\")\n",
    "            if current_number >= 21:\n",
    "                print(f\"số hiện tại là: {current_number}\")\n",
    "                print(\"chúc mừng, bạn thắng!\")\n",
    "                break\n",
    "            current_player = \"human\"\n",
    "    play_again = input(\"bạn có muốn chơi lại không? (chọn có (y) hoặc không (n)): \")\n",
    "    if play_again in ['y']:\n",
    "        continue\n",
    "    else:\n",
    "        break"
   ]
  },
  {
   "cell_type": "code",
   "execution_count": null,
   "id": "d3a08b29",
   "metadata": {},
   "outputs": [],
   "source": []
  }
 ],
 "metadata": {
  "kernelspec": {
   "display_name": "Python 3 (ipykernel)",
   "language": "python",
   "name": "python3"
  },
  "language_info": {
   "codemirror_mode": {
    "name": "ipython",
    "version": 3
   },
   "file_extension": ".py",
   "mimetype": "text/x-python",
   "name": "python",
   "nbconvert_exporter": "python",
   "pygments_lexer": "ipython3",
   "version": "3.9.12"
  }
 },
 "nbformat": 4,
 "nbformat_minor": 5
}
