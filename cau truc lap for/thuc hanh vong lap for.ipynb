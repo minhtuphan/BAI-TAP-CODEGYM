{
 "cells": [
  {
   "cell_type": "code",
   "execution_count": 1,
   "id": "078df145",
   "metadata": {},
   "outputs": [
    {
     "ename": "IndentationError",
     "evalue": "unexpected indent (1930265047.py, line 15)",
     "output_type": "error",
     "traceback": [
      "\u001b[1;36m  Input \u001b[1;32mIn [1]\u001b[1;36m\u001b[0m\n\u001b[1;33m    so=int(str_so)\u001b[0m\n\u001b[1;37m    ^\u001b[0m\n\u001b[1;31mIndentationError\u001b[0m\u001b[1;31m:\u001b[0m unexpected indent\n"
     ]
    }
   ],
   "source": [
    "# bài 6: tìm số chẵn lớn nhất và số lẽ nhỏ nhất trong chuỗi - CÁCH 2\n",
    "n=input(\"Nhap day so: \")\n",
    "n=n+\" \"\n",
    "i=0\n",
    "str_so=\"\"\n",
    "odd_min=0\n",
    "even_max=0\n",
    "while i<len(n):\n",
    "#     print(n[i])\n",
    "    if n[i].isnumeric():\n",
    "        str_so=str_so+n[i]\n",
    "    else:\n",
    "        print(str_so)\n",
    "#         if str_so.isnumeric():\n",
    "            so=int(str_so)\n",
    "            if so%2==0:\n",
    "                if so>even_max:\n",
    "                    even_max=so\n",
    "            else:\n",
    "                if odd_min!=0:\n",
    "                    if so<odd_min:\n",
    "                        odd_min=so\n",
    "                else:\n",
    "                    odd_min=so\n",
    "        str_so=\"\"\n",
    "    i+=1\n",
    "print(\"So chan lon nhat la: {a}\\nSo le nho nhat la:{b}\".format(a=even_max,b=odd_min))"
   ]
  },
  {
   "cell_type": "code",
   "execution_count": null,
   "id": "d570581f",
   "metadata": {},
   "outputs": [],
   "source": []
  }
 ],
 "metadata": {
  "kernelspec": {
   "display_name": "Python 3 (ipykernel)",
   "language": "python",
   "name": "python3"
  },
  "language_info": {
   "codemirror_mode": {
    "name": "ipython",
    "version": 3
   },
   "file_extension": ".py",
   "mimetype": "text/x-python",
   "name": "python",
   "nbconvert_exporter": "python",
   "pygments_lexer": "ipython3",
   "version": "3.9.12"
  }
 },
 "nbformat": 4,
 "nbformat_minor": 5
}
