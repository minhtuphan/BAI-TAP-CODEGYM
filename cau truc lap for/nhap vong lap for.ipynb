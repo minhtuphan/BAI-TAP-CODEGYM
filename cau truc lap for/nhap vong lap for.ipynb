{
 "cells": [
  {
   "cell_type": "code",
   "execution_count": 2,
   "id": "0d78333f",
   "metadata": {},
   "outputs": [
    {
     "name": "stdout",
     "output_type": "stream",
     "text": [
      "nhập số nguyên a: 3\n",
      "nhập số nguyên b: 9\n",
      "từ 3 đến 9: tổng số lẻ là 24 và tích số chẳn là 192\n"
     ]
    }
   ],
   "source": [
    "while True:\n",
    "    a = int(input(\"nhập số nguyên a: \"))\n",
    "    b = int(input(\"nhập số nguyên b: \"))\n",
    "    if 0<a<=b:\n",
    "        break\n",
    "tong = 0\n",
    "tich = 1\n",
    "for i in range(a,b+1):\n",
    "    if i%2 == 0:\n",
    "        tich = tich * i\n",
    "    else:\n",
    "        tong = tong + i\n",
    "print(f\"từ {a} đến {b}: tổng số lẻ là {tong} và tích số chẳn là {tich}\")"
   ]
  },
  {
   "cell_type": "code",
   "execution_count": 6,
   "id": "88cb1193",
   "metadata": {},
   "outputs": [
    {
     "name": "stdout",
     "output_type": "stream",
     "text": [
      "số nguyên tố là: 2\n",
      "số nguyên tố là: 3\n",
      "số nguyên tố là: 5\n",
      "số nguyên tố là: 7\n",
      "số nguyên tố là: 11\n",
      "số nguyên tố là: 13\n",
      "số nguyên tố là: 17\n",
      "số nguyên tố là: 19\n"
     ]
    }
   ],
   "source": [
    "# in ra số nguyên tố từ 1 đến 20\n",
    "for i in range(1,21):\n",
    "    count = 0\n",
    "    for j in range(1,i+1):\n",
    "        if i%j == 0:\n",
    "            count += 1\n",
    "    if count == 2:\n",
    "        print(f\"số nguyên tố là: {i}\")"
   ]
  },
  {
   "cell_type": "code",
   "execution_count": null,
   "id": "687195c4",
   "metadata": {},
   "outputs": [],
   "source": []
  }
 ],
 "metadata": {
  "kernelspec": {
   "display_name": "Python 3 (ipykernel)",
   "language": "python",
   "name": "python3"
  },
  "language_info": {
   "codemirror_mode": {
    "name": "ipython",
    "version": 3
   },
   "file_extension": ".py",
   "mimetype": "text/x-python",
   "name": "python",
   "nbconvert_exporter": "python",
   "pygments_lexer": "ipython3",
   "version": "3.9.12"
  }
 },
 "nbformat": 4,
 "nbformat_minor": 5
}
