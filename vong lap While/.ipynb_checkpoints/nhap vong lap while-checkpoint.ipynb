{
 "cells": [
  {
   "cell_type": "code",
   "execution_count": 2,
   "id": "f4db5add",
   "metadata": {},
   "outputs": [
    {
     "name": "stdout",
     "output_type": "stream",
     "text": [
      "10\n",
      "9\n",
      "8\n",
      "7\n",
      "6\n",
      "5\n",
      "4\n",
      "3\n",
      "2\n",
      "1\n"
     ]
    }
   ],
   "source": [
    "n=10\n",
    "while n>=1:\n",
    "    print(n)\n",
    "    n -= 1\n",
    "    "
   ]
  },
  {
   "cell_type": "code",
   "execution_count": 3,
   "id": "f7cb1dde",
   "metadata": {},
   "outputs": [
    {
     "name": "stdout",
     "output_type": "stream",
     "text": [
      "1\n",
      "3\n",
      "5\n",
      "7\n",
      "9\n"
     ]
    }
   ],
   "source": [
    "n=1\n",
    "while n<=10:\n",
    "    if n%2 == 1:\n",
    "        print(n)\n",
    "    n += 1\n"
   ]
  },
  {
   "cell_type": "code",
   "execution_count": 4,
   "id": "f9055792",
   "metadata": {},
   "outputs": [
    {
     "name": "stdout",
     "output_type": "stream",
     "text": [
      "2\n",
      "4\n",
      "6\n",
      "8\n",
      "10\n"
     ]
    }
   ],
   "source": [
    "n=1\n",
    "while n<=10:\n",
    "    if n%2 == 0:\n",
    "        print(n)\n",
    "    n += 1\n"
   ]
  },
  {
   "cell_type": "code",
   "execution_count": 6,
   "id": "a5d3c379",
   "metadata": {},
   "outputs": [
    {
     "name": "stdout",
     "output_type": "stream",
     "text": [
      "nhập số n từ 1 đến 9: 9\n",
      "9 x 1 = 9\n",
      "9 x 2 = 18\n",
      "9 x 3 = 27\n",
      "9 x 4 = 36\n",
      "9 x 5 = 45\n",
      "9 x 6 = 54\n",
      "9 x 7 = 63\n",
      "9 x 8 = 72\n",
      "9 x 9 = 81\n",
      "9 x 10 = 90\n"
     ]
    }
   ],
   "source": [
    "n = int(input(\"nhập số n từ 1 đến 9: \"))\n",
    "i = 1\n",
    "if n<=9:    \n",
    "    while i <= 10:\n",
    "        s = n * i\n",
    "        print(f\"{n} x {i} = {s}\")\n",
    "        i += 1\n",
    "else:\n",
    "    print(\"nhập lại\")"
   ]
  },
  {
   "cell_type": "code",
   "execution_count": 8,
   "id": "664305b6",
   "metadata": {},
   "outputs": [
    {
     "name": "stdout",
     "output_type": "stream",
     "text": [
      "nhập số n: 6\n",
      "*\n",
      "**\n",
      "***\n",
      "****\n",
      "*****\n",
      "******\n"
     ]
    }
   ],
   "source": [
    "n = int(input(\"nhập số n: \"))\n",
    "i = 1\n",
    "while i <= n:\n",
    "    s = '*' * i\n",
    "    print(s)\n",
    "    i += 1 "
   ]
  },
  {
   "cell_type": "code",
   "execution_count": 29,
   "id": "074d16b3",
   "metadata": {},
   "outputs": [
    {
     "name": "stdout",
     "output_type": "stream",
     "text": [
      "nhập số n: 6\n",
      "     *\n",
      "    ***\n",
      "   *****\n",
      "  *******\n",
      " *********\n",
      "***********\n"
     ]
    }
   ],
   "source": [
    "n = int(input(\"nhập số n: \"))\n",
    "i = 1\n",
    "j = n - 1\n",
    "while i <= n:\n",
    "    step = \" \" * j\n",
    "    s1 = \"*\" * i\n",
    "    s2 = \"*\" * (i-1)\n",
    "    print(step + s1 + s2)\n",
    "    i += 1\n",
    "    j -= 1"
   ]
  },
  {
   "cell_type": "code",
   "execution_count": 28,
   "id": "0e6b887f",
   "metadata": {},
   "outputs": [
    {
     "name": "stdout",
     "output_type": "stream",
     "text": [
      "nhập số n: 5\n",
      "    *\n",
      "   ***\n",
      "  *****\n",
      " *******\n",
      "*********\n",
      " *******\n",
      "  *****\n",
      "   ***\n",
      "    *\n"
     ]
    }
   ],
   "source": [
    "n = int(input(\"nhập số n: \"))\n",
    "i = 1\n",
    "j = n - 1\n",
    "while i <= n:\n",
    "    step = \" \" * j\n",
    "    s1 = \"*\" * i\n",
    "    s2 = \"*\" * (i-1)\n",
    "    print(step + s1 + s2)\n",
    "    i += 1\n",
    "    j -= 1\n",
    "z = 1\n",
    "n = n -1\n",
    "while n >= 1:\n",
    "    step2 = \" \" * z\n",
    "    s3 = \"*\" * n\n",
    "    s4 = \"*\" * (n-1)\n",
    "    print(step2 + s3 + s4)\n",
    "    n -=1\n",
    "    z += 1 "
   ]
  },
  {
   "cell_type": "code",
   "execution_count": null,
   "id": "45cb5cc4",
   "metadata": {},
   "outputs": [],
   "source": []
  }
 ],
 "metadata": {
  "kernelspec": {
   "display_name": "Python 3 (ipykernel)",
   "language": "python",
   "name": "python3"
  },
  "language_info": {
   "codemirror_mode": {
    "name": "ipython",
    "version": 3
   },
   "file_extension": ".py",
   "mimetype": "text/x-python",
   "name": "python",
   "nbconvert_exporter": "python",
   "pygments_lexer": "ipython3",
   "version": "3.9.12"
  }
 },
 "nbformat": 4,
 "nbformat_minor": 5
}
