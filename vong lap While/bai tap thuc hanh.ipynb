{
 "cells": [
  {
   "cell_type": "code",
   "execution_count": null,
   "id": "fd7e6111",
   "metadata": {},
   "outputs": [],
   "source": [
    "# bài 1: tính giai thừa\n",
    "i = 1\n",
    "while True:\n",
    "    n = int(input(\"nhập giá trị n: \"))\n",
    "    if n>0:\n",
    "        break\n",
    "giai_thua = 1\n",
    "while i<=n:\n",
    "    giai_thua = giai_thua * i\n",
    "    i += 1\n",
    "print(f\"giai thừa của {n} là {giai_thua}\")"
   ]
  },
  {
   "cell_type": "code",
   "execution_count": null,
   "id": "f3876d52",
   "metadata": {},
   "outputs": [],
   "source": [
    "# bài 2: tính tổng bình phương các số từ x đến y\n",
    "while True:\n",
    "    x = int(input(\"nhập số nguyên x: \"))\n",
    "    y = int(input(\"nhập số nguyên y: \"))\n",
    "    if x<y:\n",
    "        break\n",
    "tong = 0\n",
    "i = x \n",
    "while i<=y:\n",
    "    tong = tong + (i**2)\n",
    "    i += 1\n",
    "print(f\"tổng bình phương các số từ {x} đến {y} là {tong}\")\n",
    "        "
   ]
  },
  {
   "cell_type": "code",
   "execution_count": null,
   "id": "eede958b",
   "metadata": {},
   "outputs": [],
   "source": [
    "# bài 3: kiểm tra số hoàn chỉnh\n",
    "while True:\n",
    "    n = int(input(\"nhập số nguyên n: \"))\n",
    "    if n>0:\n",
    "        break\n",
    "tong = 0\n",
    "i = 1\n",
    "while i<n:      # có thể cho chạy đến i<=(n//2)\n",
    "    if n%i == 0:\n",
    "        tong= tong + i\n",
    "    i+=1\n",
    "if tong == n:\n",
    "    print(f\"{n} là số hoàn chỉnh\")\n",
    "else:\n",
    "    print(f\"{n} không phải số hoàn chỉnh\")"
   ]
  },
  {
   "cell_type": "code",
   "execution_count": null,
   "id": "f54564f5",
   "metadata": {},
   "outputs": [],
   "source": [
    "# bài 4: nhâp a<=b, tính tổng số lẻ và tích số chẳn ở giữa 2 số\n",
    "while True:\n",
    "    a = int(input(\"nhập số nguyên a: \"))\n",
    "    b = int(input(\"nhập số nguyên b: \"))\n",
    "    if a<=b:\n",
    "        break\n",
    "i = a\n",
    "tong = 0\n",
    "tich = 1\n",
    "while i<=b:\n",
    "    if i%2 == 0:\n",
    "        tich = tich * i\n",
    "    else:\n",
    "        tong = tong + i\n",
    "    i += 1\n",
    "print(f\"từ {a} đến {b}: tổng số lẻ là {tong} và tích số chẳn là {tich}\") "
   ]
  },
  {
   "cell_type": "code",
   "execution_count": null,
   "id": "20ca066a",
   "metadata": {},
   "outputs": [],
   "source": [
    "# bài 5:  tính biểu thức S= 1 + 1/2 + 1/3 + 1/4 + ....+ 1/n\n",
    "while True:\n",
    "    n = int(input(\"nhập giá trị n: \"))\n",
    "    if n>0:\n",
    "        break\n",
    "s = 0\n",
    "i = 1\n",
    "while i <= n:\n",
    "    s = s + 1/i\n",
    "    i += 1\n",
    "print(f\"giá trị biểu thức S = {s:.5f}\")"
   ]
  },
  {
   "cell_type": "code",
   "execution_count": null,
   "id": "c04fdfdb",
   "metadata": {},
   "outputs": [],
   "source": [
    "# bài 6: tìm số chẵn lớn nhất và số lẽ nhỏ nhất trong chuỗi\n",
    "while True:\n",
    "    chuoi = input(\"nhập vào dãy số (cách nhau bằng khoảng trắng): \")\n",
    "    kiem_tra = chuoi.replace(\" \",\"\")\n",
    "    if kiem_tra.isnumeric() == True:\n",
    "        break\n",
    "chuoi_moi = chuoi.split(\" \")\n",
    "so_chan_lon_nhat = int(min(chuoi_moi))\n",
    "so_le_nho_nhat = int(max(chuoi_moi))\n",
    "i=0\n",
    "while i < len(chuoi_moi):\n",
    "    a = int(chuoi_moi[i])\n",
    "    if a % 2 == 0:\n",
    "        if a > so_chan_lon_nhat:\n",
    "            so_chan_lon_nhat = a\n",
    "    else:\n",
    "        if a <  so_le_nho_nhat:\n",
    "            so_le_nho_nhat = a\n",
    "    i=i+1\n",
    "print(f\"số chẵn lớn nhất là: {so_chan_lon_nhat}\")\n",
    "print(f\"số lẻ nhỏ nhất là: {so_le_nho_nhat}\")"
   ]
  },
  {
   "cell_type": "code",
   "execution_count": 2,
   "id": "47705715",
   "metadata": {},
   "outputs": [
    {
     "name": "stdout",
     "output_type": "stream",
     "text": [
      "nhâp chuỗi: Xin chào CÁC bạn\n",
      "nhập 'hoa' nếu yêu cầu in hoa, nhập 'thường' nếu yêu cầu in thường: hoa\n",
      "XIN CHÀO CÁC BẁN\n"
     ]
    }
   ],
   "source": [
    "# bài 7: nhập chuỗi, nhập yêu cầu, xuất chuỗi được yêu cầu\n",
    "chuoi = input(\"nhâp chuỗi: \")\n",
    "yeu_cau = input(\"nhập 'hoa' nếu yêu cầu in hoa, nhập 'thường' nếu yêu cầu in thường: \")\n",
    "chuoi_yeu_cau = \"\"\n",
    "i = 0\n",
    "if yeu_cau == 'hoa':\n",
    "    while i<len(chuoi):\n",
    "        if chuoi[i].islower():\n",
    "            chuoi_yeu_cau += chr(ord(chuoi[i])-32)\n",
    "        else:\n",
    "            chuoi_yeu_cau += chuoi[i]\n",
    "        i += 1\n",
    "elif yeu_cau == 'thường':\n",
    "    while i<len(chuoi):\n",
    "        if chuoi[i].isupper():\n",
    "            chuoi_yeu_cau += chr(ord(chuoi[i])-32)\n",
    "        else:\n",
    "            chuoi_yeu_cau += chuoi[i]\n",
    "        i += 1\n",
    "else:\n",
    "    print(\"chuỗi ko hợp lệ\")\n",
    "print(chuoi_yeu_cau)"
   ]
  },
  {
   "cell_type": "code",
   "execution_count": 3,
   "id": "7f30228b",
   "metadata": {},
   "outputs": [
    {
     "name": "stdout",
     "output_type": "stream",
     "text": [
      "nhập chuỗi: XIn Chao \n",
      "chuỗi đã thay đổi là:  x in  chao \n"
     ]
    }
   ],
   "source": [
    "# bài 8: nhập chuỗi, chuyển ký tự hoa thành khoảng trắng và ký tự thường\n",
    "chuoi = input(\"nhập chuỗi: \")\n",
    "a=len(chuoi)\n",
    "i=0\n",
    "chuoi_moi = \"\"\n",
    "while i < a:\n",
    "    b = chuoi[i]\n",
    "    if b.isupper() == True:   \n",
    "        c = \" \" + b.lower()\n",
    "    else:\n",
    "        c = b\n",
    "    chuoi_moi = chuoi_moi + c\n",
    "    i += 1\n",
    "print(f\"chuỗi đã thay đổi là: {chuoi_moi}\")"
   ]
  },
  {
   "cell_type": "code",
   "execution_count": null,
   "id": "bd32bcb8",
   "metadata": {},
   "outputs": [],
   "source": [
    "# bài 9: nhập chuỗi, xuất chuỗi ký tự duy nhất, đếm chuỗi mới có bn chữ hoa/thường\n",
    "chuoi = input(\"nhập chuỗi: \")\n",
    "i=0\n",
    "chuoi_moi = \"\"\n",
    "while i < len(chuoi):\n",
    "    if chuoi[i] not in chuoi_moi:\n",
    "        chuoi_moi = chuoi_moi + chuoi[i]\n",
    "    i += 1\n",
    "ky_tu_hoa = 0\n",
    "ky_tu_thuong = 0\n",
    "j=0\n",
    "while j < len(chuoi_moi):\n",
    "    b = chuoi_moi[j]\n",
    "    if b.isupper():\n",
    "        ky_tu_hoa += 1\n",
    "    if b.islower():\n",
    "        ky_tu_thuong += 1\n",
    "    j += 1\n",
    "print(f\"chuỗi mới là: {chuoi_moi}\")\n",
    "print(f\"số ký tự in hoa trong chuỗi mới là: {ky_tu_hoa}\")\n",
    "print(f\"số ký tự thường trong chuỗi mới là: {ky_tu_thuong}\")"
   ]
  },
  {
   "cell_type": "code",
   "execution_count": null,
   "id": "f3d262e6",
   "metadata": {},
   "outputs": [],
   "source": [
    "# bài 10: tính thu chi\n",
    "print(\"nhập 'q' khi muốn bắt đầu tính doanh thu\")\n",
    "tong_thu = 0\n",
    "tong_chi = 0\n",
    "while True:\n",
    "    x = input(\"nhập giao dịch: \")\n",
    "    if (x[0] in 'tc') and (int(x[1:]) >= 0):\n",
    "        if x[0] == 't':\n",
    "            tong_thu = tong_thu + int(x[1:])\n",
    "        else:\n",
    "            tong_chi = tong_chi + int(x[1:])\n",
    "    elif x == 'q':\n",
    "        break\n",
    "    else:\n",
    "        print(\"nhập sai. Nhập lại\")\n",
    "loi_nhuan = tong_thu - tong_chi\n",
    "print(f\"lợi nhuận là: {loi_nhuan}\")              "
   ]
  },
  {
   "cell_type": "code",
   "execution_count": null,
   "id": "a1baa1bf",
   "metadata": {},
   "outputs": [],
   "source": [
    "# bài 11: đếm ký tự trùng trong chuỗi, có phân biệt hoa/thường\n",
    "chuoi = input(\"nhập chuôi: \")\n",
    "i = 0\n",
    "trung = 0\n",
    "chuoi_moi = \"\"\n",
    "while i < len(chuoi):\n",
    "    if chuoi[i] not in chuoi_moi:\n",
    "        chuoi_moi = chuoi_moi + chuoi[i]\n",
    "    else:\n",
    "        trung = trung +1\n",
    "    i += 1\n",
    "print(f\"tổng trùng là: {trung}\")"
   ]
  },
  {
   "cell_type": "code",
   "execution_count": null,
   "id": "8f9b6f20",
   "metadata": {},
   "outputs": [],
   "source": [
    "# bài 12: game rắn săn mồi, mỗi lần ăn mồi CHIỀU DÀI TĂNG GẤP ĐÔI\n",
    "while True:\n",
    "    n = int(input(\"nhập giá trị n: \"))\n",
    "    if n>0:\n",
    "        break\n",
    "tong = n * n    # tổng số ô vuông\n",
    "i=1\n",
    "lan_an = 0\n",
    "while i <= tong:\n",
    "    if (i*2) > tong:\n",
    "        break\n",
    "    i = i * 2\n",
    "    lan_an = lan_an + 1\n",
    "print(f\"số lần ăn tối đa là: {lan_an}\")"
   ]
  },
  {
   "cell_type": "code",
   "execution_count": 1,
   "id": "b22b5702",
   "metadata": {},
   "outputs": [
    {
     "name": "stdout",
     "output_type": "stream",
     "text": [
      "nhập một số nguyên từ 1 đến 10:  1\n",
      "con số bạn chọn là: 1\n",
      "nhập một số nguyên từ 1 đến 10:  2\n",
      "con số bạn chọn là: 2\n",
      "nhập một số nguyên từ 1 đến 10:  3\n",
      "con số bạn chọn là: 3\n",
      "nhập một số nguyên từ 1 đến 10:  4\n",
      "con số bạn chọn là: 4\n",
      "nhập một số nguyên từ 1 đến 10:  5\n",
      "con số bạn chọn là: 5\n",
      "chúc mừng bạn đoán trúng\n"
     ]
    }
   ],
   "source": [
    "# bài 13: game đoán số, dùng hàm randint\n",
    "import random\n",
    "while True:\n",
    "    n = int(input(\"nhập một số nguyên từ 1 đến 10:  \"))\n",
    "    print(f\"con số bạn chọn là: {n}\")\n",
    "    so_ngau_nhien = random.randint(1, 10)\n",
    "    if n == so_ngau_nhien:\n",
    "        print(\"chúc mừng bạn đoán trúng\")\n",
    "        break"
   ]
  },
  {
   "cell_type": "code",
   "execution_count": null,
   "id": "f50b45d5",
   "metadata": {},
   "outputs": [],
   "source": [
    "# bài 14: dùng vòng lặp đảo chuỗi\n",
    "chuoi = input(\"nhập chuỗi: \")\n",
    "a=len(chuoi)\n",
    "chuoi_moi = \"\"\n",
    "i=-1\n",
    "while i>= (-a):\n",
    "    chuoi_moi = chuoi_moi + chuoi[i]\n",
    "    i -= 1\n",
    "print(f\"chuỗi đảo ngược là: {chuoi_moi}\")"
   ]
  },
  {
   "cell_type": "code",
   "execution_count": null,
   "id": "2b48d0c2",
   "metadata": {},
   "outputs": [],
   "source": [
    "# bài 15: nhập chuỗi, đếm số ký tự hoa, thường trong chuỗi\n",
    "chuoi = input(\"nhập chuỗi: \")\n",
    "a=len(chuoi)\n",
    "ky_tu_hoa = 0\n",
    "ky_tu_thuong = 0\n",
    "i=0\n",
    "while i < a:\n",
    "    b = chuoi[i]\n",
    "    if b.isupper() == True:\n",
    "        ky_tu_hoa += 1\n",
    "    if b.islower() == True:\n",
    "        ky_tu_thuong += 1\n",
    "    i += 1\n",
    "print(f\"số ký tự in hoa trong chuỗi là: {ky_tu_hoa}\")\n",
    "print(f\"số ký tự thường trong chuỗi là: {ky_tu_thuong}\")"
   ]
  },
  {
   "cell_type": "code",
   "execution_count": 1,
   "id": "fabb5f40",
   "metadata": {},
   "outputs": [
    {
     "name": "stdout",
     "output_type": "stream",
     "text": [
      "nhập chuỗi: XIN chao\n",
      "số ký tự in hoa trong chuỗi là: 3\n",
      "số ký tự thường trong chuỗi là: 4\n"
     ]
    }
   ],
   "source": [
    "# bài 15: nhập chuỗi, đếm số ký tự hoa, thường trong chuỗi - DÙNG FOR\n",
    "chuoi = input(\"nhập chuỗi: \")\n",
    "ky_tu_hoa = 0\n",
    "ky_tu_thuong = 0\n",
    "for i in range(len(chuoi)):\n",
    "    if chuoi[i].isupper():\n",
    "        ky_tu_hoa += 1\n",
    "    if chuoi[i].islower():\n",
    "        ky_tu_thuong += 1\n",
    "print(f\"số ký tự in hoa trong chuỗi là: {ky_tu_hoa}\")\n",
    "print(f\"số ký tự thường trong chuỗi là: {ky_tu_thuong}\")"
   ]
  },
  {
   "cell_type": "code",
   "execution_count": null,
   "id": "f200c8cb",
   "metadata": {},
   "outputs": [],
   "source": []
  }
 ],
 "metadata": {
  "kernelspec": {
   "display_name": "Python 3 (ipykernel)",
   "language": "python",
   "name": "python3"
  },
  "language_info": {
   "codemirror_mode": {
    "name": "ipython",
    "version": 3
   },
   "file_extension": ".py",
   "mimetype": "text/x-python",
   "name": "python",
   "nbconvert_exporter": "python",
   "pygments_lexer": "ipython3",
   "version": "3.9.12"
  }
 },
 "nbformat": 4,
 "nbformat_minor": 5
}
