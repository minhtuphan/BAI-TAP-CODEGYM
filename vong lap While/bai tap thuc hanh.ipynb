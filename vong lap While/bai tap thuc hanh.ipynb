{
 "cells": [
  {
   "cell_type": "code",
   "execution_count": null,
   "id": "fd7e6111",
   "metadata": {},
   "outputs": [],
   "source": [
    "# bài 1: tính giai thừa\n",
    "i = 1\n",
    "while True:\n",
    "    n = int(input(\"nhập giá trị n: \"))\n",
    "    if n>0:\n",
    "        break\n",
    "giai_thua = 1\n",
    "while i<=n:\n",
    "    giai_thua = giai_thua * i\n",
    "    i += 1\n",
    "print(f\"giai thừa của {n} là {giai_thua}\")"
   ]
  },
  {
   "cell_type": "code",
   "execution_count": null,
   "id": "f3876d52",
   "metadata": {},
   "outputs": [],
   "source": [
    "# bài 2: tính tổng bình phương các số từ x đến y\n",
    "while True:\n",
    "    x = int(input(\"nhập số nguyên x: \"))\n",
    "    y = int(input(\"nhập số nguyên y: \"))\n",
    "    if x<y:\n",
    "        break\n",
    "tong = 0\n",
    "i = x \n",
    "while i<=y:\n",
    "    tong = tong + (i**2)\n",
    "    i += 1\n",
    "print(f\"tổng bình phương các số từ {x} đến {y} là {tong}\")\n",
    "        "
   ]
  },
  {
   "cell_type": "code",
   "execution_count": null,
   "id": "eede958b",
   "metadata": {},
   "outputs": [],
   "source": [
    "# bài 3: kiểm tra số hoàn chỉnh\n",
    "while True:\n",
    "    n = int(input(\"nhập số nguyên n: \"))\n",
    "    if n>0:\n",
    "        break\n",
    "tong = 0\n",
    "i = 1\n",
    "while i<n:      # có thể cho chạy đến i<=(n//2)\n",
    "    if n%i == 0:\n",
    "        tong= tong + i\n",
    "    i+=1\n",
    "if tong == n:\n",
    "    print(f\"{n} là số hoàn chỉnh\")\n",
    "else:\n",
    "    print(f\"{n} không phải số hoàn chỉnh\")"
   ]
  },
  {
   "cell_type": "code",
   "execution_count": 3,
   "id": "f54564f5",
   "metadata": {},
   "outputs": [
    {
     "name": "stdout",
     "output_type": "stream",
     "text": [
      "nhập số nguyên a: 3\n",
      "nhập số nguyên b: 9\n",
      "từ 3 đến 9: tổng số lẻ là 24 và tích số chẳn là 192\n"
     ]
    }
   ],
   "source": [
    "# bài 4: nhâp a<=b, tính tổng số lẻ và tích số chẳn ở giữa 2 số\n",
    "while True:\n",
    "    a = int(input(\"nhập số nguyên a: \"))\n",
    "    b = int(input(\"nhập số nguyên b: \"))\n",
    "    if a<=b:\n",
    "        break\n",
    "i = a\n",
    "tong = 0\n",
    "tich = 1\n",
    "while i<=b:\n",
    "    if i%2 == 0:\n",
    "        tich = tich * i\n",
    "    else:\n",
    "        tong = tong + i\n",
    "    i += 1\n",
    "print(f\"từ {a} đến {b}: tổng số lẻ là {tong} và tích số chẳn là {tich}\") "
   ]
  },
  {
   "cell_type": "code",
   "execution_count": 4,
   "id": "20ca066a",
   "metadata": {},
   "outputs": [
    {
     "name": "stdout",
     "output_type": "stream",
     "text": [
      "nhập giá trị n: 5\n",
      "giá trị biểu thức S = 2.28333\n"
     ]
    }
   ],
   "source": [
    "# bài 5:  tính biểu thức S= 1 + 1/2 + 1/3 + 1/4 + ....+ 1/n\n",
    "while True:\n",
    "    n = int(input(\"nhập giá trị n: \"))\n",
    "    if n>0:\n",
    "        break\n",
    "s = 0\n",
    "i = 1\n",
    "while i <= n:\n",
    "    s = s + 1/i\n",
    "    i += 1\n",
    "print(f\"giá trị biểu thức S = {s:.5f}\")"
   ]
  },
  {
   "cell_type": "code",
   "execution_count": 6,
   "id": "c04fdfdb",
   "metadata": {},
   "outputs": [
    {
     "name": "stdout",
     "output_type": "stream",
     "text": [
      "nhập vào dãy số (cách nhau bằng khoảng trắng): 123 56 96\n",
      "3\n"
     ]
    }
   ],
   "source": [
    "while True:\n",
    "    chuoi = input(\"nhập vào dãy số (cách nhau bằng khoảng trắng): \")\n",
    "    kiem_tra = chuoi.replace(\" \",\"\")\n",
    "    if kiem_tra.isnumeric() == True:\n",
    "        break\n",
    "chuoi_moi = chuoi.split(\" \")\n",
    "i=0\n",
    "while i <= len(chuoi_moi):\n",
    "    if int(chuoi_moi[i]) \n",
    "    \n",
    "# if (int(chuoi.split(\" \")) % 2) == 0:\n",
    "#     so_chan_lon_nhat = max(int(chuoi.split(\" \")))\n",
    "#     print(f\"số chẵn lớn nhất là: {cho_chan_lon_nhat}\")\n",
    "# else:\n",
    "#     so_le_nho_nhat = min(int(chuoi.split(\" \")))\n",
    "#     print(f\"số lẻ lớn nhất là: {cho_le_nho_nhat}\")"
   ]
  },
  {
   "cell_type": "code",
   "execution_count": null,
   "id": "47705715",
   "metadata": {},
   "outputs": [],
   "source": []
  }
 ],
 "metadata": {
  "kernelspec": {
   "display_name": "Python 3 (ipykernel)",
   "language": "python",
   "name": "python3"
  },
  "language_info": {
   "codemirror_mode": {
    "name": "ipython",
    "version": 3
   },
   "file_extension": ".py",
   "mimetype": "text/x-python",
   "name": "python",
   "nbconvert_exporter": "python",
   "pygments_lexer": "ipython3",
   "version": "3.9.12"
  }
 },
 "nbformat": 4,
 "nbformat_minor": 5
}
