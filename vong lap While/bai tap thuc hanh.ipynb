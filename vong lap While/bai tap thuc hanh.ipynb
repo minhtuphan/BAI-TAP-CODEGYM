{
 "cells": [
  {
   "cell_type": "code",
   "execution_count": null,
   "id": "fd7e6111",
   "metadata": {},
   "outputs": [],
   "source": [
    "# bài 1: tính giai thừa\n",
    "i = 1\n",
    "while True:\n",
    "    n = int(input(\"nhập giá trị n: \"))\n",
    "    if n>0:\n",
    "        break\n",
    "giai_thua = 1\n",
    "while i<=n:\n",
    "    giai_thua = giai_thua * i\n",
    "    i += 1\n",
    "print(f\"giai thừa của {n} là {giai_thua}\")"
   ]
  },
  {
   "cell_type": "code",
   "execution_count": null,
   "id": "f3876d52",
   "metadata": {},
   "outputs": [],
   "source": [
    "# bài 2: tính tổng bình phương các số từ x đến y\n",
    "while True:\n",
    "    x = int(input(\"nhập số nguyên x: \"))\n",
    "    y = int(input(\"nhập số nguyên y: \"))\n",
    "    if x<y:\n",
    "        break\n",
    "tong = 0\n",
    "i = x \n",
    "while i<=y:\n",
    "    tong = tong + (i**2)\n",
    "    i += 1\n",
    "print(f\"tổng bình phương các số từ {x} đến {y} là {tong}\")\n",
    "        "
   ]
  },
  {
   "cell_type": "code",
   "execution_count": null,
   "id": "eede958b",
   "metadata": {},
   "outputs": [],
   "source": [
    "# bài 3: kiểm tra số hoàn chỉnh\n",
    "while True:\n",
    "    n = int(input(\"nhập số nguyên n: \"))\n",
    "    if n>0:\n",
    "        break\n",
    "tong = 0\n",
    "i = 1\n",
    "while i<n:      # có thể cho chạy đến i<=(n//2)\n",
    "    if n%i == 0:\n",
    "        tong= tong + i\n",
    "    i+=1\n",
    "if tong == n:\n",
    "    print(f\"{n} là số hoàn chỉnh\")\n",
    "else:\n",
    "    print(f\"{n} không phải số hoàn chỉnh\")"
   ]
  },
  {
   "cell_type": "code",
   "execution_count": 3,
   "id": "f54564f5",
   "metadata": {},
   "outputs": [
    {
     "name": "stdout",
     "output_type": "stream",
     "text": [
      "nhập số nguyên a: 3\n",
      "nhập số nguyên b: 9\n",
      "từ 3 đến 9: tổng số lẻ là 24 và tích số chẳn là 192\n"
     ]
    }
   ],
   "source": [
    "# bài 4: nhâp a<=b, tính tổng số lẻ và tích số chẳn ở giữa 2 số\n",
    "while True:\n",
    "    a = int(input(\"nhập số nguyên a: \"))\n",
    "    b = int(input(\"nhập số nguyên b: \"))\n",
    "    if a<=b:\n",
    "        break\n",
    "i = a\n",
    "tong = 0\n",
    "tich = 1\n",
    "while i<=b:\n",
    "    if i%2 == 0:\n",
    "        tich = tich * i\n",
    "    else:\n",
    "        tong = tong + i\n",
    "    i += 1\n",
    "print(f\"từ {a} đến {b}: tổng số lẻ là {tong} và tích số chẳn là {tich}\") "
   ]
  },
  {
   "cell_type": "code",
   "execution_count": 4,
   "id": "20ca066a",
   "metadata": {},
   "outputs": [
    {
     "name": "stdout",
     "output_type": "stream",
     "text": [
      "nhập giá trị n: 5\n",
      "giá trị biểu thức S = 2.28333\n"
     ]
    }
   ],
   "source": [
    "# bài 5:  tính biểu thức S= 1 + 1/2 + 1/3 + 1/4 + ....+ 1/n\n",
    "while True:\n",
    "    n = int(input(\"nhập giá trị n: \"))\n",
    "    if n>0:\n",
    "        break\n",
    "s = 0\n",
    "i = 1\n",
    "while i <= n:\n",
    "    s = s + 1/i\n",
    "    i += 1\n",
    "print(f\"giá trị biểu thức S = {s:.5f}\")"
   ]
  },
  {
   "cell_type": "code",
   "execution_count": 24,
   "id": "c04fdfdb",
   "metadata": {},
   "outputs": [
    {
     "name": "stdout",
     "output_type": "stream",
     "text": [
      "nhập vào dãy số (cách nhau bằng khoảng trắng): 13 56 98 123 1 0 100\n",
      "số chẵn lớn nhất là: 100\n",
      "số lẻ nhỏ nhất là: 1\n"
     ]
    }
   ],
   "source": [
    "# bài 6: tìm số chẵn lớn nhất và số lẽ nhỏ nhất trong chuỗi\n",
    "while True:\n",
    "    chuoi = input(\"nhập vào dãy số (cách nhau bằng khoảng trắng): \")\n",
    "    kiem_tra = chuoi.replace(\" \",\"\")\n",
    "    if kiem_tra.isnumeric() == True:\n",
    "        break\n",
    "chuoi_moi = chuoi.split(\" \")\n",
    "so_chan_lon_nhat = int(min(chuoi_moi))\n",
    "so_le_nho_nhat = int(max(chuoi_moi))\n",
    "i=0\n",
    "while i < len(chuoi_moi):\n",
    "    a = int(chuoi_moi[i])\n",
    "    if a % 2 == 0:\n",
    "        if a > so_chan_lon_nhat:\n",
    "            so_chan_lon_nhat = a\n",
    "    else:\n",
    "        if a <  so_le_nho_nhat:\n",
    "            so_le_nho_nhat = a\n",
    "    i=i+1\n",
    "print(f\"số chẵn lớn nhất là: {so_chan_lon_nhat}\")\n",
    "print(f\"số lẻ nhỏ nhất là: {so_le_nho_nhat}\")"
   ]
  },
  {
   "cell_type": "code",
   "execution_count": 14,
   "id": "47705715",
   "metadata": {},
   "outputs": [
    {
     "name": "stdout",
     "output_type": "stream",
     "text": [
      "nhập vào dãy số (cách nhau bằng khoảng trắng): 12 13 14\n",
      "['12', '13', '14']\n"
     ]
    },
    {
     "ename": "IndexError",
     "evalue": "list index out of range",
     "output_type": "error",
     "traceback": [
      "\u001b[1;31m---------------------------------------------------------------------------\u001b[0m",
      "\u001b[1;31mIndexError\u001b[0m                                Traceback (most recent call last)",
      "Input \u001b[1;32mIn [14]\u001b[0m, in \u001b[0;36m<cell line: 8>\u001b[1;34m()\u001b[0m\n\u001b[0;32m      6\u001b[0m chuoi_moi \u001b[38;5;241m=\u001b[39m chuoi\u001b[38;5;241m.\u001b[39msplit(\u001b[38;5;124m\"\u001b[39m\u001b[38;5;124m \u001b[39m\u001b[38;5;124m\"\u001b[39m)\n\u001b[0;32m      7\u001b[0m \u001b[38;5;28mprint\u001b[39m(chuoi_moi)\n\u001b[1;32m----> 8\u001b[0m a \u001b[38;5;241m=\u001b[39m \u001b[38;5;28mint\u001b[39m(\u001b[43mchuoi_moi\u001b[49m\u001b[43m[\u001b[49m\u001b[38;5;241;43m4\u001b[39;49m\u001b[43m]\u001b[49m)\n\u001b[0;32m      9\u001b[0m \u001b[38;5;28mprint\u001b[39m(a)\n",
      "\u001b[1;31mIndexError\u001b[0m: list index out of range"
     ]
    }
   ],
   "source": [
    "# bài 7: nhập chuỗi, nhập yêu cầu, xuất chuỗi được yêu cầu\n",
    "chuoi = input(\"nhâp chuỗi: \")\n",
    "yeu_cau = input(\"nhập 'hoa' nếu yêu cầu in hoa, nhập 'thường' nếu yêu cầu in thường: \")\n"
   ]
  },
  {
   "cell_type": "code",
   "execution_count": null,
   "id": "7f30228b",
   "metadata": {},
   "outputs": [],
   "source": [
    "# bài 8: nhập chuỗi, chuyển ký tự hoa thành khoảng trắng và ký tự thường"
   ]
  },
  {
   "cell_type": "code",
   "execution_count": null,
   "id": "bd32bcb8",
   "metadata": {},
   "outputs": [],
   "source": [
    "# bài 9: nhập chuỗi, xuất chuỗi ký tự duy nhất, đếm chuỗi mới có bn chữ hoa/thường"
   ]
  },
  {
   "cell_type": "code",
   "execution_count": null,
   "id": "f3d262e6",
   "metadata": {},
   "outputs": [],
   "source": [
    "# bài 10: tính thu chi"
   ]
  },
  {
   "cell_type": "code",
   "execution_count": null,
   "id": "a1baa1bf",
   "metadata": {},
   "outputs": [],
   "source": [
    "# bài 11: đếm ký tự trùng trong chuỗi, có phân biệt hoa/thường"
   ]
  },
  {
   "cell_type": "code",
   "execution_count": null,
   "id": "8f9b6f20",
   "metadata": {},
   "outputs": [],
   "source": [
    "# bài 12: game rắn săn mồi"
   ]
  },
  {
   "cell_type": "code",
   "execution_count": null,
   "id": "b22b5702",
   "metadata": {},
   "outputs": [],
   "source": [
    "# bài 13: game đoán số, dùng hàm randint"
   ]
  },
  {
   "cell_type": "code",
   "execution_count": null,
   "id": "f50b45d5",
   "metadata": {},
   "outputs": [],
   "source": [
    "# bài 14: dùng vòng lặp đảo chuỗi"
   ]
  },
  {
   "cell_type": "code",
   "execution_count": null,
   "id": "2b48d0c2",
   "metadata": {},
   "outputs": [],
   "source": [
    "# bài 15: nhập chuỗi, đếm số ký tự hoa, thường trong chuỗi"
   ]
  }
 ],
 "metadata": {
  "kernelspec": {
   "display_name": "Python 3 (ipykernel)",
   "language": "python",
   "name": "python3"
  },
  "language_info": {
   "codemirror_mode": {
    "name": "ipython",
    "version": 3
   },
   "file_extension": ".py",
   "mimetype": "text/x-python",
   "name": "python",
   "nbconvert_exporter": "python",
   "pygments_lexer": "ipython3",
   "version": "3.9.12"
  }
 },
 "nbformat": 4,
 "nbformat_minor": 5
}
