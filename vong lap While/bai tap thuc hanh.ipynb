{
 "cells": [
  {
   "cell_type": "code",
   "execution_count": 6,
   "id": "d0d333eb",
   "metadata": {},
   "outputs": [
    {
     "name": "stdout",
     "output_type": "stream",
     "text": [
      "nhập số nguyên n: 5\n",
      "giai thừa của 5 là 120\n"
     ]
    }
   ],
   "source": [
    "# bài 1: tính giai thừa\n",
    "n = int(input(\"nhập số nguyên n: \"))\n",
    "i = 1\n",
    "giai_thua = 1\n",
    "while i<=n:\n",
    "    giai_thua = giai_thua * i\n",
    "    i += 1\n",
    "print(f\"giai thừa của {n} là {giai_thua}\")"
   ]
  },
  {
   "cell_type": "code",
   "execution_count": null,
   "id": "619af967",
   "metadata": {},
   "outputs": [],
   "source": [
    "# tính tổng bình phương các số từ x đến y\n",
    "x = int(input(\"nhập số nguyên x: \"))\n",
    "y = int(input(\"nhập số nguyên y: \"))\n"
   ]
  },
  {
   "cell_type": "code",
   "execution_count": null,
   "id": "8ebb7f3f",
   "metadata": {},
   "outputs": [],
   "source": []
  }
 ],
 "metadata": {
  "kernelspec": {
   "display_name": "Python 3 (ipykernel)",
   "language": "python",
   "name": "python3"
  },
  "language_info": {
   "codemirror_mode": {
    "name": "ipython",
    "version": 3
   },
   "file_extension": ".py",
   "mimetype": "text/x-python",
   "name": "python",
   "nbconvert_exporter": "python",
   "pygments_lexer": "ipython3",
   "version": "3.9.12"
  }
 },
 "nbformat": 4,
 "nbformat_minor": 5
}
