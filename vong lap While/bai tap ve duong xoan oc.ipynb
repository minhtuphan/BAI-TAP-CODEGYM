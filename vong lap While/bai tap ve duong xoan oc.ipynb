{
 "cells": [
  {
   "cell_type": "code",
   "execution_count": 1,
   "id": "db349d22",
   "metadata": {},
   "outputs": [],
   "source": [
    "import turtle\n",
    "t = turtle.Turtle()\n",
    "n = int(input(\"nhập n: \"))\n",
    "i = 0\n",
    "d = 0.1\n",
    "goc = 10\n",
    "t.penup()\n",
    "t.forward(d)\n",
    "t.right(goc)\n",
    "t.pendown()\n",
    "while i <= n:\n",
    "    t.forward(d)\n",
    "    t.left(goc)\n",
    "    d=d+0.1\n",
    "    i=i+1\n",
    "turtle.done()"
   ]
  },
  {
   "cell_type": "code",
   "execution_count": null,
   "id": "5ca957fd",
   "metadata": {},
   "outputs": [
    {
     "name": "stdout",
     "output_type": "stream",
     "text": [
      "nhập bán kinh: 200\n"
     ]
    }
   ],
   "source": [
    "import turtle\n",
    "t = turtle.Turtle()\n",
    "rad = int(input(\"nhập bán kinh: \"))\n",
    "d = 0.1\n",
    "while True:\n",
    "    t.forward(d)\n",
    "    t.left(10)\n",
    "    d = d +0.1\n",
    "    if t.distance(0,0) >= rad:\n",
    "        break\n",
    "turtle.done()\n"
   ]
  },
  {
   "cell_type": "code",
   "execution_count": null,
   "id": "43c481e3",
   "metadata": {},
   "outputs": [],
   "source": []
  }
 ],
 "metadata": {
  "kernelspec": {
   "display_name": "Python 3 (ipykernel)",
   "language": "python",
   "name": "python3"
  },
  "language_info": {
   "codemirror_mode": {
    "name": "ipython",
    "version": 3
   },
   "file_extension": ".py",
   "mimetype": "text/x-python",
   "name": "python",
   "nbconvert_exporter": "python",
   "pygments_lexer": "ipython3",
   "version": "3.9.12"
  }
 },
 "nbformat": 4,
 "nbformat_minor": 5
}
