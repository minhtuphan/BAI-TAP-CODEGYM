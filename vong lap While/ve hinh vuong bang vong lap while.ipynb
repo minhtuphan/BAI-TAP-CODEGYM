{
 "cells": [
  {
   "cell_type": "code",
   "execution_count": null,
   "id": "b9d24818",
   "metadata": {},
   "outputs": [
    {
     "name": "stdout",
     "output_type": "stream",
     "text": [
      "Nhập độ dài các cạnh của hình vuông: 100\n"
     ]
    }
   ],
   "source": [
    "import turtle\n",
    "a = int(input(\"Nhập độ dài các cạnh của hình vuông: \"))\n",
    "t = turtle.Turtle()\n",
    "t.pencolor(\"red\")\n",
    "vong = 0\n",
    "while vong < 4:\n",
    "    # Vẽ 1 cạnh của hình vuông\n",
    "    t.forward(a)\n",
    "    t.right(90)\n",
    "    # Câu lệnh phải đặt trong vòng lặp while\n",
    "    # số lần lặp là 4, nên được hình vuông yêu cầu\n",
    "    vong += 1\n",
    "turtle.done()"
   ]
  }
 ],
 "metadata": {
  "kernelspec": {
   "display_name": "Python 3 (ipykernel)",
   "language": "python",
   "name": "python3"
  },
  "language_info": {
   "codemirror_mode": {
    "name": "ipython",
    "version": 3
   },
   "file_extension": ".py",
   "mimetype": "text/x-python",
   "name": "python",
   "nbconvert_exporter": "python",
   "pygments_lexer": "ipython3",
   "version": "3.9.12"
  }
 },
 "nbformat": 4,
 "nbformat_minor": 5
}
