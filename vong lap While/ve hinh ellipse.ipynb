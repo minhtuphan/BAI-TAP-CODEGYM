{
 "cells": [
  {
   "cell_type": "code",
   "execution_count": 1,
   "id": "3c367ea7",
   "metadata": {},
   "outputs": [],
   "source": [
    "import turtle\n",
    "t = turtle.Turtle()\n",
    "r = int(input(\"nhập bán kính r: \"))\n",
    "i=1\n",
    "t.right(45)\n",
    "while i<=2:\n",
    "    t.circle(r,90)\n",
    "    t.circle(r/2,90)\n",
    "    i=i+1\n",
    "turtle.done()"
   ]
  },
  {
   "cell_type": "code",
   "execution_count": null,
   "id": "1fd02d9b",
   "metadata": {},
   "outputs": [
    {
     "name": "stdout",
     "output_type": "stream",
     "text": [
      "nhập bán kính r: 50\n",
      "nhập số hình ellipse muốn vẽ: 30\n"
     ]
    }
   ],
   "source": [
    "import turtle\n",
    "t = turtle.Turtle()\n",
    "r = int(input(\"nhập bán kính r: \"))\n",
    "n = int(input(\"nhập số hình ellipse muốn vẽ: \"))\n",
    "chuoi=['violet','blue','green','yellow','orange','red']\n",
    "mau=0\n",
    "a=1\n",
    "while a<=n:\n",
    "    i=1\n",
    "    t.color(chuoi[mau])\n",
    "    while i<=2:\n",
    "        t.circle(r,90)\n",
    "        t.circle(r/2,90)\n",
    "        i=i+1\n",
    "    t.right(360/n)\n",
    "    if mau==5:\n",
    "        mau=0\n",
    "    else:\n",
    "        mau=mau+1\n",
    "    a=a+1\n",
    "turtle.done()"
   ]
  }
 ],
 "metadata": {
  "kernelspec": {
   "display_name": "Python 3 (ipykernel)",
   "language": "python",
   "name": "python3"
  },
  "language_info": {
   "codemirror_mode": {
    "name": "ipython",
    "version": 3
   },
   "file_extension": ".py",
   "mimetype": "text/x-python",
   "name": "python",
   "nbconvert_exporter": "python",
   "pygments_lexer": "ipython3",
   "version": "3.9.12"
  }
 },
 "nbformat": 4,
 "nbformat_minor": 5
}
