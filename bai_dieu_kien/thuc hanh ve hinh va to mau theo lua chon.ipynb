{
 "cells": [
  {
   "cell_type": "code",
   "execution_count": null,
   "id": "ef772e87",
   "metadata": {},
   "outputs": [
    {
     "name": "stdout",
     "output_type": "stream",
     "text": [
      "circle hay square, bạn thích hình nao?: square\n",
      "bạn thich màu gì? yellow, red or blue?: yellow\n"
     ]
    }
   ],
   "source": [
    "import turtle\n",
    "hinh = input(\"circle hay square, bạn thích hình nao?: \")\n",
    "if hinh == 'circle' or hinh == 'square':\n",
    "    mau = input('bạn thich màu gì? yellow, red or blue?: ')\n",
    "    if mau == 'yellow' or mau == 'red' or mau == 'blue':\n",
    "        t=turtle.Turtle()\n",
    "        t.pensize(5)\n",
    "        t.shape(hinh)\n",
    "        t.color(mau)       \n",
    "    else:\n",
    "        print(\"không có màu này\")\n",
    "else:\n",
    "      print(\"không có hình này\")\n",
    "turtle.done()"
   ]
  }
 ],
 "metadata": {
  "kernelspec": {
   "display_name": "Python 3 (ipykernel)",
   "language": "python",
   "name": "python3"
  },
  "language_info": {
   "codemirror_mode": {
    "name": "ipython",
    "version": 3
   },
   "file_extension": ".py",
   "mimetype": "text/x-python",
   "name": "python",
   "nbconvert_exporter": "python",
   "pygments_lexer": "ipython3",
   "version": "3.9.12"
  }
 },
 "nbformat": 4,
 "nbformat_minor": 5
}
