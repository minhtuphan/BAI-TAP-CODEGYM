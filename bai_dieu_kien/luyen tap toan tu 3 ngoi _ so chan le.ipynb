{
 "cells": [
  {
   "cell_type": "code",
   "execution_count": 3,
   "id": "f2583943",
   "metadata": {},
   "outputs": [
    {
     "name": "stdout",
     "output_type": "stream",
     "text": [
      "nhập số nguyên cần kiểm tra: 12\n",
      "số chẵn\n"
     ]
    }
   ],
   "source": [
    "x = int(input(\"nhập số nguyên cần kiểm tra: \"))\n",
    "ket_qua = \"số chẵn\" if (x % 2) == 0 else \"số lẻ\"\n",
    "print(ket_qua)"
   ]
  },
  {
   "cell_type": "code",
   "execution_count": 11,
   "id": "8f0b9c50",
   "metadata": {},
   "outputs": [
    {
     "name": "stdout",
     "output_type": "stream",
     "text": [
      "nhập số nguyên cần kiểm tra: 33\n",
      "số lẽ\n"
     ]
    }
   ],
   "source": [
    "x = int(input(\"nhập số nguyên cần kiểm tra: \"))\n",
    "if (x%2) == 0:\n",
    "    print(\"số chẵn\")\n",
    "else:\n",
    "    print(\"số lẽ\")"
   ]
  },
  {
   "cell_type": "code",
   "execution_count": null,
   "id": "ff58181a",
   "metadata": {},
   "outputs": [],
   "source": []
  }
 ],
 "metadata": {
  "kernelspec": {
   "display_name": "Python 3 (ipykernel)",
   "language": "python",
   "name": "python3"
  },
  "language_info": {
   "codemirror_mode": {
    "name": "ipython",
    "version": 3
   },
   "file_extension": ".py",
   "mimetype": "text/x-python",
   "name": "python",
   "nbconvert_exporter": "python",
   "pygments_lexer": "ipython3",
   "version": "3.9.12"
  }
 },
 "nbformat": 4,
 "nbformat_minor": 5
}
