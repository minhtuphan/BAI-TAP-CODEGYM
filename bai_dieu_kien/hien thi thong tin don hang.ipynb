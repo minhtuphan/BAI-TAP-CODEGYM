{
 "cells": [
  {
   "cell_type": "code",
   "execution_count": 2,
   "id": "28b9fad8",
   "metadata": {},
   "outputs": [
    {
     "name": "stdout",
     "output_type": "stream",
     "text": [
      "nhập số tiền: 120\n",
      "Tổng tiền cần thanh toán là: 95 \n"
     ]
    }
   ],
   "source": [
    "tien = int(input(\"nhập số tiền: \"))\n",
    "if tien >= 150:\n",
    "    tien_thanh_toan = tien - 50\n",
    "    print(f\"Tổng tiền cần thanh toán là: {tien_thanh_toan} \")\n",
    "elif tien >= 100:\n",
    "    tien_thanh_toan = tien - 25\n",
    "    print(f\"Tổng tiền cần thanh toán là: {tien_thanh_toan} \")\n",
    "elif num >= 75:\n",
    "    tien_thanh_toan = tien - 15\n",
    "    print(f\"Tổng tiền cần thanh toán là: {tien_thanh_toan} \")\n",
    "else:\n",
    "    print(f\"Tổng tiền cần thanh toán là: {tien} \")"
   ]
  },
  {
   "cell_type": "code",
   "execution_count": null,
   "id": "f5481206",
   "metadata": {},
   "outputs": [],
   "source": []
  }
 ],
 "metadata": {
  "kernelspec": {
   "display_name": "Python 3 (ipykernel)",
   "language": "python",
   "name": "python3"
  },
  "language_info": {
   "codemirror_mode": {
    "name": "ipython",
    "version": 3
   },
   "file_extension": ".py",
   "mimetype": "text/x-python",
   "name": "python",
   "nbconvert_exporter": "python",
   "pygments_lexer": "ipython3",
   "version": "3.9.12"
  }
 },
 "nbformat": 4,
 "nbformat_minor": 5
}
