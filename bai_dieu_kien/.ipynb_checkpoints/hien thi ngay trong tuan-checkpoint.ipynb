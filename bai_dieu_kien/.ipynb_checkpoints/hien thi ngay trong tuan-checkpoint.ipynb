{
 "cells": [
  {
   "cell_type": "code",
   "execution_count": 7,
   "id": "16385bc0",
   "metadata": {},
   "outputs": [
    {
     "name": "stdout",
     "output_type": "stream",
     "text": [
      "nhập một số ngẫu nhiên từ 1 đến 7: 9\n",
      "Error, out of range - vượt ngoài phạm vi\n"
     ]
    }
   ],
   "source": [
    "a = int(input(\"nhập một số ngẫu nhiên từ 1 đến 7: \"))\n",
    "if a==1:\n",
    "    print(\"Monday - Thứ 2\")\n",
    "elif a==2:\n",
    "    print(\"Tuesday - Thứ 3\")\n",
    "elif a==3:\n",
    "    print(\"Wednesday - Thứ 4\")\n",
    "elif a==4:\n",
    "    print(\"thursday - Thứ 5\")\n",
    "elif a==5:\n",
    "    print(\"friday - Thứ 6\")\n",
    "elif a==6:\n",
    "    print(\"Saturday - Thứ 7\")\n",
    "elif a==7:\n",
    "    print(\"sunday - Chủ nhật\")\n",
    "else:\n",
    "    print(\"Error, out of range - vượt ngoài phạm vi\")"
   ]
  },
  {
   "cell_type": "code",
   "execution_count": null,
   "id": "0b89484e",
   "metadata": {},
   "outputs": [],
   "source": []
  }
 ],
 "metadata": {
  "kernelspec": {
   "display_name": "Python 3 (ipykernel)",
   "language": "python",
   "name": "python3"
  },
  "language_info": {
   "codemirror_mode": {
    "name": "ipython",
    "version": 3
   },
   "file_extension": ".py",
   "mimetype": "text/x-python",
   "name": "python",
   "nbconvert_exporter": "python",
   "pygments_lexer": "ipython3",
   "version": "3.9.12"
  }
 },
 "nbformat": 4,
 "nbformat_minor": 5
}
