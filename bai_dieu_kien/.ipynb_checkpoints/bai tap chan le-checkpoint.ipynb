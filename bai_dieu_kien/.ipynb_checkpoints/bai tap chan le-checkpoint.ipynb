{
 "cells": [
  {
   "cell_type": "code",
   "execution_count": 2,
   "id": "1f6e83c0",
   "metadata": {},
   "outputs": [
    {
     "name": "stdout",
     "output_type": "stream",
     "text": [
      "nhập số bất kỳ: 11.3\n",
      "đây không phải số tự nhiên\n"
     ]
    }
   ],
   "source": [
    "x = float(input(\"nhập số bất kỳ: \"))\n",
    "if x % 2 == 0:\n",
    "    print(\"số chẵn\")\n",
    "elif x % 2 == 1:\n",
    "    print(\"số lẻ\")\n",
    "else:\n",
    "    print(\"đây không phải số tự nhiên\")"
   ]
  },
  {
   "cell_type": "code",
   "execution_count": null,
   "id": "2d68f4e2",
   "metadata": {},
   "outputs": [],
   "source": []
  }
 ],
 "metadata": {
  "kernelspec": {
   "display_name": "Python 3 (ipykernel)",
   "language": "python",
   "name": "python3"
  },
  "language_info": {
   "codemirror_mode": {
    "name": "ipython",
    "version": 3
   },
   "file_extension": ".py",
   "mimetype": "text/x-python",
   "name": "python",
   "nbconvert_exporter": "python",
   "pygments_lexer": "ipython3",
   "version": "3.9.12"
  }
 },
 "nbformat": 4,
 "nbformat_minor": 5
}
