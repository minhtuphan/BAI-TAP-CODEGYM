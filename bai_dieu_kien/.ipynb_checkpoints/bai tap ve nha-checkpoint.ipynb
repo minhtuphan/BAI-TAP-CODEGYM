{
 "cells": [
  {
   "cell_type": "code",
   "execution_count": 1,
   "id": "bf923d82",
   "metadata": {},
   "outputs": [
    {
     "name": "stdout",
     "output_type": "stream",
     "text": [
      "nhập vào số nguyên n: -23\n",
      "giá trị tuyệt đối của n là: 23\n"
     ]
    }
   ],
   "source": [
    "n = int(input(\"nhập vào số nguyên n: \"))\n",
    "if n>=0:\n",
    "    print(f\"giá trị tuyệt đối của n là: {n}\")\n",
    "else:\n",
    "    m=-n\n",
    "    print(f\"giá trị tuyệt đối của n là: {m}\")"
   ]
  },
  {
   "cell_type": "code",
   "execution_count": 7,
   "id": "2fecfcef",
   "metadata": {},
   "outputs": [
    {
     "name": "stdout",
     "output_type": "stream",
     "text": [
      "nhập a: 12\n",
      "nhập b: 0\n",
      "phương trình vô số nghiệm\n"
     ]
    }
   ],
   "source": [
    "# ax + b = 0\n",
    "a = int(input(\"nhập a: \"))\n",
    "b = int(input(\"nhập b: \"))\n",
    "if (a==0):\n",
    "    print(\"phương trình vô nghiệm\")\n",
    "elif b==0:\n",
    "    print(\"phương trình vô số nghiệm\")\n",
    "else:\n",
    "    x = -b/a\n",
    "    print(f\"phương trình có nghiệm là: {x}\")"
   ]
  },
  {
   "cell_type": "code",
   "execution_count": 10,
   "id": "95f3c3a3",
   "metadata": {},
   "outputs": [
    {
     "name": "stdout",
     "output_type": "stream",
     "text": [
      "nhập a: 12\n",
      "nhập b: 13\n",
      "nhập c: 14\n",
      "phương trình vô nghiệm\n"
     ]
    }
   ],
   "source": [
    "# ax^2 + bx + c = 0\n",
    "import math\n",
    "a = int(input(\"nhập a: \"))\n",
    "b = int(input(\"nhập b: \"))\n",
    "c = int(input(\"nhập c: \"))\n",
    "if a==0:\n",
    "    if b==0:\n",
    "        print(\"phương trình vô nghiệm\")\n",
    "    elif c==0:\n",
    "        print(\"phương trình có nghiệm x = 0\")\n",
    "    else:\n",
    "        x = -c/b\n",
    "        print(f\"phương trình có nghiệm x = {x}\")\n",
    "elif b==0:\n",
    "    if c==0:\n",
    "        print(\"phương trình vô số nghiệm\")\n",
    "    elif c<0:\n",
    "        x = math.sqrt(-c/a)\n",
    "        print(\"nghiệm phương trình: {x}\")\n",
    "    else:\n",
    "        print(\"phương trình vô nghiệm\")\n",
    "else:\n",
    "    d = b*b - 4*a*c\n",
    "    if d < 0:\n",
    "        print(\"phương trình vô nghiệm\")\n",
    "    elif d == 0:\n",
    "        x = -b/(2*a)\n",
    "        print(f\"phương trình có nghiệm kép x1=x2= {x}\")\n",
    "    else:\n",
    "        x1 = (-b + math.sqrt(d))/(2*a)\n",
    "        x2 = (-b - math.sqrt(d))/(2*a)\n",
    "        print(f\"phương trình có 2 nghiệm phân biệt x1 = {x1} và x2 = {x2}\")    "
   ]
  },
  {
   "cell_type": "code",
   "execution_count": 9,
   "id": "925c2da6",
   "metadata": {},
   "outputs": [
    {
     "name": "stdout",
     "output_type": "stream",
     "text": [
      "nhập a: 12\n",
      "nhập b: 13\n",
      "nhập c: 14\n",
      "số lớn nhất là c: 14\n"
     ]
    }
   ],
   "source": [
    "a = int(input(\"nhập a: \"))\n",
    "b = int(input(\"nhập b: \"))\n",
    "c = int(input(\"nhập c: \"))\n",
    "MAX = a\n",
    "if a < b:\n",
    "    MAX = b\n",
    "    if b < c:\n",
    "        MAX = c\n",
    "        print(f\"số lớn nhất là c: {MAX}\")\n",
    "    else:\n",
    "        print(f\"số lớn nhất là b: {MAX}\")\n",
    "elif a < c:\n",
    "    MAX = c\n",
    "    print(f\"số lớn nhất là c: {MAX}\")\n",
    "else:\n",
    "    print(f\"số lớn nhất là a: {MAX}\")"
   ]
  },
  {
   "cell_type": "code",
   "execution_count": 12,
   "id": "25e6844f",
   "metadata": {},
   "outputs": [
    {
     "name": "stdout",
     "output_type": "stream",
     "text": [
      "nhập số nguyên từ 1 đến 5: 1\n",
      "một\n"
     ]
    }
   ],
   "source": [
    "n = int(input(\"nhập số nguyên từ 1 đến 5: \"))\n",
    "if n == 1:\n",
    "    print(\"một\")\n",
    "elif n == 2:\n",
    "    print(\"hai\")\n",
    "elif n == 3:\n",
    "    print(\"ba\")\n",
    "elif n == 4:\n",
    "    print(\"bốn\")\n",
    "elif n == 5:\n",
    "    print(\"năm\")\n",
    "else:\n",
    "    print(\"ngoài giới hạn\")"
   ]
  },
  {
   "cell_type": "code",
   "execution_count": 14,
   "id": "742c82c0",
   "metadata": {},
   "outputs": [
    {
     "name": "stdout",
     "output_type": "stream",
     "text": [
      "nhập tháng/năm (mm/yyyy): 02/2020\n",
      "02/2020 có 29 ngày\n"
     ]
    }
   ],
   "source": [
    "chuoi = input(\"nhập tháng/năm (mm/yyyy): \")\n",
    "thang = chuoi[0:2]\n",
    "nam = chuoi[3:]\n",
    "if thang in ['01','03','05','07','08','10','12']:\n",
    "    print(f\"{chuoi} có 31 ngày\")\n",
    "if thang in ['04','06','09','11']:\n",
    "    print(f\"{chuoi} có 30 ngày\")\n",
    "if thang in ['02']:\n",
    "    if (int(nam)%4 == 0):\n",
    "        print(f\"{chuoi} có 29 ngày\")\n",
    "    else:\n",
    "        print(f\"{chuoi} có 28 ngày\")"
   ]
  },
  {
   "cell_type": "code",
   "execution_count": 15,
   "id": "1536501c",
   "metadata": {},
   "outputs": [
    {
     "name": "stdout",
     "output_type": "stream",
     "text": [
      "nhập vào 1 năm bất kỳ: 2021\n",
      "không phải năm nhuận\n"
     ]
    }
   ],
   "source": [
    "nam = int(input(\"nhập vào 1 năm bất kỳ: \"))\n",
    "if (nam % 4) == 0:\n",
    "    print(\"năm nhuận\")\n",
    "else:\n",
    "    print(\"không phải năm nhuận\")"
   ]
  },
  {
   "cell_type": "code",
   "execution_count": 4,
   "id": "229494d5",
   "metadata": {},
   "outputs": [
    {
     "name": "stdout",
     "output_type": "stream",
     "text": [
      "nhập ngày: 29\n",
      "nhập tháng: 1\n",
      "nhập năm: 2000\n",
      "hợp lệ\n"
     ]
    }
   ],
   "source": [
    "ngay = int(input(\"nhập ngày: \"))\n",
    "thang = int(input(\"nhập tháng: \"))\n",
    "nam = int(input(\"nhập năm: \"))\n",
    "if (ngay<=0) or (thang<=0) or (nam<=0) or (thang>12) or (ngay>31):\n",
    "    print(\"không hợp lệ\")\n",
    "if (ngay==29) and (thang in [1,3,4,5,6,7,8,9,10,11,12]):\n",
    "    print(\"hợp lệ\")\n",
    "elif (ngay==29) and (thang==2):\n",
    "    if (nam % 4) == 0:\n",
    "        print(\"hợp lệ\")\n",
    "    else:\n",
    "        print(\"không hợp lệ\")\n",
    "elif ngay == 30:\n",
    "    if thang == 2:\n",
    "        print(\"không  hợp lệ\")\n",
    "    else:\n",
    "        print(\"hợp lệ\")\n",
    "elif ngay == 31:\n",
    "    if thang in [1,3,5,7,8,10,12]:\n",
    "        print(\"hơp lệ\")\n",
    "    else:\n",
    "        print(\"không hợp lệ\")\n",
    "else:\n",
    "    print(\"hợp lệ\")"
   ]
  },
  {
   "cell_type": "code",
   "execution_count": null,
   "id": "bea8d822",
   "metadata": {},
   "outputs": [],
   "source": []
  }
 ],
 "metadata": {
  "kernelspec": {
   "display_name": "Python 3 (ipykernel)",
   "language": "python",
   "name": "python3"
  },
  "language_info": {
   "codemirror_mode": {
    "name": "ipython",
    "version": 3
   },
   "file_extension": ".py",
   "mimetype": "text/x-python",
   "name": "python",
   "nbconvert_exporter": "python",
   "pygments_lexer": "ipython3",
   "version": "3.9.12"
  }
 },
 "nbformat": 4,
 "nbformat_minor": 5
}
