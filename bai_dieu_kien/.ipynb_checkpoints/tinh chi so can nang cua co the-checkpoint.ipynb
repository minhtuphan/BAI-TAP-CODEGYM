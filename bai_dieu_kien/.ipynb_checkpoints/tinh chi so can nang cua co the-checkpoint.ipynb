{
 "cells": [
  {
   "cell_type": "code",
   "execution_count": 5,
   "id": "d578b26d",
   "metadata": {},
   "outputs": [
    {
     "name": "stdout",
     "output_type": "stream",
     "text": [
      "nhập cân nặng của bạn (kilogram): 51\n",
      "nhập chiều cao của bạn (meter): 1.55\n",
      "Bình thường\n"
     ]
    }
   ],
   "source": [
    "can_nang = float(input(\"nhập cân nặng của bạn (kilogram): \"))\n",
    "chieu_cao = float(input(\"nhập chiều cao của bạn (meter): \"))\n",
    "BMI = can_nang/(chieu_cao * chieu_cao)\n",
    "if BMI < 16:\n",
    "    print(\"Gầy cấp độ III\")\n",
    "elif BMI >= 16 and BMI < 17:\n",
    "    print(\"Gầy cấp độ II\")\n",
    "elif BMI >= 17 and BMI < 18.5:\n",
    "    print(\"Gầy cấp độ I\")\n",
    "elif BMI >= 18.5 and BMI < 25:\n",
    "    print(\"Bình thường\")\n",
    "elif BMI >= 25 and BMI < 30:\n",
    "    print(\"Thừa cân\")\n",
    "elif BMI >=30 and BMI < 35:\n",
    "    print(\"Béo phì cấp độ I\")\n",
    "elif BMI >= 35 and BMI < 40:\n",
    "    print(\"Béo phì cấp độ II\")\n",
    "else:\n",
    "    print(\"Béo phì cấp độ III \")"
   ]
  },
  {
   "cell_type": "code",
   "execution_count": null,
   "id": "4c2a6bf6",
   "metadata": {},
   "outputs": [],
   "source": []
  },
  {
   "cell_type": "code",
   "execution_count": null,
   "id": "f4a6105f",
   "metadata": {},
   "outputs": [],
   "source": []
  }
 ],
 "metadata": {
  "kernelspec": {
   "display_name": "Python 3 (ipykernel)",
   "language": "python",
   "name": "python3"
  },
  "language_info": {
   "codemirror_mode": {
    "name": "ipython",
    "version": 3
   },
   "file_extension": ".py",
   "mimetype": "text/x-python",
   "name": "python",
   "nbconvert_exporter": "python",
   "pygments_lexer": "ipython3",
   "version": "3.9.12"
  }
 },
 "nbformat": 4,
 "nbformat_minor": 5
}
