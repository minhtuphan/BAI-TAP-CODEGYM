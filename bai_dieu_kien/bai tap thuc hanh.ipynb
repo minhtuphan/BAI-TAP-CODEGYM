{
 "cells": [
  {
   "cell_type": "code",
   "execution_count": 6,
   "id": "57021181",
   "metadata": {},
   "outputs": [
    {
     "name": "stdout",
     "output_type": "stream",
     "text": [
      "10\n"
     ]
    }
   ],
   "source": [
    "a = '5'\n",
    "b = 5\n",
    "if isinstance(a,int) and isinstance(b,int):\n",
    "    print(str(a) + str(b))\n",
    "elif isinstance(a,str) and isinstance(b,str):\n",
    "    print(int(a) + int(b))\n",
    "elif (isinstance(a,int) and isinstance(b,str)) or (isinstance(a,str) and isinstance(b,int)):\n",
    "    print(\"đầu vào không hợp lệ\")"
   ]
  },
  {
   "cell_type": "code",
   "execution_count": 3,
   "id": "9cdddadb",
   "metadata": {},
   "outputs": [
    {
     "name": "stdout",
     "output_type": "stream",
     "text": [
      "nhập số bất kỳ a: 2\n",
      "nhập số bất kỳ b: 3\n",
      "chọn phép tính: 'cong' hoặc 'tru' hoặc 'nhan' hoặc 'chia': chia\n",
      "kết quả là: 0.6666666666666666\n"
     ]
    }
   ],
   "source": [
    "a = float(input(\"nhập số bất kỳ a: \"))\n",
    "b = float(input(\"nhập số bất kỳ b: \"))\n",
    "toan_tu = input(\"chọn phép tính: 'cong' hoặc 'tru' hoặc 'nhan' hoặc 'chia': \")\n",
    "if toan_tu in ['cong']:\n",
    "    ket_qua = a+b\n",
    "    print(f\"kết quả a + b là: {ket_qua}\")\n",
    "elif toan_tu in ['tru']:\n",
    "    ket_qua = a-b\n",
    "    print(f\"kết quả a - b là: {ket_qua}\")\n",
    "elif toan_tu in ['nhan']:\n",
    "    ket_qua = a*b\n",
    "    print(f\"kết quả a * b là: {ket_qua}\")\n",
    "else:\n",
    "    ket_qua = a/b\n",
    "    print(f\"kết quả a / b là: {ket_qua}\")"
   ]
  },
  {
   "cell_type": "code",
   "execution_count": 9,
   "id": "a72b5bfb",
   "metadata": {},
   "outputs": [
    {
     "name": "stdout",
     "output_type": "stream",
     "text": [
      "nhập chuỗi 1 bất kỳ: abcd\n",
      "nhập chuỗi 2 bất kỳ: efgh\n",
      "nhập số bất kỳ: 2\n",
      "kết quả đảo là efcd và abgh\n"
     ]
    }
   ],
   "source": [
    "chuoi1 = input(\"nhập chuỗi 1 bất kỳ: \")\n",
    "chuoi2 = input(\"nhập chuỗi 2 bất kỳ: \")\n",
    "n = int(input(\"nhập số bất kỳ: \"))\n",
    "chuoi1_bi_cat = chuoi1[:n]\n",
    "chuoi2_bi_cat = chuoi2[:n]\n",
    "chuoi_dao1 = chuoi2_bi_cat + chuoi1[n:]\n",
    "chuoi_dao2 = chuoi1_bi_cat + chuoi2[n:]\n",
    "print(f\"kết quả đảo là {chuoi_dao1} và {chuoi_dao2}\")"
   ]
  },
  {
   "cell_type": "code",
   "execution_count": 13,
   "id": "05ffdc80",
   "metadata": {},
   "outputs": [
    {
     "name": "stdout",
     "output_type": "stream",
     "text": [
      "nhập 1 chuỗi bất kỳ: st\n",
      "st\n"
     ]
    }
   ],
   "source": [
    "chuoi = input(\"nhập 1 chuỗi bất kỳ: \")\n",
    "a = len(chuoi)\n",
    "if a < 3:\n",
    "    print(chuoi)\n",
    "else:\n",
    "    if chuoi[-3:] == 'ing':\n",
    "        print(chuoi[:-3] + 'ly')\n",
    "    else:\n",
    "        print(chuoi + 'ing')"
   ]
  },
  {
   "cell_type": "code",
   "execution_count": 22,
   "id": "af1d13d8",
   "metadata": {},
   "outputs": [
    {
     "name": "stdout",
     "output_type": "stream",
     "text": [
      "nhập chuỗi bất kỳ: GCAGCTACA\n",
      "chuỗi mới là: cgucgaugu\n"
     ]
    }
   ],
   "source": [
    "chuoi = input(\"nhập chuỗi bất kỳ: \")\n",
    "chuoi = chuoi.lower()\n",
    "chuoi = chuoi.replace('a','u')\n",
    "chuoi = chuoi.replace('t','a')\n",
    "chuoi = chuoi.replace('g','*')\n",
    "chuoi = chuoi.replace('c','g')\n",
    "chuoi = chuoi.replace('*','c')\n",
    "print(f\"chuỗi mới là: {chuoi}\")"
   ]
  },
  {
   "cell_type": "code",
   "execution_count": 32,
   "id": "e1c847f2",
   "metadata": {},
   "outputs": [
    {
     "name": "stdout",
     "output_type": "stream",
     "text": [
      "nhập số phút: 10000\n",
      "N/A\n",
      "giá trị tổng: N/A\n"
     ]
    }
   ],
   "source": [
    "phut = int(input(\"nhập số phút: \"))\n",
    "so_gio = phut // 60\n",
    "so_phut = phut % 60\n",
    "if so_gio < 10:\n",
    "    a = '0'+ str(so_gio)\n",
    "elif (so_gio >=10) and (so_gio <100):\n",
    "    a = str(so_gio)    \n",
    "if so_phut < 10:\n",
    "    b = '0' + str(so_phut)\n",
    "else:\n",
    "    b = str(so_phut)\n",
    "tong = (so_gio // 10) + (so_gio % 10) + (so_phut // 10) +(so_phut % 10)\n",
    "if so_gio >= 100:\n",
    "    print(\"N/A\")\n",
    "    print(\"giá trị tổng: N/A\")\n",
    "else:\n",
    "    print(f\"thời gian là {a}:{b}\")\n",
    "    print(f\"tổng giá trị là: {tong}\")"
   ]
  },
  {
   "cell_type": "code",
   "execution_count": 38,
   "id": "d2f30691",
   "metadata": {},
   "outputs": [
    {
     "name": "stdout",
     "output_type": "stream",
     "text": [
      "nhập chuỗi: tôi học không tốt\n",
      "tôi học không tốt\n"
     ]
    }
   ],
   "source": [
    "chuoi = input(\"nhập chuỗi: \")\n",
    "if (\"không\" in chuoi) and (\"tệ\" in chuoi):\n",
    "    a = chuoi.find('không')\n",
    "    b = chuoi.find('tệ')\n",
    "    if a < b:\n",
    "        chuoi_moi = chuoi[a:b+2]\n",
    "        chuoi_moi = chuoi_moi.replace(chuoi_moi,\"giỏi\")\n",
    "        print(chuoi[:a] + chuoi_moi + chuoi[b+2:])\n",
    "    else:\n",
    "        print(chuoi)\n",
    "else:\n",
    "    print(chuoi)   "
   ]
  },
  {
   "cell_type": "code",
   "execution_count": 4,
   "id": "e54eadd7",
   "metadata": {},
   "outputs": [
    {
     "name": "stdout",
     "output_type": "stream",
     "text": [
      "nhập 1 chuôi: hello\n",
      "nhập số n: 8\n",
      "không tim thấy vị trí cần xóa\n"
     ]
    }
   ],
   "source": [
    "chuoi = input(\"nhập 1 chuỗi: \")\n",
    "n = int(input(\"nhập số n: \"))\n",
    "a = len(chuoi)\n",
    "if n > a:\n",
    "    print(\"không tim thấy vị trí cần xóa\")\n",
    "else:\n",
    "    chuoi_moi = chuoi.replace(chuoi[n],\"\")\n",
    "    print(chuoi_moi)"
   ]
  },
  {
   "cell_type": "code",
   "execution_count": 11,
   "id": "1b8f264a",
   "metadata": {},
   "outputs": [
    {
     "name": "stdout",
     "output_type": "stream",
     "text": [
      "nhập số nguyên bất kỳ: -123\n",
      "số -123 không đọc ngược được\n"
     ]
    }
   ],
   "source": [
    "n = input(\"nhập số nguyên bất kỳ: \")\n",
    "if int(n)<0:\n",
    "    print(f\"số {n} không đọc ngược được\")\n",
    "else:\n",
    "    n_nguoc = n[::-1]\n",
    "    if n_nguoc == n:\n",
    "        print(f\"số {n} đọc ngược đọc xuôi giống nhau\")\n",
    "    else:\n",
    "        print(f\"số {n} đọc ngược không giống đọc xuôi\")"
   ]
  }
 ],
 "metadata": {
  "kernelspec": {
   "display_name": "Python 3 (ipykernel)",
   "language": "python",
   "name": "python3"
  },
  "language_info": {
   "codemirror_mode": {
    "name": "ipython",
    "version": 3
   },
   "file_extension": ".py",
   "mimetype": "text/x-python",
   "name": "python",
   "nbconvert_exporter": "python",
   "pygments_lexer": "ipython3",
   "version": "3.9.12"
  }
 },
 "nbformat": 4,
 "nbformat_minor": 5
}
