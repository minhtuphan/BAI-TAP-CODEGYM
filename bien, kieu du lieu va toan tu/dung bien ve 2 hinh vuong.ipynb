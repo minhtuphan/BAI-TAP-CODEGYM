{
 "cells": [
  {
   "cell_type": "code",
   "execution_count": null,
   "id": "8a900810",
   "metadata": {},
   "outputs": [],
   "source": [
    "import turtle\n",
    "import math\n",
    "canh=90\n",
    "t=turtle.Turtle()\n",
    "# ve hinh vuong so 1\n",
    "t.forward(canh)\n",
    "t.right(90)\n",
    "t.forward(canh)\n",
    "t.right(90)\n",
    "t.forward(canh)\n",
    "t.right(90)\n",
    "t.forward(canh)\n",
    "# ve hinh vuong so 2\n",
    "t.right(90)\n",
    "t.forward((1/3)*canh)\n",
    "t.left(45)\n",
    "t.forward((1/3)*canh)\n",
    "t.right(90)\n",
    "t.forward(canh)\n",
    "t.right(90)\n",
    "t.forward(canh)\n",
    "t.right(90)\n",
    "t.forward(canh)\n",
    "t.right(90)\n",
    "t.forward((2/3)*canh)\n",
    "turtle.done()"
   ]
  }
 ],
 "metadata": {
  "kernelspec": {
   "display_name": "Python 3 (ipykernel)",
   "language": "python",
   "name": "python3"
  },
  "language_info": {
   "codemirror_mode": {
    "name": "ipython",
    "version": 3
   },
   "file_extension": ".py",
   "mimetype": "text/x-python",
   "name": "python",
   "nbconvert_exporter": "python",
   "pygments_lexer": "ipython3",
   "version": "3.9.12"
  }
 },
 "nbformat": 4,
 "nbformat_minor": 5
}
