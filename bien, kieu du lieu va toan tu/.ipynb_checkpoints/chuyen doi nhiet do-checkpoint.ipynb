{
 "cells": [
  {
   "cell_type": "code",
   "execution_count": 5,
   "id": "5f27436a",
   "metadata": {},
   "outputs": [
    {
     "name": "stdout",
     "output_type": "stream",
     "text": [
      "nhap nhiet do c: 30\n",
      "nhiet do f la:  86.0\n"
     ]
    }
   ],
   "source": [
    "c= input(\"nhap nhiet do c: \")\n",
    "f= (9*(int(c))/5)+32\n",
    "print(\"nhiet do f la: \", f)"
   ]
  }
 ],
 "metadata": {
  "kernelspec": {
   "display_name": "Python 3 (ipykernel)",
   "language": "python",
   "name": "python3"
  },
  "language_info": {
   "codemirror_mode": {
    "name": "ipython",
    "version": 3
   },
   "file_extension": ".py",
   "mimetype": "text/x-python",
   "name": "python",
   "nbconvert_exporter": "python",
   "pygments_lexer": "ipython3",
   "version": "3.9.12"
  }
 },
 "nbformat": 4,
 "nbformat_minor": 5
}
