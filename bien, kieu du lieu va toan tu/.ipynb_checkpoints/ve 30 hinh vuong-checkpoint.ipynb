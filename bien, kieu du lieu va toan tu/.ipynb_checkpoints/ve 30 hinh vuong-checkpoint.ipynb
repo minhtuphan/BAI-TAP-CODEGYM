{
 "cells": [
  {
   "cell_type": "code",
   "execution_count": null,
   "id": "fe9d4509",
   "metadata": {},
   "outputs": [],
   "source": [
    "import turtle\n",
    "t = turtle.Turtle()\n",
    "canh=5\n"
   ]
  }
 ],
 "metadata": {
  "kernelspec": {
   "display_name": "Python 3 (ipykernel)",
   "language": "python",
   "name": "python3"
  },
  "language_info": {
   "codemirror_mode": {
    "name": "ipython",
    "version": 3
   },
   "file_extension": ".py",
   "mimetype": "text/x-python",
   "name": "python",
   "nbconvert_exporter": "python",
   "pygments_lexer": "ipython3",
   "version": "3.9.12"
  }
 },
 "nbformat": 4,
 "nbformat_minor": 5
}
