{
 "cells": [
  {
   "cell_type": "code",
   "execution_count": null,
   "id": "3adb54fa",
   "metadata": {},
   "outputs": [
    {
     "name": "stdout",
     "output_type": "stream",
     "text": [
      "nhập số tam giác lớn hơn 3: 5\n"
     ]
    }
   ],
   "source": [
    "import turtle\n",
    "import math\n",
    "t = turtle.Turtle()\n",
    "x = int(input(\"nhập số tam giác lớn hơn 3: \"))\n",
    "goc = 360/x\n",
    "goc2 = (180-goc)/2\n",
    "canh = 50\n",
    "canh2 = math.sqrt(2*canh*canh-2*canh*canh*math.cos(goc))\n",
    "# vẽ tam giác 1\n",
    "t.forward(canh)\n",
    "t.right(180-goc2)\n",
    "t.forward(canh2)\n",
    "t.right(180-goc2)\n",
    "t.forward(canh)\n",
    "                  \n",
    "turtle.done()"
   ]
  }
 ],
 "metadata": {
  "kernelspec": {
   "display_name": "Python 3 (ipykernel)",
   "language": "python",
   "name": "python3"
  },
  "language_info": {
   "codemirror_mode": {
    "name": "ipython",
    "version": 3
   },
   "file_extension": ".py",
   "mimetype": "text/x-python",
   "name": "python",
   "nbconvert_exporter": "python",
   "pygments_lexer": "ipython3",
   "version": "3.9.12"
  }
 },
 "nbformat": 4,
 "nbformat_minor": 5
}
