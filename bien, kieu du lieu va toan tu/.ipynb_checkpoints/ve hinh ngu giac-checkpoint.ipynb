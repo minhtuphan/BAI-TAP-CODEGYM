{
 "cells": [
  {
   "cell_type": "code",
   "execution_count": null,
   "id": "3adb54fa",
   "metadata": {},
   "outputs": [],
   "source": [
    "import turtle\n",
    "t = turtle.Turtle()\n",
    "goc = 360/5\n",
    "goc2 = (180-goc)/2\n",
    "canh = 100\n",
    "canh2 = 117.557\n",
    "# vẽ tam giác 1\n",
    "t.left(goc/2)\n",
    "t.forward(canh)\n",
    "t.right(180-goc2)\n",
    "t.forward(canh2)\n",
    "t.right(180-goc2)\n",
    "t.forward(canh)\n",
    "# đi đến vị trí vẽ tam giác 2\n",
    "t.penup()\n",
    "t.backward(canh)\n",
    "t.pendown()\n",
    "# vẽ tam giác 2\n",
    "t.left(goc2)\n",
    "t.forward(canh2)\n",
    "t.right(180-goc2)\n",
    "t.forward(canh)\n",
    "# đi đến vị trí vẽ tam giác 3\n",
    "t.penup()\n",
    "t.backward(canh)\n",
    "t.pendown()\n",
    "# vẽ tam giác 3\n",
    "t.left(goc2)\n",
    "t.forward(canh2)\n",
    "t.right(180-goc2)\n",
    "t.forward(canh)\n",
    "# đi đến vị trí vẽ tam giác 4\n",
    "t.penup()\n",
    "t.backward(canh)\n",
    "t.pendown()\n",
    "# vẽ tam giác 4\n",
    "t.left(goc2)\n",
    "t.forward(canh2)\n",
    "t.right(180-goc2)\n",
    "t.forward(canh)\n",
    "# đi đến vị trí vẽ tam giác 5\n",
    "t.penup()\n",
    "t.backward(canh)\n",
    "t.pendown()\n",
    "# vẽ tam giác 5\n",
    "t.left(goc2)\n",
    "t.forward(canh2)\n",
    "turtle.done()"
   ]
  }
 ],
 "metadata": {
  "kernelspec": {
   "display_name": "Python 3 (ipykernel)",
   "language": "python",
   "name": "python3"
  },
  "language_info": {
   "codemirror_mode": {
    "name": "ipython",
    "version": 3
   },
   "file_extension": ".py",
   "mimetype": "text/x-python",
   "name": "python",
   "nbconvert_exporter": "python",
   "pygments_lexer": "ipython3",
   "version": "3.9.12"
  }
 },
 "nbformat": 4,
 "nbformat_minor": 5
}
