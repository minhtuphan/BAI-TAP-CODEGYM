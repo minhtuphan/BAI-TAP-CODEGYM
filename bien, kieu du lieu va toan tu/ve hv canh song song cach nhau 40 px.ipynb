{
 "cells": [
  {
   "cell_type": "code",
   "execution_count": null,
   "id": "2a75cea6",
   "metadata": {
    "scrolled": true
   },
   "outputs": [],
   "source": [
    "import turtle\n",
    "t=turtle.Turtle()\n",
    "kcach=40\n",
    "canh=100\n",
    "# đi đến vị trí vẽ hình vuông 1\n",
    "t.penup()\n",
    "t.left(90)\n",
    "t.forward(kcach)\n",
    "t.right(90)\n",
    "t.pendown()\n",
    "# vẽ hình vuông 1\n",
    "t.forward(canh/2)\n",
    "t.right(90)\n",
    "t.forward(canh)\n",
    "t.right(90)\n",
    "t.forward(canh)\n",
    "t.right(90)\n",
    "t.forward(canh)\n",
    "t.right(90)\n",
    "t.forward(canh/2)\n",
    "canh=canh+80\n",
    "# đến vị trí hình vuông 2\n",
    "t.penup()\n",
    "t.left(90)\n",
    "t.forward(kcach)\n",
    "t.right(90)\n",
    "t.pendown()\n",
    "# vẽ hình vuông 2\n",
    "t.forward(canh/2)\n",
    "t.right(90)\n",
    "t.forward(canh)\n",
    "t.right(90)\n",
    "t.forward(canh)\n",
    "t.right(90)\n",
    "t.forward(canh)\n",
    "t.right(90)\n",
    "t.forward(canh/2)\n",
    "canh=canh+80\n",
    "# đến vị trí hình vuông 3\n",
    "t.penup()\n",
    "t.left(90)\n",
    "t.forward(kcach)\n",
    "t.right(90)\n",
    "t.pendown()\n",
    "# vẽ hình vuông 3\n",
    "t.forward(canh/2)\n",
    "t.right(90)\n",
    "t.forward(canh)\n",
    "t.right(90)\n",
    "t.forward(canh)\n",
    "t.right(90)\n",
    "t.forward(canh)\n",
    "t.right(90)\n",
    "t.forward(canh/2)\n",
    "turtle.done()"
   ]
  }
 ],
 "metadata": {
  "kernelspec": {
   "display_name": "Python 3 (ipykernel)",
   "language": "python",
   "name": "python3"
  },
  "language_info": {
   "codemirror_mode": {
    "name": "ipython",
    "version": 3
   },
   "file_extension": ".py",
   "mimetype": "text/x-python",
   "name": "python",
   "nbconvert_exporter": "python",
   "pygments_lexer": "ipython3",
   "version": "3.9.12"
  }
 },
 "nbformat": 4,
 "nbformat_minor": 5
}
