{
 "cells": [
  {
   "cell_type": "code",
   "execution_count": 1,
   "id": "5d6aba6e",
   "metadata": {},
   "outputs": [
    {
     "data": {
      "text/html": [
       "<div>\n",
       "<style scoped>\n",
       "    .dataframe tbody tr th:only-of-type {\n",
       "        vertical-align: middle;\n",
       "    }\n",
       "\n",
       "    .dataframe tbody tr th {\n",
       "        vertical-align: top;\n",
       "    }\n",
       "\n",
       "    .dataframe thead th {\n",
       "        text-align: right;\n",
       "    }\n",
       "</style>\n",
       "<table border=\"1\" class=\"dataframe\">\n",
       "  <thead>\n",
       "    <tr style=\"text-align: right;\">\n",
       "      <th></th>\n",
       "      <th>beta</th>\n",
       "      <th>exponential</th>\n",
       "      <th>normal_p</th>\n",
       "      <th>normal_l</th>\n",
       "      <th>bimodal</th>\n",
       "    </tr>\n",
       "  </thead>\n",
       "  <tbody>\n",
       "    <tr>\n",
       "      <th>0</th>\n",
       "      <td>59.262679</td>\n",
       "      <td>4.400276</td>\n",
       "      <td>9.616200</td>\n",
       "      <td>25.827137</td>\n",
       "      <td>22.403038</td>\n",
       "    </tr>\n",
       "    <tr>\n",
       "      <th>1</th>\n",
       "      <td>59.737693</td>\n",
       "      <td>17.829310</td>\n",
       "      <td>11.721013</td>\n",
       "      <td>7.155162</td>\n",
       "      <td>19.799728</td>\n",
       "    </tr>\n",
       "    <tr>\n",
       "      <th>2</th>\n",
       "      <td>57.926136</td>\n",
       "      <td>37.922323</td>\n",
       "      <td>10.682532</td>\n",
       "      <td>8.172811</td>\n",
       "      <td>19.159494</td>\n",
       "    </tr>\n",
       "    <tr>\n",
       "      <th>3</th>\n",
       "      <td>57.088392</td>\n",
       "      <td>49.626913</td>\n",
       "      <td>9.217050</td>\n",
       "      <td>8.120504</td>\n",
       "      <td>19.576416</td>\n",
       "    </tr>\n",
       "    <tr>\n",
       "      <th>4</th>\n",
       "      <td>41.906819</td>\n",
       "      <td>8.477834</td>\n",
       "      <td>11.111041</td>\n",
       "      <td>20.797662</td>\n",
       "      <td>21.687046</td>\n",
       "    </tr>\n",
       "  </tbody>\n",
       "</table>\n",
       "</div>"
      ],
      "text/plain": [
       "        beta  exponential   normal_p   normal_l    bimodal\n",
       "0  59.262679     4.400276   9.616200  25.827137  22.403038\n",
       "1  59.737693    17.829310  11.721013   7.155162  19.799728\n",
       "2  57.926136    37.922323  10.682532   8.172811  19.159494\n",
       "3  57.088392    49.626913   9.217050   8.120504  19.576416\n",
       "4  41.906819     8.477834  11.111041  20.797662  21.687046"
      ]
     },
     "execution_count": 1,
     "metadata": {},
     "output_type": "execute_result"
    }
   ],
   "source": [
    "# khai báo\n",
    "import pandas as pd\n",
    "import numpy as np\n",
    "import matplotlib.pyplot as plt\n",
    "import seaborn as sns\n",
    "from sklearn.preprocessing import StandardScaler\n",
    "\n",
    "# khởi tạo dữ liệu\n",
    "# tạo các cột theo các phần phối khác nhau\n",
    "df = pd.DataFrame({ \n",
    "    'beta': np.random.beta(5, 1, 1000) * 60,        # beta\n",
    "    'exponential': np.random.exponential(10, 1000), # exponential\n",
    "    'normal_p': np.random.normal(10, 2, 1000),      # normal platykurtic\n",
    "    'normal_l': np.random.normal(10, 10, 1000),     # normal leptokurtic\n",
    "})\n",
    "\n",
    "# thêm dữ liệu được tạo theo phân phối nhị thức\n",
    "first_half = np.random.normal(20, 3, 500) \n",
    "second_half = np.random.normal(-20, 3, 500) \n",
    "bimodal = np.concatenate([first_half, second_half])\n",
    "\n",
    "df['bimodal'] = bimodal\n",
    "\n",
    "# hiển thị dữ liệu\n",
    "df.head()"
   ]
  },
  {
   "cell_type": "code",
   "execution_count": 2,
   "id": "30cc7475",
   "metadata": {},
   "outputs": [
    {
     "data": {
      "text/plain": [
       "<AxesSubplot:ylabel='Density'>"
      ]
     },
     "execution_count": 2,
     "metadata": {},
     "output_type": "execute_result"
    },
    {
     "data": {
      "image/png": "[encoded data removed]",
      "text/plain": [
       "<Figure size 432x288 with 1 Axes>"
      ]
     },
     "metadata": {
      "needs_background": "light"
     },
     "output_type": "display_data"
    }
   ],
   "source": [
    "# Trực quan hóa dữ liệu sinh ra\n",
    "sns.kdeplot(data=df)\n"
   ]
  },
  {
   "cell_type": "code",
   "execution_count": 3,
   "id": "522e6e1e",
   "metadata": {},
   "outputs": [
    {
     "data": {
      "text/html": [
       "<div>\n",
       "<style scoped>\n",
       "    .dataframe tbody tr th:only-of-type {\n",
       "        vertical-align: middle;\n",
       "    }\n",
       "\n",
       "    .dataframe tbody tr th {\n",
       "        vertical-align: top;\n",
       "    }\n",
       "\n",
       "    .dataframe thead th {\n",
       "        text-align: right;\n",
       "    }\n",
       "</style>\n",
       "<table border=\"1\" class=\"dataframe\">\n",
       "  <thead>\n",
       "    <tr style=\"text-align: right;\">\n",
       "      <th></th>\n",
       "      <th>beta</th>\n",
       "      <th>exponential</th>\n",
       "      <th>normal_p</th>\n",
       "      <th>normal_l</th>\n",
       "      <th>bimodal</th>\n",
       "    </tr>\n",
       "  </thead>\n",
       "  <tbody>\n",
       "    <tr>\n",
       "      <th>count</th>\n",
       "      <td>1000.000000</td>\n",
       "      <td>1000.000000</td>\n",
       "      <td>1000.000000</td>\n",
       "      <td>1000.000000</td>\n",
       "      <td>1000.000000</td>\n",
       "    </tr>\n",
       "    <tr>\n",
       "      <th>mean</th>\n",
       "      <td>50.109961</td>\n",
       "      <td>10.509495</td>\n",
       "      <td>9.963710</td>\n",
       "      <td>9.927842</td>\n",
       "      <td>-0.047061</td>\n",
       "    </tr>\n",
       "    <tr>\n",
       "      <th>std</th>\n",
       "      <td>8.341430</td>\n",
       "      <td>10.265960</td>\n",
       "      <td>1.950535</td>\n",
       "      <td>9.945343</td>\n",
       "      <td>20.065944</td>\n",
       "    </tr>\n",
       "    <tr>\n",
       "      <th>min</th>\n",
       "      <td>13.540573</td>\n",
       "      <td>0.009516</td>\n",
       "      <td>4.045120</td>\n",
       "      <td>-17.665425</td>\n",
       "      <td>-28.338228</td>\n",
       "    </tr>\n",
       "    <tr>\n",
       "      <th>25%</th>\n",
       "      <td>45.401099</td>\n",
       "      <td>3.010403</td>\n",
       "      <td>8.765261</td>\n",
       "      <td>3.202049</td>\n",
       "      <td>-19.968474</td>\n",
       "    </tr>\n",
       "    <tr>\n",
       "      <th>50%</th>\n",
       "      <td>52.265394</td>\n",
       "      <td>7.532160</td>\n",
       "      <td>9.887480</td>\n",
       "      <td>9.870805</td>\n",
       "      <td>0.005541</td>\n",
       "    </tr>\n",
       "    <tr>\n",
       "      <th>75%</th>\n",
       "      <td>56.775001</td>\n",
       "      <td>14.577801</td>\n",
       "      <td>11.256513</td>\n",
       "      <td>16.999294</td>\n",
       "      <td>19.902591</td>\n",
       "    </tr>\n",
       "    <tr>\n",
       "      <th>max</th>\n",
       "      <td>59.997877</td>\n",
       "      <td>88.071285</td>\n",
       "      <td>17.335926</td>\n",
       "      <td>41.756185</td>\n",
       "      <td>28.331018</td>\n",
       "    </tr>\n",
       "  </tbody>\n",
       "</table>\n",
       "</div>"
      ],
      "text/plain": [
       "              beta  exponential     normal_p     normal_l      bimodal\n",
       "count  1000.000000  1000.000000  1000.000000  1000.000000  1000.000000\n",
       "mean     50.109961    10.509495     9.963710     9.927842    -0.047061\n",
       "std       8.341430    10.265960     1.950535     9.945343    20.065944\n",
       "min      13.540573     0.009516     4.045120   -17.665425   -28.338228\n",
       "25%      45.401099     3.010403     8.765261     3.202049   -19.968474\n",
       "50%      52.265394     7.532160     9.887480     9.870805     0.005541\n",
       "75%      56.775001    14.577801    11.256513    16.999294    19.902591\n",
       "max      59.997877    88.071285    17.335926    41.756185    28.331018"
      ]
     },
     "execution_count": 3,
     "metadata": {},
     "output_type": "execute_result"
    }
   ],
   "source": [
    "# Hiển thị thống kê về dữ liệu sinh ra\n",
    "df.describe()"
   ]
  },
  {
   "cell_type": "code",
   "execution_count": 4,
   "id": "b25dfdaa",
   "metadata": {},
   "outputs": [
    {
     "data": {
      "text/plain": [
       "<AxesSubplot:ylabel='Density'>"
      ]
     },
     "execution_count": 4,
     "metadata": {},
     "output_type": "execute_result"
    },
    {
     "data": {
      "image/png": "[encoded data removed]",
      "text/plain": [
       "<Figure size 432x288 with 1 Axes>"
      ]
     },
     "metadata": {
      "needs_background": "light"
     },
     "output_type": "display_data"
    }
   ],
   "source": [
    "# Thêm một đặc trưng với giá trị lớn hơn nhiều\n",
    "# Khi thêm đặc trưng này, do giá trị của chúng khác xa với khoảng giá trị ban đầu nên nếu ta biểu diễn bằng đồ thị thì các dữ liệu lúc trước sẽ co cụm lại 1 bênIn [ ]:\n",
    "normal_big = np.random.normal(1000000, 10000, (1000,1))  # normal distribution of large values\n",
    "df['normal_big'] = normal_big\n",
    "sns.kdeplot(data=df)"
   ]
  },
  {
   "cell_type": "code",
   "execution_count": 5,
   "id": "1bb02146",
   "metadata": {},
   "outputs": [
    {
     "data": {
      "text/plain": [
       "<AxesSubplot:>"
      ]
     },
     "execution_count": 5,
     "metadata": {},
     "output_type": "execute_result"
    },
    {
     "data": {
      "image/png": "[encoded data removed]",
      "text/plain": [
       "<Figure size 432x288 with 1 Axes>"
      ]
     },
     "metadata": {
      "needs_background": "light"
     },
     "output_type": "display_data"
    }
   ],
   "source": [
    "# trực quan hóa bằng biểu đồ box plot\n",
    "df.boxplot()"
   ]
  },
  {
   "cell_type": "code",
   "execution_count": 6,
   "id": "d3d00998",
   "metadata": {},
   "outputs": [
    {
     "data": {
      "text/html": [
       "<div>\n",
       "<style scoped>\n",
       "    .dataframe tbody tr th:only-of-type {\n",
       "        vertical-align: middle;\n",
       "    }\n",
       "\n",
       "    .dataframe tbody tr th {\n",
       "        vertical-align: top;\n",
       "    }\n",
       "\n",
       "    .dataframe thead th {\n",
       "        text-align: right;\n",
       "    }\n",
       "</style>\n",
       "<table border=\"1\" class=\"dataframe\">\n",
       "  <thead>\n",
       "    <tr style=\"text-align: right;\">\n",
       "      <th></th>\n",
       "      <th>beta</th>\n",
       "      <th>exponential</th>\n",
       "      <th>normal_p</th>\n",
       "      <th>normal_l</th>\n",
       "      <th>bimodal</th>\n",
       "      <th>normal_big</th>\n",
       "    </tr>\n",
       "  </thead>\n",
       "  <tbody>\n",
       "    <tr>\n",
       "      <th>0</th>\n",
       "      <td>1.097809</td>\n",
       "      <td>-0.595393</td>\n",
       "      <td>-0.178250</td>\n",
       "      <td>1.599467</td>\n",
       "      <td>1.119376</td>\n",
       "      <td>-0.853034</td>\n",
       "    </tr>\n",
       "    <tr>\n",
       "      <th>1</th>\n",
       "      <td>1.154784</td>\n",
       "      <td>0.713375</td>\n",
       "      <td>0.901385</td>\n",
       "      <td>-0.278931</td>\n",
       "      <td>0.989573</td>\n",
       "      <td>1.736320</td>\n",
       "    </tr>\n",
       "    <tr>\n",
       "      <th>2</th>\n",
       "      <td>0.937499</td>\n",
       "      <td>2.671601</td>\n",
       "      <td>0.368710</td>\n",
       "      <td>-0.176556</td>\n",
       "      <td>0.957651</td>\n",
       "      <td>-1.227510</td>\n",
       "    </tr>\n",
       "    <tr>\n",
       "      <th>3</th>\n",
       "      <td>0.837017</td>\n",
       "      <td>3.812307</td>\n",
       "      <td>-0.382989</td>\n",
       "      <td>-0.181818</td>\n",
       "      <td>0.978439</td>\n",
       "      <td>0.699814</td>\n",
       "    </tr>\n",
       "    <tr>\n",
       "      <th>4</th>\n",
       "      <td>-0.983914</td>\n",
       "      <td>-0.198002</td>\n",
       "      <td>0.588508</td>\n",
       "      <td>1.093503</td>\n",
       "      <td>1.083676</td>\n",
       "      <td>1.128988</td>\n",
       "    </tr>\n",
       "  </tbody>\n",
       "</table>\n",
       "</div>"
      ],
      "text/plain": [
       "       beta  exponential  normal_p  normal_l   bimodal  normal_big\n",
       "0  1.097809    -0.595393 -0.178250  1.599467  1.119376   -0.853034\n",
       "1  1.154784     0.713375  0.901385 -0.278931  0.989573    1.736320\n",
       "2  0.937499     2.671601  0.368710 -0.176556  0.957651   -1.227510\n",
       "3  0.837017     3.812307 -0.382989 -0.181818  0.978439    0.699814\n",
       "4 -0.983914    -0.198002  0.588508  1.093503  1.083676    1.128988"
      ]
     },
     "execution_count": 6,
     "metadata": {},
     "output_type": "execute_result"
    }
   ],
   "source": [
    "# Chuẩn hóa với StandardScaler (Z-Score scaling)\n",
    "\n",
    "# Khai báo đối tượng StandardScaler\n",
    "s_scaler = StandardScaler()\n",
    "\n",
    "# Chuẩn hóa dữ liệu trong df với StandardScaler\n",
    "df_s = s_scaler.fit_transform(df)\n",
    "\n",
    "# lấy danh sáchc cột\n",
    "col_names = list(df.columns)\n",
    "\n",
    "# chuyển về DataFrame, gán các cột của df cho dữ liệu đã được chuẩn hóa\n",
    "df_s = pd.DataFrame(df_s, columns=col_names)\n",
    "\n",
    "df_s.head()"
   ]
  },
  {
   "cell_type": "code",
   "execution_count": 7,
   "id": "44cbedfc",
   "metadata": {},
   "outputs": [
    {
     "data": {
      "text/plain": [
       "<AxesSubplot:ylabel='Density'>"
      ]
     },
     "execution_count": 7,
     "metadata": {},
     "output_type": "execute_result"
    },
    {
     "data": {
      "image/png": "[encoded data removed]",
      "text/plain": [
       "<Figure size 432x288 with 1 Axes>"
      ]
     },
     "metadata": {
      "needs_background": "light"
     },
     "output_type": "display_data"
    }
   ],
   "source": [
    "# biểu diễn dữ liệu đã được chuẩn hóa\n",
    "sns.kdeplot(data=df_s)"
   ]
  },
  {
   "cell_type": "code",
   "execution_count": 8,
   "id": "d72c573b",
   "metadata": {},
   "outputs": [
    {
     "data": {
      "text/html": [
       "<div>\n",
       "<style scoped>\n",
       "    .dataframe tbody tr th:only-of-type {\n",
       "        vertical-align: middle;\n",
       "    }\n",
       "\n",
       "    .dataframe tbody tr th {\n",
       "        vertical-align: top;\n",
       "    }\n",
       "\n",
       "    .dataframe thead th {\n",
       "        text-align: right;\n",
       "    }\n",
       "</style>\n",
       "<table border=\"1\" class=\"dataframe\">\n",
       "  <thead>\n",
       "    <tr style=\"text-align: right;\">\n",
       "      <th></th>\n",
       "      <th>beta</th>\n",
       "      <th>exponential</th>\n",
       "      <th>normal_p</th>\n",
       "      <th>normal_l</th>\n",
       "      <th>bimodal</th>\n",
       "      <th>normal_big</th>\n",
       "    </tr>\n",
       "  </thead>\n",
       "  <tbody>\n",
       "    <tr>\n",
       "      <th>count</th>\n",
       "      <td>1.000000e+03</td>\n",
       "      <td>1.000000e+03</td>\n",
       "      <td>1.000000e+03</td>\n",
       "      <td>1.000000e+03</td>\n",
       "      <td>1.000000e+03</td>\n",
       "      <td>1.000000e+03</td>\n",
       "    </tr>\n",
       "    <tr>\n",
       "      <th>mean</th>\n",
       "      <td>7.185363e-16</td>\n",
       "      <td>-1.664224e-16</td>\n",
       "      <td>6.661338e-18</td>\n",
       "      <td>4.796163e-17</td>\n",
       "      <td>-1.687539e-17</td>\n",
       "      <td>6.917245e-16</td>\n",
       "    </tr>\n",
       "    <tr>\n",
       "      <th>std</th>\n",
       "      <td>1.000500e+00</td>\n",
       "      <td>1.000500e+00</td>\n",
       "      <td>1.000500e+00</td>\n",
       "      <td>1.000500e+00</td>\n",
       "      <td>1.000500e+00</td>\n",
       "      <td>1.000500e+00</td>\n",
       "    </tr>\n",
       "    <tr>\n",
       "      <th>min</th>\n",
       "      <td>-4.386261e+00</td>\n",
       "      <td>-1.023307e+00</td>\n",
       "      <td>-3.035860e+00</td>\n",
       "      <td>-2.775880e+00</td>\n",
       "      <td>-1.410615e+00</td>\n",
       "      <td>-2.971156e+00</td>\n",
       "    </tr>\n",
       "    <tr>\n",
       "      <th>25%</th>\n",
       "      <td>-5.647975e-01</td>\n",
       "      <td>-7.308468e-01</td>\n",
       "      <td>-6.147282e-01</td>\n",
       "      <td>-6.766141e-01</td>\n",
       "      <td>-9.932940e-01</td>\n",
       "      <td>-7.024120e-01</td>\n",
       "    </tr>\n",
       "    <tr>\n",
       "      <th>50%</th>\n",
       "      <td>2.585301e-01</td>\n",
       "      <td>-2.901653e-01</td>\n",
       "      <td>-3.910082e-02</td>\n",
       "      <td>-5.737953e-03</td>\n",
       "      <td>2.622748e-03</td>\n",
       "      <td>2.176514e-02</td>\n",
       "    </tr>\n",
       "    <tr>\n",
       "      <th>75%</th>\n",
       "      <td>7.994282e-01</td>\n",
       "      <td>3.964892e-01</td>\n",
       "      <td>6.631258e-01</td>\n",
       "      <td>7.113872e-01</td>\n",
       "      <td>9.947020e-01</td>\n",
       "      <td>6.854465e-01</td>\n",
       "    </tr>\n",
       "    <tr>\n",
       "      <th>max</th>\n",
       "      <td>1.185991e+00</td>\n",
       "      <td>7.559021e+00</td>\n",
       "      <td>3.781478e+00</td>\n",
       "      <td>3.201928e+00</td>\n",
       "      <td>1.414949e+00</td>\n",
       "      <td>3.063854e+00</td>\n",
       "    </tr>\n",
       "  </tbody>\n",
       "</table>\n",
       "</div>"
      ],
      "text/plain": [
       "               beta   exponential      normal_p      normal_l       bimodal  \\\n",
       "count  1.000000e+03  1.000000e+03  1.000000e+03  1.000000e+03  1.000000e+03   \n",
       "mean   7.185363e-16 -1.664224e-16  6.661338e-18  4.796163e-17 -1.687539e-17   \n",
       "std    1.000500e+00  1.000500e+00  1.000500e+00  1.000500e+00  1.000500e+00   \n",
       "min   -4.386261e+00 -1.023307e+00 -3.035860e+00 -2.775880e+00 -1.410615e+00   \n",
       "25%   -5.647975e-01 -7.308468e-01 -6.147282e-01 -6.766141e-01 -9.932940e-01   \n",
       "50%    2.585301e-01 -2.901653e-01 -3.910082e-02 -5.737953e-03  2.622748e-03   \n",
       "75%    7.994282e-01  3.964892e-01  6.631258e-01  7.113872e-01  9.947020e-01   \n",
       "max    1.185991e+00  7.559021e+00  3.781478e+00  3.201928e+00  1.414949e+00   \n",
       "\n",
       "         normal_big  \n",
       "count  1.000000e+03  \n",
       "mean   6.917245e-16  \n",
       "std    1.000500e+00  \n",
       "min   -2.971156e+00  \n",
       "25%   -7.024120e-01  \n",
       "50%    2.176514e-02  \n",
       "75%    6.854465e-01  \n",
       "max    3.063854e+00  "
      ]
     },
     "execution_count": 8,
     "metadata": {},
     "output_type": "execute_result"
    }
   ],
   "source": [
    "# thống kê về dữ liệu được sinh ra\n",
    "df_s.describe()"
   ]
  },
  {
   "cell_type": "code",
   "execution_count": 9,
   "id": "204029b7",
   "metadata": {},
   "outputs": [
    {
     "data": {
      "text/plain": [
       "<AxesSubplot:>"
      ]
     },
     "execution_count": 9,
     "metadata": {},
     "output_type": "execute_result"
    },
    {
     "data": {
      "image/png": "[encoded data removed]",
      "text/plain": [
       "<Figure size 432x288 with 1 Axes>"
      ]
     },
     "metadata": {
      "needs_background": "light"
     },
     "output_type": "display_data"
    }
   ],
   "source": [
    "# trực quan hóa bằng biểu đồ box plot\n",
    "df_s.boxplot()"
   ]
  },
  {
   "cell_type": "code",
   "execution_count": null,
   "id": "630bf979",
   "metadata": {},
   "outputs": [],
   "source": []
  }
 ],
 "metadata": {
  "kernelspec": {
   "display_name": "Python 3 (ipykernel)",
   "language": "python",
   "name": "python3"
  },
  "language_info": {
   "codemirror_mode": {
    "name": "ipython",
    "version": 3
   },
   "file_extension": ".py",
   "mimetype": "text/x-python",
   "name": "python",
   "nbconvert_exporter": "python",
   "pygments_lexer": "ipython3",
   "version": "3.9.12"
  }
 },
 "nbformat": 4,
 "nbformat_minor": 5
}
