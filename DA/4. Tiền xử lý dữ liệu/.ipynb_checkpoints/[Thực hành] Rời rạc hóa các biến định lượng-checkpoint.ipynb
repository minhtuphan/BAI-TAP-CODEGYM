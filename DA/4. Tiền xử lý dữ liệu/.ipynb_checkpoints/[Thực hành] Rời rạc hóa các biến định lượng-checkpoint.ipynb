{
 "cells": [
  {
   "cell_type": "code",
   "execution_count": 1,
   "id": "f2efe116",
   "metadata": {},
   "outputs": [
    {
     "data": {
      "text/plain": [
       "[(18, 25], (18, 25], (18, 25], (25, 35], (18, 25], ..., (25, 35], (60, 100], (35, 60], (35, 60], (25, 35]]\n",
       "Length: 12\n",
       "Categories (4, interval[int64, right]): [(18, 25] < (25, 35] < (35, 60] < (60, 100]]"
      ]
     },
     "execution_count": 1,
     "metadata": {},
     "output_type": "execute_result"
    }
   ],
   "source": [
    "import pandas as pd\n",
    "import numpy as np\n",
    "ages = [20, 22, 25, 27, 21, 23, 37, 31, 61, 45, 41, 32]\n",
    "\n",
    "# định nghĩa khoảng giá trị các nhóm\n",
    "bins = [18, 25, 35, 60, 100]\n",
    "\n",
    "# thực hiện rời rạc hóa\n",
    "cats = pd.cut(ages, bins)\n",
    "cats"
   ]
  },
  {
   "cell_type": "code",
   "execution_count": 2,
   "id": "003b6faf",
   "metadata": {},
   "outputs": [
    {
     "data": {
      "text/plain": [
       "array([0, 0, 0, 1, 0, 0, 2, 1, 3, 2, 2, 1], dtype=int8)"
      ]
     },
     "execution_count": 2,
     "metadata": {},
     "output_type": "execute_result"
    }
   ],
   "source": [
    "# Đối tượng mà pandas trả về là một đối tượng Categorical đặc biệt.\n",
    "# Đầu ra mô tả các nhóm được tính toán bởi pandas.cut. Có thể coi nó như một mảng chuỗi chỉ ra tên nhóm\n",
    "# lấy ra index của nhóm tương ứng với các phần tử\n",
    "cats.codes"
   ]
  },
  {
   "cell_type": "code",
   "execution_count": 3,
   "id": "87f17865",
   "metadata": {},
   "outputs": [
    {
     "data": {
      "text/plain": [
       "IntervalIndex([(18, 25], (25, 35], (35, 60], (60, 100]], dtype='interval[int64, right]')"
      ]
     },
     "execution_count": 3,
     "metadata": {},
     "output_type": "execute_result"
    }
   ],
   "source": [
    "# lấy ra các nhóm\n",
    "cats.categories"
   ]
  },
  {
   "cell_type": "code",
   "execution_count": 4,
   "id": "3310644d",
   "metadata": {},
   "outputs": [
    {
     "data": {
      "text/plain": [
       "(18, 25]     5\n",
       "(25, 35]     3\n",
       "(35, 60]     3\n",
       "(60, 100]    1\n",
       "dtype: int64"
      ]
     },
     "execution_count": 4,
     "metadata": {},
     "output_type": "execute_result"
    }
   ],
   "source": [
    "# thống kê số lượng phần tử ở mỗi nhóm\n",
    "pd.value_counts(cats)"
   ]
  },
  {
   "cell_type": "code",
   "execution_count": 5,
   "id": "20a11c5d",
   "metadata": {},
   "outputs": [
    {
     "data": {
      "text/plain": [
       "[[18, 26), [18, 26), [18, 26), [26, 36), [18, 26), ..., [26, 36), [61, 100), [36, 61), [36, 61), [26, 36)]\n",
       "Length: 12\n",
       "Categories (4, interval[int64, left]): [[18, 26) < [26, 36) < [36, 61) < [61, 100)]"
      ]
     },
     "execution_count": 5,
     "metadata": {},
     "output_type": "execute_result"
    }
   ],
   "source": [
    "# Đồng nhất với ký hiệu toán học cho các khoảng, dấu ngoặc đơn có nghĩa là cạnh đó mở, trong khi dấu ngoặc vuông có nghĩa là cạnh đó bị đóng (bao gồm).\n",
    "# Chúng ta có thể thay đổi phía bị đóng bằng cách truyền vào tham số right = False:\n",
    "pd.cut(ages, [18, 26, 36, 61, 100], right=False)"
   ]
  },
  {
   "cell_type": "code",
   "execution_count": 6,
   "id": "4c400e19",
   "metadata": {},
   "outputs": [
    {
     "data": {
      "text/plain": [
       "['Youth', 'Youth', 'Youth', 'YoungAdult', 'Youth', ..., 'YoungAdult', 'Senior', 'MiddleAged', 'MiddleAged', 'YoungAdult']\n",
       "Length: 12\n",
       "Categories (4, object): ['Youth' < 'YoungAdult' < 'MiddleAged' < 'Senior']"
      ]
     },
     "execution_count": 6,
     "metadata": {},
     "output_type": "execute_result"
    }
   ],
   "source": [
    "# Chúng ta cũng có thể chuyển các tên nhóm của riêng mình bằng cách truyền vào một danh sách các nhãn:\n",
    "# danh sách nhãn\n",
    "group_names = ['Youth', 'YoungAdult', 'MiddleAged', 'Senior']\n",
    "\n",
    "pd.cut(ages, bins, labels=group_names)"
   ]
  },
  {
   "cell_type": "code",
   "execution_count": 7,
   "id": "57d3722f",
   "metadata": {},
   "outputs": [],
   "source": [
    "# Nếu truyền một số nguyên nhóm để thực hiện hàm cut thay vì các khoảng giá trị rõ ràng, nó sẽ tính toán các nhóm có chiều dài bằng nhau dựa trên các giá trị tối thiểu và lớn nhất trong dữ liệu.\n",
    "# sinh dữ liệu ngẫu nhiên gồm 20 phần tử\n",
    "data = np.random.rand(20)"
   ]
  },
  {
   "cell_type": "code",
   "execution_count": 8,
   "id": "6e7e88d2",
   "metadata": {},
   "outputs": [
    {
     "data": {
      "text/plain": [
       "[(0.016, 0.26], (0.016, 0.26], (0.51, 0.75], (0.51, 0.75], (0.51, 0.75], ..., (0.51, 0.75], (0.26, 0.51], (0.75, 1.0], (0.016, 0.26], (0.75, 1.0]]\n",
       "Length: 20\n",
       "Categories (4, interval[float64, right]): [(0.016, 0.26] < (0.26, 0.51] < (0.51, 0.75] < (0.75, 1.0]]"
      ]
     },
     "execution_count": 8,
     "metadata": {},
     "output_type": "execute_result"
    }
   ],
   "source": [
    "# Tùy chọn precision = 2 sẽ giới hạn độ chính xác thập phân ở hai chữ số.\n",
    "cut_data = pd.cut(data, 4, precision=2)\n",
    "cut_data"
   ]
  },
  {
   "cell_type": "code",
   "execution_count": 9,
   "id": "9ac780a2",
   "metadata": {},
   "outputs": [
    {
     "data": {
      "text/plain": [
       "(0.016, 0.26]    6\n",
       "(0.51, 0.75]     6\n",
       "(0.75, 1.0]      6\n",
       "(0.26, 0.51]     2\n",
       "dtype: int64"
      ]
     },
     "execution_count": 9,
     "metadata": {},
     "output_type": "execute_result"
    }
   ],
   "source": [
    "pd.value_counts(cut_data)"
   ]
  },
  {
   "cell_type": "markdown",
   "id": "ab644ad1",
   "metadata": {},
   "source": [
    "# Một hàm có liên quan chặt chẽ, qcut, chứa dữ liệu dựa trên các lượng tử mẫu. Tùy thuộc vào sự phân bố của dữ liệu, việc sử dụng cut thường không dẫn đến việc mỗi nhóm có cùng số lượng dữ liệu. Vì qcut sử dụng các lượng tử mẫu thay thế, nên chúng sẽ nhận được các nhóm có kích thước gần bằng nhau:"
   ]
  },
  {
   "cell_type": "code",
   "execution_count": 13,
   "id": "0607046b",
   "metadata": {},
   "outputs": [
    {
     "data": {
      "text/plain": [
       "[(-3.332, -0.652], (-3.332, -0.652], (-3.332, -0.652], (0.676, 3.001], (0.676, 3.001], ..., (0.676, 3.001], (-0.652, 0.00996], (0.00996, 0.676], (-3.332, -0.652], (-3.332, -0.652]]\n",
       "Length: 1000\n",
       "Categories (4, interval[float64, right]): [(-3.332, -0.652] < (-0.652, 0.00996] < (0.00996, 0.676] < (0.676, 3.001]]"
      ]
     },
     "execution_count": 13,
     "metadata": {},
     "output_type": "execute_result"
    }
   ],
   "source": [
    " # sinh ngẫu nhiễn 1000 điểm dữ liệu\n",
    "data = np.random.randn(1000)\n",
    "# thực hiện hàm qcut trên dữ liệu vừa sinh ra\n",
    "cats = pd.qcut(data, 4)\n",
    "cats"
   ]
  },
  {
   "cell_type": "code",
   "execution_count": 14,
   "id": "1d667887",
   "metadata": {},
   "outputs": [
    {
     "data": {
      "text/plain": [
       "(-3.332, -0.652]     250\n",
       "(-0.652, 0.00996]    250\n",
       "(0.00996, 0.676]     250\n",
       "(0.676, 3.001]       250\n",
       "dtype: int64"
      ]
     },
     "execution_count": 14,
     "metadata": {},
     "output_type": "execute_result"
    }
   ],
   "source": [
    "#thống kê số lượng phần tử\n",
    "pd.value_counts(cats)"
   ]
  },
  {
   "cell_type": "code",
   "execution_count": 15,
   "id": "422d4dbe",
   "metadata": {},
   "outputs": [
    {
     "data": {
      "text/plain": [
       "[(-1.218, 0.00996], (-1.218, 0.00996], (-3.332, -1.218], (1.252, 3.001], (0.00996, 1.252], ..., (0.00996, 1.252], (-1.218, 0.00996], (0.00996, 1.252], (-3.332, -1.218], (-1.218, 0.00996]]\n",
       "Length: 1000\n",
       "Categories (4, interval[float64, right]): [(-3.332, -1.218] < (-1.218, 0.00996] < (0.00996, 1.252] < (1.252, 3.001]]"
      ]
     },
     "execution_count": 15,
     "metadata": {},
     "output_type": "execute_result"
    }
   ],
   "source": [
    "# Tương tự như cut, chúng ta có thể chuyển các lượng tử của riêng mình (các số từ 0 đến 1):\n",
    "pd.qcut(data, [0, 0.1, 0.5, 0.9, 1.])"
   ]
  },
  {
   "cell_type": "code",
   "execution_count": null,
   "id": "48870992",
   "metadata": {},
   "outputs": [],
   "source": []
  }
 ],
 "metadata": {
  "kernelspec": {
   "display_name": "Python 3 (ipykernel)",
   "language": "python",
   "name": "python3"
  },
  "language_info": {
   "codemirror_mode": {
    "name": "ipython",
    "version": 3
   },
   "file_extension": ".py",
   "mimetype": "text/x-python",
   "name": "python",
   "nbconvert_exporter": "python",
   "pygments_lexer": "ipython3",
   "version": "3.9.12"
  }
 },
 "nbformat": 4,
 "nbformat_minor": 5
}
