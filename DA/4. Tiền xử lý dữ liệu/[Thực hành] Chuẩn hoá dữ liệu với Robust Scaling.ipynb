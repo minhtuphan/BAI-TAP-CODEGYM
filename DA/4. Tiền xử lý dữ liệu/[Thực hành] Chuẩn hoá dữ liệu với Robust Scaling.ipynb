{
 "cells": [
  {
   "cell_type": "code",
   "execution_count": 1,
   "id": "0eedd9ef",
   "metadata": {},
   "outputs": [
    {
     "data": {
      "text/html": [
       "<div>\n",
       "<style scoped>\n",
       "    .dataframe tbody tr th:only-of-type {\n",
       "        vertical-align: middle;\n",
       "    }\n",
       "\n",
       "    .dataframe tbody tr th {\n",
       "        vertical-align: top;\n",
       "    }\n",
       "\n",
       "    .dataframe thead th {\n",
       "        text-align: right;\n",
       "    }\n",
       "</style>\n",
       "<table border=\"1\" class=\"dataframe\">\n",
       "  <thead>\n",
       "    <tr style=\"text-align: right;\">\n",
       "      <th></th>\n",
       "      <th>beta</th>\n",
       "      <th>exponential</th>\n",
       "      <th>normal_p</th>\n",
       "      <th>normal_l</th>\n",
       "      <th>bimodal</th>\n",
       "    </tr>\n",
       "  </thead>\n",
       "  <tbody>\n",
       "    <tr>\n",
       "      <th>0</th>\n",
       "      <td>57.616563</td>\n",
       "      <td>3.717833</td>\n",
       "      <td>7.076638</td>\n",
       "      <td>15.623484</td>\n",
       "      <td>16.830822</td>\n",
       "    </tr>\n",
       "    <tr>\n",
       "      <th>1</th>\n",
       "      <td>41.693686</td>\n",
       "      <td>0.700028</td>\n",
       "      <td>9.575882</td>\n",
       "      <td>16.963473</td>\n",
       "      <td>24.597929</td>\n",
       "    </tr>\n",
       "    <tr>\n",
       "      <th>2</th>\n",
       "      <td>57.176433</td>\n",
       "      <td>14.751815</td>\n",
       "      <td>10.472527</td>\n",
       "      <td>22.555569</td>\n",
       "      <td>21.990809</td>\n",
       "    </tr>\n",
       "    <tr>\n",
       "      <th>3</th>\n",
       "      <td>42.791188</td>\n",
       "      <td>12.947426</td>\n",
       "      <td>12.073003</td>\n",
       "      <td>19.112920</td>\n",
       "      <td>20.694664</td>\n",
       "    </tr>\n",
       "    <tr>\n",
       "      <th>4</th>\n",
       "      <td>33.362863</td>\n",
       "      <td>10.276820</td>\n",
       "      <td>13.166037</td>\n",
       "      <td>2.660953</td>\n",
       "      <td>20.643179</td>\n",
       "    </tr>\n",
       "  </tbody>\n",
       "</table>\n",
       "</div>"
      ],
      "text/plain": [
       "        beta  exponential   normal_p   normal_l    bimodal\n",
       "0  57.616563     3.717833   7.076638  15.623484  16.830822\n",
       "1  41.693686     0.700028   9.575882  16.963473  24.597929\n",
       "2  57.176433    14.751815  10.472527  22.555569  21.990809\n",
       "3  42.791188    12.947426  12.073003  19.112920  20.694664\n",
       "4  33.362863    10.276820  13.166037   2.660953  20.643179"
      ]
     },
     "execution_count": 1,
     "metadata": {},
     "output_type": "execute_result"
    }
   ],
   "source": [
    "import pandas as pd\n",
    "import numpy as np\n",
    "import matplotlib.pyplot as plt\n",
    "import seaborn as sns\n",
    "from sklearn.preprocessing import RobustScaler\n",
    "\n",
    "# tạo các cột theo các phần phối khác nhau\n",
    "df = pd.DataFrame({ \n",
    "    'beta': np.random.beta(5, 1, 1000) * 60,        # beta\n",
    "    'exponential': np.random.exponential(10, 1000), # exponential\n",
    "    'normal_p': np.random.normal(10, 2, 1000),      # normal platykurtic\n",
    "    'normal_l': np.random.normal(10, 10, 1000),     # normal leptokurtic\n",
    "})\n",
    "\n",
    "# thêm dữ liệu được tạo theo phân phối nhị thức\n",
    "first_half = np.random.normal(20, 3, 500) \n",
    "second_half = np.random.normal(-20, 3, 500) \n",
    "bimodal = np.concatenate([first_half, second_half])\n",
    "\n",
    "df['bimodal'] = bimodal\n",
    "\n",
    "# hiển thị dữ liệu\n",
    "df.head()"
   ]
  },
  {
   "cell_type": "code",
   "execution_count": 2,
   "id": "4291923a",
   "metadata": {},
   "outputs": [
    {
     "data": {
      "text/plain": [
       "<AxesSubplot:ylabel='Density'>"
      ]
     },
     "execution_count": 2,
     "metadata": {},
     "output_type": "execute_result"
    },
    {
     "data": {
      "image/png": "[encoded data removed]",
      "text/plain": [
       "<Figure size 432x288 with 1 Axes>"
      ]
     },
     "metadata": {
      "needs_background": "light"
     },
     "output_type": "display_data"
    }
   ],
   "source": [
    "# Trực quan hóa dữ liệu sinh ra\n",
    "sns.kdeplot(data=df)"
   ]
  },
  {
   "cell_type": "code",
   "execution_count": 3,
   "id": "a655462c",
   "metadata": {},
   "outputs": [
    {
     "data": {
      "text/html": [
       "<div>\n",
       "<style scoped>\n",
       "    .dataframe tbody tr th:only-of-type {\n",
       "        vertical-align: middle;\n",
       "    }\n",
       "\n",
       "    .dataframe tbody tr th {\n",
       "        vertical-align: top;\n",
       "    }\n",
       "\n",
       "    .dataframe thead th {\n",
       "        text-align: right;\n",
       "    }\n",
       "</style>\n",
       "<table border=\"1\" class=\"dataframe\">\n",
       "  <thead>\n",
       "    <tr style=\"text-align: right;\">\n",
       "      <th></th>\n",
       "      <th>beta</th>\n",
       "      <th>exponential</th>\n",
       "      <th>normal_p</th>\n",
       "      <th>normal_l</th>\n",
       "      <th>bimodal</th>\n",
       "    </tr>\n",
       "  </thead>\n",
       "  <tbody>\n",
       "    <tr>\n",
       "      <th>count</th>\n",
       "      <td>1000.000000</td>\n",
       "      <td>1000.000000</td>\n",
       "      <td>1000.000000</td>\n",
       "      <td>1000.000000</td>\n",
       "      <td>1000.000000</td>\n",
       "    </tr>\n",
       "    <tr>\n",
       "      <th>mean</th>\n",
       "      <td>50.458828</td>\n",
       "      <td>10.103590</td>\n",
       "      <td>9.871971</td>\n",
       "      <td>10.083465</td>\n",
       "      <td>-0.104810</td>\n",
       "    </tr>\n",
       "    <tr>\n",
       "      <th>std</th>\n",
       "      <td>7.938343</td>\n",
       "      <td>10.344770</td>\n",
       "      <td>2.031183</td>\n",
       "      <td>9.955188</td>\n",
       "      <td>20.003333</td>\n",
       "    </tr>\n",
       "    <tr>\n",
       "      <th>min</th>\n",
       "      <td>16.805976</td>\n",
       "      <td>0.015322</td>\n",
       "      <td>2.440531</td>\n",
       "      <td>-24.892824</td>\n",
       "      <td>-28.107060</td>\n",
       "    </tr>\n",
       "    <tr>\n",
       "      <th>25%</th>\n",
       "      <td>46.270565</td>\n",
       "      <td>2.594346</td>\n",
       "      <td>8.517457</td>\n",
       "      <td>3.106856</td>\n",
       "      <td>-19.962318</td>\n",
       "    </tr>\n",
       "    <tr>\n",
       "      <th>50%</th>\n",
       "      <td>52.769191</td>\n",
       "      <td>6.798149</td>\n",
       "      <td>9.928249</td>\n",
       "      <td>10.136244</td>\n",
       "      <td>0.305022</td>\n",
       "    </tr>\n",
       "    <tr>\n",
       "      <th>75%</th>\n",
       "      <td>56.722109</td>\n",
       "      <td>14.026940</td>\n",
       "      <td>11.184131</td>\n",
       "      <td>16.473508</td>\n",
       "      <td>19.510335</td>\n",
       "    </tr>\n",
       "    <tr>\n",
       "      <th>max</th>\n",
       "      <td>59.970083</td>\n",
       "      <td>78.801895</td>\n",
       "      <td>15.826576</td>\n",
       "      <td>44.704653</td>\n",
       "      <td>29.729472</td>\n",
       "    </tr>\n",
       "  </tbody>\n",
       "</table>\n",
       "</div>"
      ],
      "text/plain": [
       "              beta  exponential     normal_p     normal_l      bimodal\n",
       "count  1000.000000  1000.000000  1000.000000  1000.000000  1000.000000\n",
       "mean     50.458828    10.103590     9.871971    10.083465    -0.104810\n",
       "std       7.938343    10.344770     2.031183     9.955188    20.003333\n",
       "min      16.805976     0.015322     2.440531   -24.892824   -28.107060\n",
       "25%      46.270565     2.594346     8.517457     3.106856   -19.962318\n",
       "50%      52.769191     6.798149     9.928249    10.136244     0.305022\n",
       "75%      56.722109    14.026940    11.184131    16.473508    19.510335\n",
       "max      59.970083    78.801895    15.826576    44.704653    29.729472"
      ]
     },
     "execution_count": 3,
     "metadata": {},
     "output_type": "execute_result"
    }
   ],
   "source": [
    "# Hiển thị thống kê về dữ liệu sinh ra\n",
    "df.describe()"
   ]
  },
  {
   "cell_type": "code",
   "execution_count": 4,
   "id": "4549a0fc",
   "metadata": {},
   "outputs": [
    {
     "data": {
      "text/plain": [
       "<AxesSubplot:ylabel='Density'>"
      ]
     },
     "execution_count": 4,
     "metadata": {},
     "output_type": "execute_result"
    },
    {
     "data": {
      "image/png": "[encoded data removed]",
      "text/plain": [
       "<Figure size 432x288 with 1 Axes>"
      ]
     },
     "metadata": {
      "needs_background": "light"
     },
     "output_type": "display_data"
    }
   ],
   "source": [
    "# Khi thêm đặc trưng này, do giá trị của chúng khác xa với khoảng giá trị ban đầu nên nếu ta biểu diễn bằng đồ thị thì các dữ liệu lúc trước sẽ co cụm lại 1 bên\n",
    "normal_big = np.random.normal(1000000, 10000, (1000,1))  # normal distribution of large values\n",
    "df['normal_big'] = normal_big\n",
    "sns.kdeplot(data=df)"
   ]
  },
  {
   "cell_type": "code",
   "execution_count": 5,
   "id": "dbb76723",
   "metadata": {},
   "outputs": [
    {
     "data": {
      "text/plain": [
       "<AxesSubplot:>"
      ]
     },
     "execution_count": 5,
     "metadata": {},
     "output_type": "execute_result"
    },
    {
     "data": {
      "image/png": "[encoded data removed]",
      "text/plain": [
       "<Figure size 432x288 with 1 Axes>"
      ]
     },
     "metadata": {
      "needs_background": "light"
     },
     "output_type": "display_data"
    }
   ],
   "source": [
    "# trực quan hóa bằng biểu đồ box plot\n",
    "df.boxplot()"
   ]
  },
  {
   "cell_type": "code",
   "execution_count": 6,
   "id": "b79f14c7",
   "metadata": {},
   "outputs": [
    {
     "data": {
      "text/html": [
       "<div>\n",
       "<style scoped>\n",
       "    .dataframe tbody tr th:only-of-type {\n",
       "        vertical-align: middle;\n",
       "    }\n",
       "\n",
       "    .dataframe tbody tr th {\n",
       "        vertical-align: top;\n",
       "    }\n",
       "\n",
       "    .dataframe thead th {\n",
       "        text-align: right;\n",
       "    }\n",
       "</style>\n",
       "<table border=\"1\" class=\"dataframe\">\n",
       "  <thead>\n",
       "    <tr style=\"text-align: right;\">\n",
       "      <th></th>\n",
       "      <th>beta</th>\n",
       "      <th>exponential</th>\n",
       "      <th>normal_p</th>\n",
       "      <th>normal_l</th>\n",
       "      <th>bimodal</th>\n",
       "      <th>normal_big</th>\n",
       "    </tr>\n",
       "  </thead>\n",
       "  <tbody>\n",
       "    <tr>\n",
       "      <th>0</th>\n",
       "      <td>0.463795</td>\n",
       "      <td>-0.269433</td>\n",
       "      <td>-1.069351</td>\n",
       "      <td>0.410517</td>\n",
       "      <td>0.418665</td>\n",
       "      <td>-0.791069</td>\n",
       "    </tr>\n",
       "    <tr>\n",
       "      <th>1</th>\n",
       "      <td>-1.059700</td>\n",
       "      <td>-0.533398</td>\n",
       "      <td>-0.132138</td>\n",
       "      <td>0.510766</td>\n",
       "      <td>0.615436</td>\n",
       "      <td>0.264051</td>\n",
       "    </tr>\n",
       "    <tr>\n",
       "      <th>2</th>\n",
       "      <td>0.421683</td>\n",
       "      <td>0.695701</td>\n",
       "      <td>0.204104</td>\n",
       "      <td>0.929128</td>\n",
       "      <td>0.549388</td>\n",
       "      <td>0.476990</td>\n",
       "    </tr>\n",
       "    <tr>\n",
       "      <th>3</th>\n",
       "      <td>-0.954692</td>\n",
       "      <td>0.537872</td>\n",
       "      <td>0.804280</td>\n",
       "      <td>0.671573</td>\n",
       "      <td>0.516551</td>\n",
       "      <td>-0.992386</td>\n",
       "    </tr>\n",
       "    <tr>\n",
       "      <th>4</th>\n",
       "      <td>-1.856790</td>\n",
       "      <td>0.304277</td>\n",
       "      <td>1.214167</td>\n",
       "      <td>-0.559249</td>\n",
       "      <td>0.515247</td>\n",
       "      <td>0.348178</td>\n",
       "    </tr>\n",
       "  </tbody>\n",
       "</table>\n",
       "</div>"
      ],
      "text/plain": [
       "       beta  exponential  normal_p  normal_l   bimodal  normal_big\n",
       "0  0.463795    -0.269433 -1.069351  0.410517  0.418665   -0.791069\n",
       "1 -1.059700    -0.533398 -0.132138  0.510766  0.615436    0.264051\n",
       "2  0.421683     0.695701  0.204104  0.929128  0.549388    0.476990\n",
       "3 -0.954692     0.537872  0.804280  0.671573  0.516551   -0.992386\n",
       "4 -1.856790     0.304277  1.214167 -0.559249  0.515247    0.348178"
      ]
     },
     "execution_count": 6,
     "metadata": {},
     "output_type": "execute_result"
    }
   ],
   "source": [
    "# Chuẩn hóa với Robust Scaling\n",
    "\n",
    "# Khai báo đối tượng MinMaxScaler\n",
    "scaler = RobustScaler()\n",
    "\n",
    "# Chuẩn hóa dữ liệu trong df với StandardScaler\n",
    "df_s = scaler.fit_transform(df)\n",
    "\n",
    "# lấy danh sáchc cột\n",
    "col_names = list(df.columns)\n",
    "\n",
    "# chuyển về DataFrame, gán các cột của df cho dữ liệu đã được chuẩn hóa\n",
    "df_s = pd.DataFrame(df_s, columns=col_names)\n",
    "\n",
    "df_s.head()"
   ]
  },
  {
   "cell_type": "code",
   "execution_count": 7,
   "id": "f3693de2",
   "metadata": {},
   "outputs": [
    {
     "data": {
      "text/plain": [
       "<AxesSubplot:ylabel='Density'>"
      ]
     },
     "execution_count": 7,
     "metadata": {},
     "output_type": "execute_result"
    },
    {
     "data": {
      "image/png": "[encoded data removed]",
      "text/plain": [
       "<Figure size 432x288 with 1 Axes>"
      ]
     },
     "metadata": {
      "needs_background": "light"
     },
     "output_type": "display_data"
    }
   ],
   "source": [
    "# biểu diễn dữ liệu đã được chuẩn hóa\n",
    "sns.kdeplot(data=df_s)"
   ]
  },
  {
   "cell_type": "code",
   "execution_count": 8,
   "id": "6551c1b6",
   "metadata": {},
   "outputs": [
    {
     "data": {
      "text/html": [
       "<div>\n",
       "<style scoped>\n",
       "    .dataframe tbody tr th:only-of-type {\n",
       "        vertical-align: middle;\n",
       "    }\n",
       "\n",
       "    .dataframe tbody tr th {\n",
       "        vertical-align: top;\n",
       "    }\n",
       "\n",
       "    .dataframe thead th {\n",
       "        text-align: right;\n",
       "    }\n",
       "</style>\n",
       "<table border=\"1\" class=\"dataframe\">\n",
       "  <thead>\n",
       "    <tr style=\"text-align: right;\">\n",
       "      <th></th>\n",
       "      <th>beta</th>\n",
       "      <th>exponential</th>\n",
       "      <th>normal_p</th>\n",
       "      <th>normal_l</th>\n",
       "      <th>bimodal</th>\n",
       "      <th>normal_big</th>\n",
       "    </tr>\n",
       "  </thead>\n",
       "  <tbody>\n",
       "    <tr>\n",
       "      <th>count</th>\n",
       "      <td>1000.000000</td>\n",
       "      <td>1000.000000</td>\n",
       "      <td>1.000000e+03</td>\n",
       "      <td>1000.000000</td>\n",
       "      <td>1000.000000</td>\n",
       "      <td>1.000000e+03</td>\n",
       "    </tr>\n",
       "    <tr>\n",
       "      <th>mean</th>\n",
       "      <td>-0.221055</td>\n",
       "      <td>0.289124</td>\n",
       "      <td>-2.110442e-02</td>\n",
       "      <td>-0.003949</td>\n",
       "      <td>-0.010383</td>\n",
       "      <td>-1.777044e-02</td>\n",
       "    </tr>\n",
       "    <tr>\n",
       "      <th>std</th>\n",
       "      <td>0.759538</td>\n",
       "      <td>0.904849</td>\n",
       "      <td>7.616916e-01</td>\n",
       "      <td>0.744778</td>\n",
       "      <td>0.506764</td>\n",
       "      <td>7.551611e-01</td>\n",
       "    </tr>\n",
       "    <tr>\n",
       "      <th>min</th>\n",
       "      <td>-3.440947</td>\n",
       "      <td>-0.593289</td>\n",
       "      <td>-2.807886e+00</td>\n",
       "      <td>-2.620631</td>\n",
       "      <td>-0.719792</td>\n",
       "      <td>-2.599355e+00</td>\n",
       "    </tr>\n",
       "    <tr>\n",
       "      <th>25%</th>\n",
       "      <td>-0.621786</td>\n",
       "      <td>-0.367703</td>\n",
       "      <td>-5.290456e-01</td>\n",
       "      <td>-0.525890</td>\n",
       "      <td>-0.513453</td>\n",
       "      <td>-5.252483e-01</td>\n",
       "    </tr>\n",
       "    <tr>\n",
       "      <th>50%</th>\n",
       "      <td>0.000000</td>\n",
       "      <td>0.000000</td>\n",
       "      <td>3.330669e-16</td>\n",
       "      <td>0.000000</td>\n",
       "      <td>0.000000</td>\n",
       "      <td>4.433194e-15</td>\n",
       "    </tr>\n",
       "    <tr>\n",
       "      <th>75%</th>\n",
       "      <td>0.378214</td>\n",
       "      <td>0.632297</td>\n",
       "      <td>4.709544e-01</td>\n",
       "      <td>0.474110</td>\n",
       "      <td>0.486547</td>\n",
       "      <td>4.747517e-01</td>\n",
       "    </tr>\n",
       "    <tr>\n",
       "      <th>max</th>\n",
       "      <td>0.688979</td>\n",
       "      <td>6.298111</td>\n",
       "      <td>2.211866e+00</td>\n",
       "      <td>2.586168</td>\n",
       "      <td>0.745439</td>\n",
       "      <td>2.199511e+00</td>\n",
       "    </tr>\n",
       "  </tbody>\n",
       "</table>\n",
       "</div>"
      ],
      "text/plain": [
       "              beta  exponential      normal_p     normal_l      bimodal  \\\n",
       "count  1000.000000  1000.000000  1.000000e+03  1000.000000  1000.000000   \n",
       "mean     -0.221055     0.289124 -2.110442e-02    -0.003949    -0.010383   \n",
       "std       0.759538     0.904849  7.616916e-01     0.744778     0.506764   \n",
       "min      -3.440947    -0.593289 -2.807886e+00    -2.620631    -0.719792   \n",
       "25%      -0.621786    -0.367703 -5.290456e-01    -0.525890    -0.513453   \n",
       "50%       0.000000     0.000000  3.330669e-16     0.000000     0.000000   \n",
       "75%       0.378214     0.632297  4.709544e-01     0.474110     0.486547   \n",
       "max       0.688979     6.298111  2.211866e+00     2.586168     0.745439   \n",
       "\n",
       "         normal_big  \n",
       "count  1.000000e+03  \n",
       "mean  -1.777044e-02  \n",
       "std    7.551611e-01  \n",
       "min   -2.599355e+00  \n",
       "25%   -5.252483e-01  \n",
       "50%    4.433194e-15  \n",
       "75%    4.747517e-01  \n",
       "max    2.199511e+00  "
      ]
     },
     "execution_count": 8,
     "metadata": {},
     "output_type": "execute_result"
    }
   ],
   "source": [
    "# thống kê về dữ liệu được sinh ra\n",
    "df_s.describe()"
   ]
  },
  {
   "cell_type": "code",
   "execution_count": 9,
   "id": "3c8a5feb",
   "metadata": {},
   "outputs": [
    {
     "data": {
      "text/plain": [
       "<AxesSubplot:>"
      ]
     },
     "execution_count": 9,
     "metadata": {},
     "output_type": "execute_result"
    },
    {
     "data": {
      "image/png": "[encoded data removed]",
      "text/plain": [
       "<Figure size 432x288 with 1 Axes>"
      ]
     },
     "metadata": {
      "needs_background": "light"
     },
     "output_type": "display_data"
    }
   ],
   "source": [
    "df_s.boxplot()"
   ]
  },
  {
   "cell_type": "code",
   "execution_count": 10,
   "id": "440d1793",
   "metadata": {},
   "outputs": [
    {
     "data": {
      "text/plain": [
       "[-3.440947268114089,\n",
       " -0.5932885508096313,\n",
       " -2.8078862688741006,\n",
       " -2.6206314770499923,\n",
       " -0.7197915474851257,\n",
       " -2.599355392140334]"
      ]
     },
     "execution_count": 10,
     "metadata": {},
     "output_type": "execute_result"
    }
   ],
   "source": [
    "# lấy các giá trị min ở mỗi cột\n",
    "mins = [df_s[col].min() for col in df_s.columns]\n",
    "mins"
   ]
  },
  {
   "cell_type": "code",
   "execution_count": 11,
   "id": "a5a0422d",
   "metadata": {},
   "outputs": [
    {
     "data": {
      "text/plain": [
       "[0.6889787363243806,\n",
       " 6.298110654224813,\n",
       " 2.211866334587282,\n",
       " 2.586168178234221,\n",
       " 0.7454388708953414,\n",
       " 2.199510996389898]"
      ]
     },
     "execution_count": 11,
     "metadata": {},
     "output_type": "execute_result"
    }
   ],
   "source": [
    "# lấy giá trị max ở mỗi cột\n",
    "maxs = [df_s[col].max() for col in df_s.columns]\n",
    "maxs"
   ]
  },
  {
   "cell_type": "code",
   "execution_count": 12,
   "id": "cab220ec",
   "metadata": {},
   "outputs": [
    {
     "data": {
      "text/plain": [
       "array([5.27691911e+01, 6.79814937e+00, 9.92824932e+00, 1.01362438e+01,\n",
       "       3.05022341e-01, 9.99748094e+05])"
      ]
     },
     "execution_count": 12,
     "metadata": {},
     "output_type": "execute_result"
    }
   ],
   "source": [
    "# giá trị trung vị của các đặc trưng của tập dữ liệu gốc\n",
    "scaler.center_"
   ]
  },
  {
   "cell_type": "code",
   "execution_count": null,
   "id": "47a09850",
   "metadata": {},
   "outputs": [],
   "source": []
  }
 ],
 "metadata": {
  "kernelspec": {
   "display_name": "Python 3 (ipykernel)",
   "language": "python",
   "name": "python3"
  },
  "language_info": {
   "codemirror_mode": {
    "name": "ipython",
    "version": 3
   },
   "file_extension": ".py",
   "mimetype": "text/x-python",
   "name": "python",
   "nbconvert_exporter": "python",
   "pygments_lexer": "ipython3",
   "version": "3.9.12"
  }
 },
 "nbformat": 4,
 "nbformat_minor": 5
}
