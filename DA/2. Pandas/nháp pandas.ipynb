{
 "cells": [
  {
   "cell_type": "code",
   "execution_count": 1,
   "id": "1b2e64ec",
   "metadata": {},
   "outputs": [
    {
     "name": "stdout",
     "output_type": "stream",
     "text": [
      "Requirement already satisfied: pandas in c:\\users\\admin\\anaconda3\\lib\\site-packages (1.4.2)\n",
      "Requirement already satisfied: pytz>=2020.1 in c:\\users\\admin\\anaconda3\\lib\\site-packages (from pandas) (2021.3)\n",
      "Requirement already satisfied: numpy>=1.18.5 in c:\\users\\admin\\anaconda3\\lib\\site-packages (from pandas) (1.21.5)\n",
      "Requirement already satisfied: python-dateutil>=2.8.1 in c:\\users\\admin\\anaconda3\\lib\\site-packages (from pandas) (2.8.2)\n",
      "Requirement already satisfied: six>=1.5 in c:\\users\\admin\\anaconda3\\lib\\site-packages (from python-dateutil>=2.8.1->pandas) (1.16.0)\n"
     ]
    }
   ],
   "source": [
    "!pip install pandas"
   ]
  },
  {
   "cell_type": "code",
   "execution_count": 9,
   "id": "f0745a16",
   "metadata": {},
   "outputs": [
    {
     "name": "stdout",
     "output_type": "stream",
     "text": [
      "            0\n",
      "0     kế toán\n",
      "1  kinh doanh\n",
      "2    tiếp thị\n"
     ]
    }
   ],
   "source": [
    "# tạo dataframe từ list\n",
    "import pandas as pd\n",
    "import numpy as np\n",
    "lst = ['kế toán','kinh doanh','tiếp thị']\n",
    "df = pd.DataFrame(lst)\n",
    "print(df)\n",
    "# display(df)"
   ]
  },
  {
   "cell_type": "code",
   "execution_count": 10,
   "id": "7cc7a040",
   "metadata": {},
   "outputs": [
    {
     "name": "stdout",
     "output_type": "stream",
     "text": [
      "         nghề  lương\n",
      "0     kế toán   2000\n",
      "1  kinh doanh   2100\n",
      "2    tiếp thi   1900\n"
     ]
    }
   ],
   "source": [
    "# tạo dataframe từ tuple\n",
    "import pandas as pd\n",
    "import numpy as np\n",
    "tuples = [('kế toán', 2000),('kinh doanh',2100),('tiếp thi', 1900)]\n",
    "df = pd.DataFrame(tuples, columns=['nghề','lương'])\n",
    "print(df)"
   ]
  },
  {
   "cell_type": "code",
   "execution_count": 14,
   "id": "394e440a",
   "metadata": {},
   "outputs": [
    {
     "name": "stdout",
     "output_type": "stream",
     "text": [
      "   Công việc  Thu nhập\n",
      "0      Kỹ sư      3000\n",
      "1     Bác sĩ      3100\n",
      "2  Gíao viên      2900\n"
     ]
    }
   ],
   "source": [
    "# tạo dataframe từ dictionary\n",
    "import pandas as pd\n",
    "import numpy as np\n",
    "dic = {'Công việc':['Kỹ sư','Bác sĩ', 'Gíao viên'],\n",
    "      'Thu nhập': [3000, 3100, 2900] }\n",
    "df = pd.DataFrame(dic)\n",
    "print(df)"
   ]
  },
  {
   "cell_type": "code",
   "execution_count": 15,
   "id": "cf8b97bf",
   "metadata": {},
   "outputs": [
    {
     "name": "stdout",
     "output_type": "stream",
     "text": [
      "0       Kế toán\n",
      "1    Kinh doanh\n",
      "2      Tiếp thị\n",
      "dtype: object\n"
     ]
    }
   ],
   "source": [
    "# Tạo Series từ Dictionary\n",
    "# Khai báo Dictionary:\n",
    "dict = {0 : 'Kế toán', 1 : 'Kinh doanh', 2 : 'Tiếp thị'}\n",
    "# Gán giá trị của Dictionary vào Series\n",
    "seri = pd.Series(dict)\n",
    "print(seri)"
   ]
  },
  {
   "cell_type": "code",
   "execution_count": 16,
   "id": "75f2fbf8",
   "metadata": {},
   "outputs": [
    {
     "data": {
      "text/plain": [
       "0    51\n",
       "1    65\n",
       "2    48\n",
       "3    59\n",
       "4    68\n",
       "dtype: int32"
      ]
     },
     "execution_count": 16,
     "metadata": {},
     "output_type": "execute_result"
    }
   ],
   "source": [
    "# Tạo Series từ Numpy aray\n",
    "list2 = [51,65,48,59,68]\n",
    "# tạo numpy array\n",
    "arr = np.array([51,65,48,59,68])\n",
    "# Gán giá trị của array vào Series\n",
    "seri2 = pd.Series(arr) \n",
    "# seri2 = pd.Series(list2)   # int 64\n",
    "seri2"
   ]
  },
  {
   "cell_type": "code",
   "execution_count": 18,
   "id": "f2703ea2",
   "metadata": {},
   "outputs": [
    {
     "data": {
      "text/plain": [
       "0    10\n",
       "1    10\n",
       "2    10\n",
       "3    10\n",
       "4    10\n",
       "5    10\n",
       "dtype: int64"
      ]
     },
     "execution_count": 18,
     "metadata": {},
     "output_type": "execute_result"
    }
   ],
   "source": [
    "# Tạo series từ các giá trị vô hướng\n",
    "# tạo series\n",
    "seri = pd.Series(10, index=[0,1,2,3,4,5])\n",
    "# seri = pd.Series(np.arange(1,18,2))\n",
    "seri"
   ]
  },
  {
   "cell_type": "code",
   "execution_count": 22,
   "id": "3de9cfcc",
   "metadata": {},
   "outputs": [
    {
     "name": "stdout",
     "output_type": "stream",
     "text": [
      "******************** nhập dữ liệu thành công ********************\n"
     ]
    },
    {
     "data": {
      "text/html": [
       "<div>\n",
       "<style scoped>\n",
       "    .dataframe tbody tr th:only-of-type {\n",
       "        vertical-align: middle;\n",
       "    }\n",
       "\n",
       "    .dataframe tbody tr th {\n",
       "        vertical-align: top;\n",
       "    }\n",
       "\n",
       "    .dataframe thead th {\n",
       "        text-align: right;\n",
       "    }\n",
       "</style>\n",
       "<table border=\"1\" class=\"dataframe\">\n",
       "  <thead>\n",
       "    <tr style=\"text-align: right;\">\n",
       "      <th></th>\n",
       "      <th>Place</th>\n",
       "      <th>ProductId</th>\n",
       "      <th>ProductName</th>\n",
       "      <th>UmId</th>\n",
       "      <th>UmName</th>\n",
       "      <th>Month</th>\n",
       "      <th>Year</th>\n",
       "      <th>Price</th>\n",
       "    </tr>\n",
       "  </thead>\n",
       "  <tbody>\n",
       "    <tr>\n",
       "      <th>0</th>\n",
       "      <td>National Average</td>\n",
       "      <td>52</td>\n",
       "      <td>Rice - Retail</td>\n",
       "      <td>5</td>\n",
       "      <td>KG</td>\n",
       "      <td>5</td>\n",
       "      <td>2013</td>\n",
       "      <td>4.4920</td>\n",
       "    </tr>\n",
       "    <tr>\n",
       "      <th>1</th>\n",
       "      <td>National Average</td>\n",
       "      <td>52</td>\n",
       "      <td>Rice - Retail</td>\n",
       "      <td>5</td>\n",
       "      <td>KG</td>\n",
       "      <td>6</td>\n",
       "      <td>2013</td>\n",
       "      <td>4.5786</td>\n",
       "    </tr>\n",
       "    <tr>\n",
       "      <th>2</th>\n",
       "      <td>National Average</td>\n",
       "      <td>52</td>\n",
       "      <td>Rice - Retail</td>\n",
       "      <td>5</td>\n",
       "      <td>KG</td>\n",
       "      <td>11</td>\n",
       "      <td>2013</td>\n",
       "      <td>4.7865</td>\n",
       "    </tr>\n",
       "    <tr>\n",
       "      <th>3</th>\n",
       "      <td>National Average</td>\n",
       "      <td>52</td>\n",
       "      <td>Rice - Retail</td>\n",
       "      <td>5</td>\n",
       "      <td>KG</td>\n",
       "      <td>12</td>\n",
       "      <td>2013</td>\n",
       "      <td>5.1337</td>\n",
       "    </tr>\n",
       "    <tr>\n",
       "      <th>4</th>\n",
       "      <td>National Average</td>\n",
       "      <td>52</td>\n",
       "      <td>Rice - Retail</td>\n",
       "      <td>5</td>\n",
       "      <td>KG</td>\n",
       "      <td>1</td>\n",
       "      <td>2014</td>\n",
       "      <td>5.5099</td>\n",
       "    </tr>\n",
       "    <tr>\n",
       "      <th>...</th>\n",
       "      <td>...</td>\n",
       "      <td>...</td>\n",
       "      <td>...</td>\n",
       "      <td>...</td>\n",
       "      <td>...</td>\n",
       "      <td>...</td>\n",
       "      <td>...</td>\n",
       "      <td>...</td>\n",
       "    </tr>\n",
       "    <tr>\n",
       "      <th>7376</th>\n",
       "      <td>Izmir</td>\n",
       "      <td>502</td>\n",
       "      <td>Cocoa (powder) - Retail</td>\n",
       "      <td>5</td>\n",
       "      <td>KG</td>\n",
       "      <td>8</td>\n",
       "      <td>2019</td>\n",
       "      <td>47.9040</td>\n",
       "    </tr>\n",
       "    <tr>\n",
       "      <th>7377</th>\n",
       "      <td>Izmir</td>\n",
       "      <td>502</td>\n",
       "      <td>Cocoa (powder) - Retail</td>\n",
       "      <td>5</td>\n",
       "      <td>KG</td>\n",
       "      <td>9</td>\n",
       "      <td>2019</td>\n",
       "      <td>49.1176</td>\n",
       "    </tr>\n",
       "    <tr>\n",
       "      <th>7378</th>\n",
       "      <td>Izmir</td>\n",
       "      <td>502</td>\n",
       "      <td>Cocoa (powder) - Retail</td>\n",
       "      <td>5</td>\n",
       "      <td>KG</td>\n",
       "      <td>10</td>\n",
       "      <td>2019</td>\n",
       "      <td>50.8347</td>\n",
       "    </tr>\n",
       "    <tr>\n",
       "      <th>7379</th>\n",
       "      <td>Izmir</td>\n",
       "      <td>502</td>\n",
       "      <td>Cocoa (powder) - Retail</td>\n",
       "      <td>5</td>\n",
       "      <td>KG</td>\n",
       "      <td>11</td>\n",
       "      <td>2019</td>\n",
       "      <td>51.7985</td>\n",
       "    </tr>\n",
       "    <tr>\n",
       "      <th>7380</th>\n",
       "      <td>Izmir</td>\n",
       "      <td>502</td>\n",
       "      <td>Cocoa (powder) - Retail</td>\n",
       "      <td>5</td>\n",
       "      <td>KG</td>\n",
       "      <td>12</td>\n",
       "      <td>2019</td>\n",
       "      <td>51.6071</td>\n",
       "    </tr>\n",
       "  </tbody>\n",
       "</table>\n",
       "<p>7381 rows × 8 columns</p>\n",
       "</div>"
      ],
      "text/plain": [
       "                 Place  ProductId              ProductName  UmId UmName  \\\n",
       "0     National Average         52            Rice - Retail     5     KG   \n",
       "1     National Average         52            Rice - Retail     5     KG   \n",
       "2     National Average         52            Rice - Retail     5     KG   \n",
       "3     National Average         52            Rice - Retail     5     KG   \n",
       "4     National Average         52            Rice - Retail     5     KG   \n",
       "...                ...        ...                      ...   ...    ...   \n",
       "7376             Izmir        502  Cocoa (powder) - Retail     5     KG   \n",
       "7377             Izmir        502  Cocoa (powder) - Retail     5     KG   \n",
       "7378             Izmir        502  Cocoa (powder) - Retail     5     KG   \n",
       "7379             Izmir        502  Cocoa (powder) - Retail     5     KG   \n",
       "7380             Izmir        502  Cocoa (powder) - Retail     5     KG   \n",
       "\n",
       "      Month  Year    Price  \n",
       "0         5  2013   4.4920  \n",
       "1         6  2013   4.5786  \n",
       "2        11  2013   4.7865  \n",
       "3        12  2013   5.1337  \n",
       "4         1  2014   5.5099  \n",
       "...     ...   ...      ...  \n",
       "7376      8  2019  47.9040  \n",
       "7377      9  2019  49.1176  \n",
       "7378     10  2019  50.8347  \n",
       "7379     11  2019  51.7985  \n",
       "7380     12  2019  51.6071  \n",
       "\n",
       "[7381 rows x 8 columns]"
      ]
     },
     "metadata": {},
     "output_type": "display_data"
    },
    {
     "data": {
      "text/html": [
       "<div>\n",
       "<style scoped>\n",
       "    .dataframe tbody tr th:only-of-type {\n",
       "        vertical-align: middle;\n",
       "    }\n",
       "\n",
       "    .dataframe tbody tr th {\n",
       "        vertical-align: top;\n",
       "    }\n",
       "\n",
       "    .dataframe thead th {\n",
       "        text-align: right;\n",
       "    }\n",
       "</style>\n",
       "<table border=\"1\" class=\"dataframe\">\n",
       "  <thead>\n",
       "    <tr style=\"text-align: right;\">\n",
       "      <th></th>\n",
       "      <th>Place</th>\n",
       "      <th>ProductId</th>\n",
       "      <th>ProductName</th>\n",
       "      <th>UmId</th>\n",
       "      <th>UmName</th>\n",
       "      <th>Month</th>\n",
       "      <th>Year</th>\n",
       "      <th>Price</th>\n",
       "    </tr>\n",
       "  </thead>\n",
       "  <tbody>\n",
       "    <tr>\n",
       "      <th>0</th>\n",
       "      <td>National Average</td>\n",
       "      <td>52</td>\n",
       "      <td>Rice - Retail</td>\n",
       "      <td>5</td>\n",
       "      <td>KG</td>\n",
       "      <td>5</td>\n",
       "      <td>2013</td>\n",
       "      <td>4.4920</td>\n",
       "    </tr>\n",
       "    <tr>\n",
       "      <th>1</th>\n",
       "      <td>National Average</td>\n",
       "      <td>52</td>\n",
       "      <td>Rice - Retail</td>\n",
       "      <td>5</td>\n",
       "      <td>KG</td>\n",
       "      <td>6</td>\n",
       "      <td>2013</td>\n",
       "      <td>4.5786</td>\n",
       "    </tr>\n",
       "    <tr>\n",
       "      <th>2</th>\n",
       "      <td>National Average</td>\n",
       "      <td>52</td>\n",
       "      <td>Rice - Retail</td>\n",
       "      <td>5</td>\n",
       "      <td>KG</td>\n",
       "      <td>11</td>\n",
       "      <td>2013</td>\n",
       "      <td>4.7865</td>\n",
       "    </tr>\n",
       "    <tr>\n",
       "      <th>3</th>\n",
       "      <td>National Average</td>\n",
       "      <td>52</td>\n",
       "      <td>Rice - Retail</td>\n",
       "      <td>5</td>\n",
       "      <td>KG</td>\n",
       "      <td>12</td>\n",
       "      <td>2013</td>\n",
       "      <td>5.1337</td>\n",
       "    </tr>\n",
       "    <tr>\n",
       "      <th>4</th>\n",
       "      <td>National Average</td>\n",
       "      <td>52</td>\n",
       "      <td>Rice - Retail</td>\n",
       "      <td>5</td>\n",
       "      <td>KG</td>\n",
       "      <td>1</td>\n",
       "      <td>2014</td>\n",
       "      <td>5.5099</td>\n",
       "    </tr>\n",
       "    <tr>\n",
       "      <th>...</th>\n",
       "      <td>...</td>\n",
       "      <td>...</td>\n",
       "      <td>...</td>\n",
       "      <td>...</td>\n",
       "      <td>...</td>\n",
       "      <td>...</td>\n",
       "      <td>...</td>\n",
       "      <td>...</td>\n",
       "    </tr>\n",
       "    <tr>\n",
       "      <th>7376</th>\n",
       "      <td>Izmir</td>\n",
       "      <td>502</td>\n",
       "      <td>Cocoa (powder) - Retail</td>\n",
       "      <td>5</td>\n",
       "      <td>KG</td>\n",
       "      <td>8</td>\n",
       "      <td>2019</td>\n",
       "      <td>47.9040</td>\n",
       "    </tr>\n",
       "    <tr>\n",
       "      <th>7377</th>\n",
       "      <td>Izmir</td>\n",
       "      <td>502</td>\n",
       "      <td>Cocoa (powder) - Retail</td>\n",
       "      <td>5</td>\n",
       "      <td>KG</td>\n",
       "      <td>9</td>\n",
       "      <td>2019</td>\n",
       "      <td>49.1176</td>\n",
       "    </tr>\n",
       "    <tr>\n",
       "      <th>7378</th>\n",
       "      <td>Izmir</td>\n",
       "      <td>502</td>\n",
       "      <td>Cocoa (powder) - Retail</td>\n",
       "      <td>5</td>\n",
       "      <td>KG</td>\n",
       "      <td>10</td>\n",
       "      <td>2019</td>\n",
       "      <td>50.8347</td>\n",
       "    </tr>\n",
       "    <tr>\n",
       "      <th>7379</th>\n",
       "      <td>Izmir</td>\n",
       "      <td>502</td>\n",
       "      <td>Cocoa (powder) - Retail</td>\n",
       "      <td>5</td>\n",
       "      <td>KG</td>\n",
       "      <td>11</td>\n",
       "      <td>2019</td>\n",
       "      <td>51.7985</td>\n",
       "    </tr>\n",
       "    <tr>\n",
       "      <th>7380</th>\n",
       "      <td>Izmir</td>\n",
       "      <td>502</td>\n",
       "      <td>Cocoa (powder) - Retail</td>\n",
       "      <td>5</td>\n",
       "      <td>KG</td>\n",
       "      <td>12</td>\n",
       "      <td>2019</td>\n",
       "      <td>51.6071</td>\n",
       "    </tr>\n",
       "  </tbody>\n",
       "</table>\n",
       "<p>7381 rows × 8 columns</p>\n",
       "</div>"
      ],
      "text/plain": [
       "                 Place  ProductId              ProductName  UmId UmName  \\\n",
       "0     National Average         52            Rice - Retail     5     KG   \n",
       "1     National Average         52            Rice - Retail     5     KG   \n",
       "2     National Average         52            Rice - Retail     5     KG   \n",
       "3     National Average         52            Rice - Retail     5     KG   \n",
       "4     National Average         52            Rice - Retail     5     KG   \n",
       "...                ...        ...                      ...   ...    ...   \n",
       "7376             Izmir        502  Cocoa (powder) - Retail     5     KG   \n",
       "7377             Izmir        502  Cocoa (powder) - Retail     5     KG   \n",
       "7378             Izmir        502  Cocoa (powder) - Retail     5     KG   \n",
       "7379             Izmir        502  Cocoa (powder) - Retail     5     KG   \n",
       "7380             Izmir        502  Cocoa (powder) - Retail     5     KG   \n",
       "\n",
       "      Month  Year    Price  \n",
       "0         5  2013   4.4920  \n",
       "1         6  2013   4.5786  \n",
       "2        11  2013   4.7865  \n",
       "3        12  2013   5.1337  \n",
       "4         1  2014   5.5099  \n",
       "...     ...   ...      ...  \n",
       "7376      8  2019  47.9040  \n",
       "7377      9  2019  49.1176  \n",
       "7378     10  2019  50.8347  \n",
       "7379     11  2019  51.7985  \n",
       "7380     12  2019  51.6071  \n",
       "\n",
       "[7381 rows x 8 columns]"
      ]
     },
     "metadata": {},
     "output_type": "display_data"
    }
   ],
   "source": [
    "# nhập dữ liệu\n",
    "import pandas as pd\n",
    "import numpy as np\n",
    "# nhập data\n",
    "data = pd.read_csv('FoodPrice_in_Turkey.csv',\n",
    "                  header=0, encoding = 'ISO-8859-1')\n",
    "print('*'*20, \"nhập dữ liệu thành công\", '*'*20)\n",
    "display(data)\n",
    "data2 = pd.read_csv('FoodPrice_in_Turkey.csv',\n",
    "                  header=0, encoding = 'utf-8')\n",
    "display(data2)"
   ]
  },
  {
   "cell_type": "code",
   "execution_count": 23,
   "id": "e67a26bf",
   "metadata": {},
   "outputs": [],
   "source": [
    "data.to_csv('second_time_FoodPrice.csv')"
   ]
  },
  {
   "cell_type": "code",
   "execution_count": 25,
   "id": "b1092157",
   "metadata": {
    "scrolled": true
   },
   "outputs": [
    {
     "name": "stdout",
     "output_type": "stream",
     "text": [
      "<class 'pandas.core.frame.DataFrame'>\n",
      "RangeIndex: 7381 entries, 0 to 7380\n",
      "Data columns (total 8 columns):\n",
      " #   Column       Non-Null Count  Dtype  \n",
      "---  ------       --------------  -----  \n",
      " 0   Place        7381 non-null   object \n",
      " 1   ProductId    7381 non-null   int64  \n",
      " 2   ProductName  7381 non-null   object \n",
      " 3   UmId         7381 non-null   int64  \n",
      " 4   UmName       7381 non-null   object \n",
      " 5   Month        7381 non-null   int64  \n",
      " 6   Year         7381 non-null   int64  \n",
      " 7   Price        7381 non-null   float64\n",
      "dtypes: float64(1), int64(4), object(3)\n",
      "memory usage: 461.4+ KB\n"
     ]
    }
   ],
   "source": [
    "data.info()"
   ]
  },
  {
   "cell_type": "code",
   "execution_count": 26,
   "id": "155ea35b",
   "metadata": {},
   "outputs": [
    {
     "name": "stdout",
     "output_type": "stream",
     "text": [
      "(7381, 8)\n",
      "7381\n",
      "8\n"
     ]
    }
   ],
   "source": [
    "#Xác định số dòng và số cột của dữ liệu\n",
    "print(data.shape) # shape là property, tính chất, thuộc tính\n",
    "#Số cột\n",
    "print(data.shape[0])\n",
    "#Số hàng\n",
    "print(data.shape[1])"
   ]
  },
  {
   "cell_type": "code",
   "execution_count": null,
   "id": "9de201fb",
   "metadata": {},
   "outputs": [],
   "source": []
  }
 ],
 "metadata": {
  "kernelspec": {
   "display_name": "Python 3 (ipykernel)",
   "language": "python",
   "name": "python3"
  },
  "language_info": {
   "codemirror_mode": {
    "name": "ipython",
    "version": 3
   },
   "file_extension": ".py",
   "mimetype": "text/x-python",
   "name": "python",
   "nbconvert_exporter": "python",
   "pygments_lexer": "ipython3",
   "version": "3.9.12"
  }
 },
 "nbformat": 4,
 "nbformat_minor": 5
}
