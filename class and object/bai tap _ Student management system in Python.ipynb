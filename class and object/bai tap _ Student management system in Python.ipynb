{
 "cells": [
  {
   "cell_type": "code",
   "execution_count": null,
   "id": "58de9a64",
   "metadata": {},
   "outputs": [
    {
     "name": "stdout",
     "output_type": "stream",
     "text": [
      "\n",
      "++++++ Welcome to Evanz College Student Management System ++++++\n",
      "\n",
      "[Choice 1: Showing the List of Student]\n",
      "[Choice 2: Add New Student]\n",
      "]Choice 3: Searching Student]\n",
      "[Choice 4: Deleting a Student]\n",
      "\n",
      "Enter a choice: 3\n",
      "\n",
      "\n",
      "Choose Student Name To Search: jake\n",
      "\n",
      "++ There is No Record Found Of this Student jake ++\n"
     ]
    }
   ],
   "source": [
    "class sinhvien:\n",
    "    def __init__(self,ma,ten,tuoi,nganh,lop):\n",
    "        self.ma = ma\n",
    "        self.ten = ten\n",
    "        self.tuoi = tuoi\n",
    "        self.nganh = nganh\n",
    "        self.lop = lop\n",
    "class danhsachsv:\n",
    "     def __init__(self):\n",
    "        self.danh_sach = []\n",
    "class mainapp:\n",
    "    def chay(self):\n",
    "        danh_sach_sv = danhsachsv()\n",
    "        while True:\n",
    "            print(\"=== chương trình quản lý sinh viên ===\")\n",
    "            print(\"1. xem danh sách sinh viên\")\n",
    "            print(\"2. thêm sinh viên mới vào danh sách\")\n",
    "            print(\"3. cập nhật thông  tin sinh viên\")\n",
    "            print(\"4. xóa sinh viên khỏi danh sách\")\n",
    "            print(\"5. tìm kiếm thông tin sinh viên\")\n",
    "            print(\"6. sắp xếp thông tin sinh viên trong danh sách\")\n",
    "            print(\"7. thoát\")\n",
    "            lua_chon = input(\"chọn các chức năng như trên: \")\n",
    "            if lua_chon == '1':\n",
    "                pass\n",
    "            elif lua_chon == '2':\n",
    "                pass\n",
    "            elif lua_chon == '3':\n",
    "                pass\n",
    "            elif lua_chon == '4':\n",
    "                pass\n",
    "            elif lua_chon == '5':\n",
    "                pass\n",
    "            elif lua_chon == '6':\n",
    "                pass\n",
    "            elif lua_chon == '7':\n",
    "                return\n",
    "chuong_trinh_chinh = mainapp()\n",
    "chuong_trinh_chinh.chay()\n",
    "                "
   ]
  },
  {
   "cell_type": "code",
   "execution_count": null,
   "id": "1ccf0804",
   "metadata": {},
   "outputs": [],
   "source": []
  }
 ],
 "metadata": {
  "kernelspec": {
   "display_name": "Python 3 (ipykernel)",
   "language": "python",
   "name": "python3"
  },
  "language_info": {
   "codemirror_mode": {
    "name": "ipython",
    "version": 3
   },
   "file_extension": ".py",
   "mimetype": "text/x-python",
   "name": "python",
   "nbconvert_exporter": "python",
   "pygments_lexer": "ipython3",
   "version": "3.9.12"
  }
 },
 "nbformat": 4,
 "nbformat_minor": 5
}
