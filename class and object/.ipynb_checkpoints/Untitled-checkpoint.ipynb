{
 "cells": [
  {
   "cell_type": "code",
   "execution_count": null,
   "id": "443429c6",
   "metadata": {},
   "outputs": [],
   "source": [
    "class sinhvien:\n",
    "    def __init__(self,ma,ten,tuoi,nganh,lop):\n",
    "        self.ma = ma\n",
    "        self.ten = ten\n",
    "        self.tuoi = tuoi\n",
    "        self.nganh = nganh\n",
    "        self.lop = lop\n",
    "class danhsachsv:\n",
    "    def __init__(self):\n",
    "        self.danh_sach = []\n",
    "    def them(self):\n",
    "        print(\"*** chức năng thêm sinh viên ***\")\n",
    "        ma = input(\"nhập mã sv: \")\n",
    "        ten = input(\"nhập tên sinh viên: \")\n",
    "        tuoi = input(\"nhập tuổi sinh viên: \")\n",
    "        nganh = input(\"nhập ngành học của sinh viên: \")\n",
    "        lop = input(\"nhập lớp: \")\n",
    "        sinh_vien = sinhvien(ma,ten,tuoi,nganh,lop)\n",
    "        self.danh_sach.append(sinh_vien) \n",
    "    def hien_thi(seft):\n",
    "        print(\"*** chức năng hiển thị danh sách *** \")\n",
    "        \n",
    "        \n",
    "        \n",
    "class mainapp:\n",
    "    def chay(self):\n",
    "        danh_sach_sv = danhsachsv()\n",
    "        while True:\n",
    "            print(\"=== chương trình quản lý sinh viên ===\")\n",
    "            print(\"1. xem danh sách sinh viên\")\n",
    "            print(\"2. thêm sinh viên mới vào danh sách\")\n",
    "            print(\"3. cập nhật thông  tin sinh viên\")\n",
    "            print(\"4. xóa sinh viên khỏi danh sách\")\n",
    "            print(\"5. tìm kiếm thông tin sinh viên\")\n",
    "            print(\"6. sắp xếp thông tin sinh viên trong danh sách\")\n",
    "            print(\"7. thoát\")\n",
    "            lua_chon = input(\"chọn các chức năng như trên: \")\n",
    "            if lua_chon == '1':\n",
    "                danhsachsv.hien_thi()\n",
    "            elif lua_chon == '2':\n",
    "                danhsachsv.them()\n",
    "            elif lua_chon == '3':\n",
    "                pass\n",
    "            elif lua_chon == '4':\n",
    "                pass\n",
    "            elif lua_chon == '5':\n",
    "                pass\n",
    "            elif lua_chon == '6':\n",
    "                pass\n",
    "            elif lua_chon == '7':\n",
    "                return\n",
    "chuong_trinh_chinh = mainapp()\n",
    "chuong_trinh_chinh.chay()              "
   ]
  }
 ],
 "metadata": {
  "kernelspec": {
   "display_name": "Python 3 (ipykernel)",
   "language": "python",
   "name": "python3"
  },
  "language_info": {
   "codemirror_mode": {
    "name": "ipython",
    "version": 3
   },
   "file_extension": ".py",
   "mimetype": "text/x-python",
   "name": "python",
   "nbconvert_exporter": "python",
   "pygments_lexer": "ipython3",
   "version": "3.9.12"
  }
 },
 "nbformat": 4,
 "nbformat_minor": 5
}
