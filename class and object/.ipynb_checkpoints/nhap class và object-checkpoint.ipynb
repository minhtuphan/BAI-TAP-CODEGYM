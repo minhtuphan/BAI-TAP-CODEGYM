{
 "cells": [
  {
   "cell_type": "code",
   "execution_count": null,
   "id": "b22522d1",
   "metadata": {},
   "outputs": [],
   "source": [
    "# tạo lớp hình chũ nhật và tính diện tích\n",
    "import turtle\n",
    "class rectangle:\n",
    "    def __init__(self, x, y):\n",
    "        self.x = x    # chiều dài\n",
    "        self.y = y    # chiều rộng\n",
    "    def draw(self):\n",
    "        t = turtle.Turtle()\n",
    "        for i in range(2):\n",
    "            t.forward(self.x)\n",
    "            t.left(90)\n",
    "            t.forward(self.y)\n",
    "            t.left(90)\n",
    "        turtle.done()\n",
    "    def area(self):\n",
    "        return self.x * self.y\n",
    "c = rectangle(100,50)\n",
    "c.draw()\n",
    "s = c.area()\n",
    "print(f\"diện tích hình tròn = {s}\")"
   ]
  },
  {
   "cell_type": "code",
   "execution_count": null,
   "id": "89a393ad",
   "metadata": {},
   "outputs": [],
   "source": []
  }
 ],
 "metadata": {
  "kernelspec": {
   "display_name": "Python 3 (ipykernel)",
   "language": "python",
   "name": "python3"
  },
  "language_info": {
   "codemirror_mode": {
    "name": "ipython",
    "version": 3
   },
   "file_extension": ".py",
   "mimetype": "text/x-python",
   "name": "python",
   "nbconvert_exporter": "python",
   "pygments_lexer": "ipython3",
   "version": "3.9.12"
  }
 },
 "nbformat": 4,
 "nbformat_minor": 5
}
