{
 "cells": [
  {
   "cell_type": "code",
   "execution_count": null,
   "id": "b22522d1",
   "metadata": {},
   "outputs": [],
   "source": [
    "# tạo lớp hình chũ nhật và tính diện tích\n",
    "import turtle\n",
    "class rectangle:\n",
    "    def __init__(self, x, y):\n",
    "        self.x = x    # chiều dài\n",
    "        self.y = y    # chiều rộng\n",
    "    def draw(self):\n",
    "        t = turtle.Turtle()\n",
    "        for i in range(2):\n",
    "            t.forward(self.x)\n",
    "            t.left(90)\n",
    "            t.forward(self.y)\n",
    "            t.left(90)\n",
    "        turtle.done()\n",
    "    def area(self):\n",
    "        return self.x * self.y\n",
    "c = rectangle(100,50)\n",
    "c.draw()\n",
    "s = c.area()\n",
    "print(f\"diện tích hình tròn = {s}\")"
   ]
  },
  {
   "cell_type": "code",
   "execution_count": 3,
   "id": "89a393ad",
   "metadata": {},
   "outputs": [
    {
     "ename": "TypeError",
     "evalue": "__init__() missing 1 required positional argument: 'num'",
     "output_type": "error",
     "traceback": [
      "\u001b[1;31m---------------------------------------------------------------------------\u001b[0m",
      "\u001b[1;31mTypeError\u001b[0m                                 Traceback (most recent call last)",
      "Input \u001b[1;32mIn [3]\u001b[0m, in \u001b[0;36m<cell line: 6>\u001b[1;34m()\u001b[0m\n\u001b[0;32m      4\u001b[0m         \u001b[38;5;28mself\u001b[39m\u001b[38;5;241m.\u001b[39mnum \u001b[38;5;241m=\u001b[39m num\u001b[38;5;241m+\u001b[39m\u001b[38;5;241m10\u001b[39m\n\u001b[0;32m      5\u001b[0m         \u001b[38;5;28mprint\u001b[39m(num)\n\u001b[1;32m----> 6\u001b[0m n \u001b[38;5;241m=\u001b[39m \u001b[43mNumber\u001b[49m\u001b[43m(\u001b[49m\u001b[43m)\u001b[49m\n",
      "\u001b[1;31mTypeError\u001b[0m: __init__() missing 1 required positional argument: 'num'"
     ]
    }
   ],
   "source": [
    "class Number:\n",
    "    num = 10\n",
    "    def __init__(self, num):\n",
    "        self.num = num+10\n",
    "        print(num)\n",
    "n = Number()"
   ]
  },
  {
   "cell_type": "code",
   "execution_count": 7,
   "id": "d5ada57d",
   "metadata": {},
   "outputs": [
    {
     "name": "stdout",
     "output_type": "stream",
     "text": [
      "2021\n"
     ]
    }
   ],
   "source": [
    "class Number:\n",
    "\n",
    "    num = 10\n",
    "\n",
    "    def __init__(self, num):\n",
    "\n",
    "        self.num = num\n",
    "\n",
    "        print(self.num, end=\"\")\n",
    "\n",
    "    def __del__(self):\n",
    "\n",
    "        print(self.num+1)\n",
    "\n",
    "n = Number(20)"
   ]
  },
  {
   "cell_type": "code",
   "execution_count": 9,
   "id": "0954c26f",
   "metadata": {},
   "outputs": [
    {
     "name": "stdout",
     "output_type": "stream",
     "text": [
      "1021\n"
     ]
    }
   ],
   "source": [
    "class Number:\n",
    "\n",
    "    num = 20\n",
    "\n",
    "    def __init__(self, num=10):\n",
    "\n",
    "        self.num = num\n",
    "\n",
    "        print(num, end=\"\")\n",
    "\n",
    "    def __del__(self):\n",
    "\n",
    "        self.num = 21\n",
    "\n",
    "        print(self.num)\n",
    "\n",
    "n = Number()\n",
    "\n",
    "del n"
   ]
  },
  {
   "cell_type": "code",
   "execution_count": 10,
   "id": "172680f1",
   "metadata": {},
   "outputs": [
    {
     "ename": "TypeError",
     "evalue": "__init__() takes 1 positional argument but 2 were given",
     "output_type": "error",
     "traceback": [
      "\u001b[1;31m---------------------------------------------------------------------------\u001b[0m",
      "\u001b[1;31mTypeError\u001b[0m                                 Traceback (most recent call last)",
      "Input \u001b[1;32mIn [10]\u001b[0m, in \u001b[0;36m<cell line: 15>\u001b[1;34m()\u001b[0m\n\u001b[0;32m     11\u001b[0m     \u001b[38;5;28;01mdef\u001b[39;00m \u001b[38;5;21m__init__\u001b[39m(\u001b[38;5;28mself\u001b[39m):\n\u001b[0;32m     13\u001b[0m         \u001b[38;5;28mprint\u001b[39m(\u001b[38;5;28mself\u001b[39m\u001b[38;5;241m.\u001b[39mnum)\n\u001b[1;32m---> 15\u001b[0m n \u001b[38;5;241m=\u001b[39m \u001b[43mNumber\u001b[49m\u001b[43m(\u001b[49m\u001b[38;5;241;43m10\u001b[39;49m\u001b[43m)\u001b[49m\n",
      "\u001b[1;31mTypeError\u001b[0m: __init__() takes 1 positional argument but 2 were given"
     ]
    }
   ],
   "source": [
    "class Number:\n",
    "\n",
    "    num = 20\n",
    "\n",
    "    def __init__(self, num):\n",
    "\n",
    "        self.num = num\n",
    "\n",
    "        print(self.num)\n",
    "\n",
    "    def __init__(self):\n",
    "\n",
    "        print(self.num)\n",
    "\n",
    "n = Number(10)"
   ]
  },
  {
   "cell_type": "code",
   "execution_count": null,
   "id": "85e8460a",
   "metadata": {},
   "outputs": [],
   "source": []
  }
 ],
 "metadata": {
  "kernelspec": {
   "display_name": "Python 3 (ipykernel)",
   "language": "python",
   "name": "python3"
  },
  "language_info": {
   "codemirror_mode": {
    "name": "ipython",
    "version": 3
   },
   "file_extension": ".py",
   "mimetype": "text/x-python",
   "name": "python",
   "nbconvert_exporter": "python",
   "pygments_lexer": "ipython3",
   "version": "3.9.12"
  }
 },
 "nbformat": 4,
 "nbformat_minor": 5
}
