{
 "cells": [
  {
   "cell_type": "code",
   "execution_count": null,
   "id": "fd9d1e9c",
   "metadata": {},
   "outputs": [
    {
     "name": "stdout",
     "output_type": "stream",
     "text": [
      "nhập số đo bán kính: 100\n",
      "Chu vi của hình tròn có bán kính 100 là 628.3185307179587\n",
      "Diện tích của hình tròn có bán kính 100 là 31415.926535897932\n"
     ]
    }
   ],
   "source": [
    "import turtle\n",
    "import math\n",
    "r = int(input(\"nhập số đo bán kính: \"))\n",
    "# vẽ đường tròn bán kính đã nhập\n",
    "t = turtle.Turtle()\n",
    "t.pensize(1)\n",
    "t.color(\"red\")\n",
    "t.circle(r)\n",
    "c = 2*math.pi*r\n",
    "s = math.pi*r*r\n",
    "print(f\"Chu vi của hình tròn có bán kính {r} là {c}\")\n",
    "print(f\"Diện tích của hình tròn có bán kính {r} là {s}\")\n",
    "turtle.done()"
   ]
  }
 ],
 "metadata": {
  "kernelspec": {
   "display_name": "Python 3 (ipykernel)",
   "language": "python",
   "name": "python3"
  },
  "language_info": {
   "codemirror_mode": {
    "name": "ipython",
    "version": 3
   },
   "file_extension": ".py",
   "mimetype": "text/x-python",
   "name": "python",
   "nbconvert_exporter": "python",
   "pygments_lexer": "ipython3",
   "version": "3.9.12"
  }
 },
 "nbformat": 4,
 "nbformat_minor": 5
}
