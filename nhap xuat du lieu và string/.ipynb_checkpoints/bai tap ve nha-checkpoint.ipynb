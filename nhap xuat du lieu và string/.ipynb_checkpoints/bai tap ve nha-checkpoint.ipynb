{
 "cells": [
  {
   "cell_type": "code",
   "execution_count": 29,
   "id": "a8939f6c",
   "metadata": {},
   "outputs": [
    {
     "name": "stdout",
     "output_type": "stream",
     "text": [
      "nhập chuỗi bất kỳ: xin chao\n",
      "nhập số lần lặp: 3\n",
      "xin chao\n",
      "xin chao\n",
      "xin chao\n",
      "\n"
     ]
    }
   ],
   "source": [
    "# chuoi = input(\"nhập chuỗi bất kỳ: \")\n",
    "# i = int(input(\"nhập số lần lặp: \"))\n",
    "# chuoi2 = chuoi + \"\\n\"\n",
    "# print(chuoi2 * i)"
   ]
  },
  {
   "cell_type": "code",
   "execution_count": 85,
   "id": "1d799d4f",
   "metadata": {},
   "outputs": [],
   "source": [
    "# nam_nay = int(input(\"nhập năm hiện tại: \"))\n",
    "# nam_truoc = nam_nay - 1\n",
    "# nam_sau = nam_nay + 1\n",
    "# print(f\"Năm trước đó là {nam_truoc} và năm sau là {nam_sau}\")"
   ]
  },
  {
   "cell_type": "code",
   "execution_count": 53,
   "id": "6b63f733",
   "metadata": {},
   "outputs": [
    {
     "name": "stdout",
     "output_type": "stream",
     "text": [
      "nhập chuỗi bất kỳ: abcdf\n",
      "fdcba\n"
     ]
    }
   ],
   "source": [
    "# chuoi = input(\"nhập chuỗi bất kỳ: \")\n",
    "# chuoi_nguoc = chuoi[::-1]\n",
    "# print(chuoi_nguoc)"
   ]
  },
  {
   "cell_type": "code",
   "execution_count": 77,
   "id": "bd34f034",
   "metadata": {},
   "outputs": [
    {
     "name": "stdout",
     "output_type": "stream",
     "text": [
      "nhập chuỗi bất kỳ: xin chao cac ban\n",
      "nhập số n: 5\n",
      "c nixhao cac ban\n"
     ]
    }
   ],
   "source": [
    "# chuoi = input(\"nhập chuỗi bất kỳ: \")\n",
    "# n = int(input(\"nhập số n: \"))\n",
    "# chuoi_nguoc = chuoi[n-1::-1]\n",
    "# chuoi_con_lai = chuoi[n::1]\n",
    "# print(chuoi_nguoc,chuoi_con_lai,sep='')"
   ]
  },
  {
   "cell_type": "code",
   "execution_count": 135,
   "id": "10dd1a28",
   "metadata": {},
   "outputs": [
    {
     "name": "stdout",
     "output_type": "stream",
     "text": [
      "nhập n từ 1 đến 3: 3\n",
      "3.HM\n"
     ]
    }
   ],
   "source": [
    "chuoi = \"1.HN 2.DN 3.HM\"\n",
    "n = input(\"nhập n từ 1 đến 3: \")\n",
    "i = chuoi.find(n)\n",
    "chuoi_moi = chuoi[i:i+4]\n",
    "print(chuoi_moi)"
   ]
  },
  {
   "cell_type": "code",
   "execution_count": null,
   "id": "ac3c7ae7",
   "metadata": {},
   "outputs": [],
   "source": []
  },
  {
   "cell_type": "code",
   "execution_count": null,
   "id": "847450d6",
   "metadata": {},
   "outputs": [],
   "source": []
  }
 ],
 "metadata": {
  "kernelspec": {
   "display_name": "Python 3 (ipykernel)",
   "language": "python",
   "name": "python3"
  },
  "language_info": {
   "codemirror_mode": {
    "name": "ipython",
    "version": 3
   },
   "file_extension": ".py",
   "mimetype": "text/x-python",
   "name": "python",
   "nbconvert_exporter": "python",
   "pygments_lexer": "ipython3",
   "version": "3.9.12"
  }
 },
 "nbformat": 4,
 "nbformat_minor": 5
}
