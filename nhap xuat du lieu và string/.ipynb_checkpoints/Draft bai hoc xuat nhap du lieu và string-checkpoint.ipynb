{
 "cells": [
  {
   "cell_type": "code",
   "execution_count": 1,
   "id": "84da515b",
   "metadata": {},
   "outputs": [
    {
     "name": "stdout",
     "output_type": "stream",
     "text": [
      "Độ dài của chuỗi =  27\n"
     ]
    }
   ],
   "source": [
    "# Sử dụng hàm len để lấy độ dài của chuỗi\n",
    "my_string = \"Python programming language\"\n",
    "print(\"Độ dài của chuỗi = \", len(my_string))"
   ]
  },
  {
   "cell_type": "code",
   "execution_count": 2,
   "id": "98719c3d",
   "metadata": {},
   "outputs": [
    {
     "name": "stdout",
     "output_type": "stream",
     "text": [
      "Số lần từ 'language' xuất hiện trong chuỗi =  2\n"
     ]
    }
   ],
   "source": [
    "# Hàm count - trả về số lần chuỗi con có mặt trong chuỗi\n",
    "my_string = \"Python programming language and PHP programming language\"\n",
    "print(\"Số lần từ 'language' xuất hiện trong chuỗi = \", my_string.count('language'))"
   ]
  },
  {
   "cell_type": "code",
   "execution_count": 3,
   "id": "9047cbed",
   "metadata": {},
   "outputs": [
    {
     "name": "stdout",
     "output_type": "stream",
     "text": [
      "Chuỗi in thường =  python programming language\n"
     ]
    }
   ],
   "source": [
    "# Hàm lower() - chuyển chuỗi về dạng in thường\n",
    "my_string = \"Python programming language\"\n",
    "print(\"Chuỗi in thường = \", my_string.lower())"
   ]
  },
  {
   "cell_type": "code",
   "execution_count": 4,
   "id": "2fffe230",
   "metadata": {},
   "outputs": [
    {
     "name": "stdout",
     "output_type": "stream",
     "text": [
      "Chuỗi in hoa =  PYTHON PROGRAMMING LANGUAGE\n"
     ]
    }
   ],
   "source": [
    "# Hàm upper() - chuyển chuỗi về dạng in hoa\n",
    "my_string = \"Python programming language\"\n",
    "print(\"Chuỗi in hoa = \", my_string.upper())"
   ]
  },
  {
   "cell_type": "code",
   "execution_count": 5,
   "id": "74ade9e9",
   "metadata": {},
   "outputs": [
    {
     "name": "stdout",
     "output_type": "stream",
     "text": [
      "Chuỗi sau khi loại bỏ kí tự trắng ở đầu 'Python programming language   '\n"
     ]
    }
   ],
   "source": [
    "# Hàm lstrip - loại bỏ các kí tự trắng ở đầu chuỗi\n",
    "my_string = \"   Python programming language   \"\n",
    "print(\"Chuỗi sau khi loại bỏ kí tự trắng ở đầu '{}'\".format(my_string.lstrip()))"
   ]
  },
  {
   "cell_type": "code",
   "execution_count": 6,
   "id": "7e11ceca",
   "metadata": {},
   "outputs": [
    {
     "name": "stdout",
     "output_type": "stream",
     "text": [
      "Chuỗi sau khi loại bỏ kí tự trắng ở cuối '   Python programming language'\n"
     ]
    }
   ],
   "source": [
    "# Hàm rstrip - loại bỏ các kí tự trắng ở cuối chuỗi\n",
    "my_string = \"   Python programming language   \"\n",
    "print(\"Chuỗi sau khi loại bỏ kí tự trắng ở cuối '{}'\".format(my_string.rstrip()))"
   ]
  },
  {
   "cell_type": "code",
   "execution_count": 7,
   "id": "367a7e0d",
   "metadata": {},
   "outputs": [
    {
     "name": "stdout",
     "output_type": "stream",
     "text": [
      "Chuỗi sau khi loại bỏ kí tự trắng ở đầu và cuối chuỗi 'Python programming language'\n"
     ]
    }
   ],
   "source": [
    "# Hàm rstrip - loại bỏ các kí tự trắng ở đầu và cuối chuỗi\n",
    "my_string = \"   Python programming language   \"\n",
    "print(\"Chuỗi sau khi loại bỏ kí tự trắng ở đầu và cuối chuỗi '{}'\".format(my_string.strip()))"
   ]
  },
  {
   "cell_type": "code",
   "execution_count": 8,
   "id": "f3ff7897",
   "metadata": {},
   "outputs": [
    {
     "name": "stdout",
     "output_type": "stream",
     "text": [
      "Chuỗi sau khi chia =  ['Python', 'programming', 'language']\n"
     ]
    }
   ],
   "source": [
    "# Hàm split - chia chuỗi\n",
    "my_string = \"Python programming language\"\n",
    "print(\"Chuỗi sau khi chia = \",my_string.split(' '))"
   ]
  },
  {
   "cell_type": "code",
   "execution_count": 9,
   "id": "f918fc55",
   "metadata": {},
   "outputs": [
    {
     "name": "stdout",
     "output_type": "stream",
     "text": [
      "This is a \n",
      "good example\n",
      "This is \\x61 \\ngood example\n"
     ]
    }
   ],
   "source": [
    "print(\"This is \\x61 \\ngood example\")\n",
    "\n",
    "print(r\"This is \\x61 \\ngood example\")"
   ]
  },
  {
   "cell_type": "code",
   "execution_count": null,
   "id": "6491583d",
   "metadata": {},
   "outputs": [],
   "source": []
  }
 ],
 "metadata": {
  "kernelspec": {
   "display_name": "Python 3 (ipykernel)",
   "language": "python",
   "name": "python3"
  },
  "language_info": {
   "codemirror_mode": {
    "name": "ipython",
    "version": 3
   },
   "file_extension": ".py",
   "mimetype": "text/x-python",
   "name": "python",
   "nbconvert_exporter": "python",
   "pygments_lexer": "ipython3",
   "version": "3.9.12"
  }
 },
 "nbformat": 4,
 "nbformat_minor": 5
}
