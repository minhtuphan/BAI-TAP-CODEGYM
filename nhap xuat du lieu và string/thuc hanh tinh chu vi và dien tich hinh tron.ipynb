{
 "cells": [
  {
   "cell_type": "code",
   "execution_count": null,
   "id": "fd9d1e9c",
   "metadata": {},
   "outputs": [
    {
     "name": "stdout",
     "output_type": "stream",
     "text": [
      "nhập số đo bán kính: 100\n"
     ]
    }
   ],
   "source": [
    "import turtle\n",
    "import math\n",
    "# Giá trị nhận vào từ người dùng thông qua lệnh input là một chuỗi (string). \n",
    "# Bán kính hình tròn có kiểu dữ liệu là số, phải dùng hàm int() để chuyển đổi từ string sang số.\n",
    "r = int(input(\"nhập số đo bán kính: \"))\n",
    "# vẽ đường trong bán kinh đã nhập\n",
    "t = turtle.Turtle()\n",
    "t.hideturtle()\n",
    "t.pensize(1)\n",
    "t.color(\"red\")\n",
    "t.circle(r)\n",
    "turtle.done()\n",
    "c = 2*math.pi*r\n",
    "s = math.pi*r*r\n",
    "print(\"Chu vi của hình tròn có bán kính = {r} là {c}\".format(r=r, c=c))\n",
    "print(\"Diện tích của hình tròn có bán kính = {r} là {s}\".format(r=r, s=s))"
   ]
  }
 ],
 "metadata": {
  "kernelspec": {
   "display_name": "Python 3 (ipykernel)",
   "language": "python",
   "name": "python3"
  },
  "language_info": {
   "codemirror_mode": {
    "name": "ipython",
    "version": 3
   },
   "file_extension": ".py",
   "mimetype": "text/x-python",
   "name": "python",
   "nbconvert_exporter": "python",
   "pygments_lexer": "ipython3",
   "version": "3.9.12"
  }
 },
 "nbformat": 4,
 "nbformat_minor": 5
}
