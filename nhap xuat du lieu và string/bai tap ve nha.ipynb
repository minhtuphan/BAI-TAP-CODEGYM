{
 "cells": [
  {
   "cell_type": "code",
   "execution_count": 29,
   "id": "a8939f6c",
   "metadata": {},
   "outputs": [
    {
     "name": "stdout",
     "output_type": "stream",
     "text": [
      "nhập chuỗi bất kỳ: xin chao\n",
      "nhập số lần lặp: 3\n",
      "xin chao\n",
      "xin chao\n",
      "xin chao\n",
      "\n"
     ]
    }
   ],
   "source": [
    "# chuoi = input(\"nhập chuỗi bất kỳ: \")\n",
    "# i = int(input(\"nhập số lần lặp: \"))\n",
    "# chuoi2 = chuoi + \"\\n\"\n",
    "# print(chuoi2 * i)"
   ]
  },
  {
   "cell_type": "code",
   "execution_count": 85,
   "id": "1d799d4f",
   "metadata": {},
   "outputs": [],
   "source": [
    "# nam_nay = int(input(\"nhập năm hiện tại: \"))\n",
    "# nam_truoc = nam_nay - 1\n",
    "# nam_sau = nam_nay + 1\n",
    "# print(f\"Năm trước đó là {nam_truoc} và năm sau là {nam_sau}\")"
   ]
  },
  {
   "cell_type": "code",
   "execution_count": 53,
   "id": "6b63f733",
   "metadata": {},
   "outputs": [
    {
     "name": "stdout",
     "output_type": "stream",
     "text": [
      "nhập chuỗi bất kỳ: abcdf\n",
      "fdcba\n"
     ]
    }
   ],
   "source": [
    "# chuoi = input(\"nhập chuỗi bất kỳ: \")\n",
    "# chuoi_nguoc = chuoi[::-1]\n",
    "# print(chuoi_nguoc)"
   ]
  },
  {
   "cell_type": "code",
   "execution_count": 77,
   "id": "bd34f034",
   "metadata": {},
   "outputs": [
    {
     "name": "stdout",
     "output_type": "stream",
     "text": [
      "nhập chuỗi bất kỳ: xin chao cac ban\n",
      "nhập số n: 5\n",
      "c nixhao cac ban\n"
     ]
    }
   ],
   "source": [
    "chuoi = input(\"nhập chuỗi bất kỳ: \")\n",
    "n = int(input(\"nhập số n: \"))\n",
    "chuoi_nguoc = chuoi[n-1::-1]\n",
    "chuoi_con_lai = chuoi[n::1]\n",
    "print(chuoi_nguoc,chuoi_con_lai,sep='')"
   ]
  },
  {
   "cell_type": "code",
   "execution_count": 4,
   "id": "10dd1a28",
   "metadata": {},
   "outputs": [
    {
     "name": "stdout",
     "output_type": "stream",
     "text": [
      "nhập n từ 1 đến 3: 3\n",
      "HM\n"
     ]
    }
   ],
   "source": [
    "chuoi = \"1.HN 2.DN 3.HM\"\n",
    "n = input(\"nhập n từ 1 đến 3: \")\n",
    "i = chuoi.find(n)\n",
    "chuoi_moi = chuoi[i+2:i+4]\n",
    "print(chuoi_moi)"
   ]
  },
  {
   "cell_type": "code",
   "execution_count": 3,
   "id": "ac3c7ae7",
   "metadata": {},
   "outputs": [
    {
     "name": "stdout",
     "output_type": "stream",
     "text": [
      "nhập giá trị n: 5\n",
      "giá trị của biểu thức n/(nn*nnn) là: 0.00016380\n"
     ]
    }
   ],
   "source": [
    "n = int(input(\"nhập giá trị n: \"))\n",
    "a = 10*n + n\n",
    "b = 100*n +10*n + n\n",
    "x = n/(a*b)\n",
    "print(f\"giá trị của biểu thức n/(nn*nnn) là: {x:.8f}\")"
   ]
  },
  {
   "cell_type": "code",
   "execution_count": 24,
   "id": "847450d6",
   "metadata": {},
   "outputs": [
    {
     "name": "stdout",
     "output_type": "stream",
     "text": [
      "nhập số bất kỳ: 110\n",
      "chênh không quá 10\n"
     ]
    }
   ],
   "source": [
    "x = int(input(\"nhập số bất kỳ: \"))\n",
    "a = abs(100 - x)\n",
    "b = abs(200 - x)\n",
    "c = (a <= 10) or (b <= 10)\n",
    "print(c and \"chênh không quá 10\")"
   ]
  },
  {
   "cell_type": "code",
   "execution_count": 26,
   "id": "9de1606d",
   "metadata": {},
   "outputs": [
    {
     "name": "stdout",
     "output_type": "stream",
     "text": [
      "nhập tọa độ x1: 12\n",
      "nhập tọa độ y1: 13\n",
      "nhập tọa độ x2: 14\n",
      "nhập tọa độ y2: 15\n",
      "khoảng cách giữa 2 điểm là: 2.82842712\n"
     ]
    }
   ],
   "source": [
    "import math\n",
    "x1 = int(input(\"nhập tọa độ x1: \"))\n",
    "y1 = int(input(\"nhập tọa độ y1: \"))\n",
    "x2 = int(input(\"nhập tọa độ x2: \"))\n",
    "y2 = int(input(\"nhập tọa độ y2: \"))\n",
    "khoang_cach = math.sqrt((x2-x1)*(x2-x1) + (y2-y1)*(y2-y1))\n",
    "print(f\"khoảng cách giữa 2 điểm là: {khoang_cach:.8f}\")"
   ]
  },
  {
   "cell_type": "code",
   "execution_count": 27,
   "id": "8c04cc22",
   "metadata": {},
   "outputs": [
    {
     "name": "stdout",
     "output_type": "stream",
     "text": [
      "Nhập số giây:180000\n",
      "số giây ban đầu tương đương 2 ngày 2 giờ 0 phút 0 giây\n"
     ]
    }
   ],
   "source": [
    "a = int(input(\"Nhập số giây:\" ))\n",
    "ngay = a // (24*3600)\n",
    "so_giay = a % (24*3600)\n",
    "gio = so_giay // 3600\n",
    "so_giay = so_giay % 3600\n",
    "phut = so_giay // 60\n",
    "so_giay = so_giay % 60\n",
    "print(f\"số giây ban đầu tương đương {ngay} ngày {gio} giờ {phut} phút {so_giay} giây\")"
   ]
  },
  {
   "cell_type": "code",
   "execution_count": 28,
   "id": "f03bc0b1",
   "metadata": {},
   "outputs": [
    {
     "name": "stdout",
     "output_type": "stream",
     "text": [
      "nhập số thứ 1: 12\n",
      "nhập số thứ 2: 13\n",
      "nhập số thứ 3: 14\n",
      "số lớn nhất 14 và số nhỏ nhất 12\n"
     ]
    }
   ],
   "source": [
    "a = int(input(\"nhập số thứ 1: \"))\n",
    "b = int(input(\"nhập số thứ 2: \"))\n",
    "c = int(input(\"nhập số thứ 3: \"))\n",
    "MAX = max(a,b,c)\n",
    "MIN = min(a,b,c)\n",
    "print(f\"số lớn nhất {MAX} và số nhỏ nhất {MIN}\")"
   ]
  },
  {
   "cell_type": "code",
   "execution_count": 9,
   "id": "bbbed848",
   "metadata": {},
   "outputs": [
    {
     "name": "stdout",
     "output_type": "stream",
     "text": [
      "nhập chuỗi bất kỳ: xin chao cac ban\n",
      "***********c ban\n"
     ]
    }
   ],
   "source": [
    "chuoi = input(\"nhập chuỗi bất kỳ: \")\n",
    "chuoi_bi_cat = chuoi[:-5]\n",
    "chuoi_con_lai = chuoi[-5:]\n",
    "a = len(chuoi_bi_cat)\n",
    "print(\"*\" * a,chuoi_con_lai,sep='')"
   ]
  },
  {
   "cell_type": "code",
   "execution_count": 17,
   "id": "b616412b",
   "metadata": {},
   "outputs": [
    {
     "name": "stdout",
     "output_type": "stream",
     "text": [
      "nhập số nguyên dương 1: 12\n",
      "nhập số nguyên dương 2: 15\n",
      "nhập số nguyên dương 3: 13\n",
      "số 1: 12, số 2: 15, số 3: 13. Kết quả: có\n"
     ]
    }
   ],
   "source": [
    "x = int(input(\"nhập số nguyên dương 1: \"))\n",
    "y = int(input(\"nhập số nguyên dương 2: \"))\n",
    "z = int(input(\"nhập số nguyên dương 3: \"))\n",
    "a = (x + z) % 10 # lấy số cuối cùng của 1 số nguyên \n",
    "b = y % 10\n",
    "c = (a==b)\n",
    "print(c and f\"số 1: {x}, số 2: {y}, số 3: {z}. Kết quả: có\")"
   ]
  },
  {
   "cell_type": "code",
   "execution_count": 26,
   "id": "8eda140e",
   "metadata": {},
   "outputs": [
    {
     "name": "stdout",
     "output_type": "stream",
     "text": [
      "nhập chuỗi bất kỳ: xin chao!\n",
      "Ký tự nằm giữa là: c\n",
      "True\n"
     ]
    }
   ],
   "source": [
    "chuoi = input(\"nhập chuỗi bất kỳ: \")\n",
    "a = len(chuoi)\n",
    "b = a % 2\n",
    "c = (b==1)\n",
    "x = chuoi[a//2]\n",
    "# print(x)\n",
    "print(c and f\"Ký tự nằm giữa là: {x}\")\n",
    "print(c or f\"không có ký tự nằm giữa\")"
   ]
  },
  {
   "cell_type": "code",
   "execution_count": null,
   "id": "468a7c98",
   "metadata": {},
   "outputs": [],
   "source": []
  }
 ],
 "metadata": {
  "kernelspec": {
   "display_name": "Python 3 (ipykernel)",
   "language": "python",
   "name": "python3"
  },
  "language_info": {
   "codemirror_mode": {
    "name": "ipython",
    "version": 3
   },
   "file_extension": ".py",
   "mimetype": "text/x-python",
   "name": "python",
   "nbconvert_exporter": "python",
   "pygments_lexer": "ipython3",
   "version": "3.9.12"
  }
 },
 "nbformat": 4,
 "nbformat_minor": 5
}
