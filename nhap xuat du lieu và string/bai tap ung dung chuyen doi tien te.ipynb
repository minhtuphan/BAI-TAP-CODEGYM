{
 "cells": [
  {
   "cell_type": "code",
   "execution_count": 2,
   "id": "5efbcf35",
   "metadata": {},
   "outputs": [
    {
     "name": "stdout",
     "output_type": "stream",
     "text": [
      "nhập số tiền usd cần đổi: 100\n",
      "số tiền VN nhận được là:  2300000\n"
     ]
    }
   ],
   "source": [
    "import math\n",
    "usd = int(input(\"nhập số tiền usd cần đổi: \"))\n",
    "c = 23000\n",
    "vnd = usd * c\n",
    "print(\"số tiền VN nhận được là: \", vnd)"
   ]
  },
  {
   "cell_type": "code",
   "execution_count": null,
   "id": "b99d654a",
   "metadata": {},
   "outputs": [],
   "source": []
  }
 ],
 "metadata": {
  "kernelspec": {
   "display_name": "Python 3 (ipykernel)",
   "language": "python",
   "name": "python3"
  },
  "language_info": {
   "codemirror_mode": {
    "name": "ipython",
    "version": 3
   },
   "file_extension": ".py",
   "mimetype": "text/x-python",
   "name": "python",
   "nbconvert_exporter": "python",
   "pygments_lexer": "ipython3",
   "version": "3.9.12"
  }
 },
 "nbformat": 4,
 "nbformat_minor": 5
}
